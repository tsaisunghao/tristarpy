{
 "cells": [
  {
   "cell_type": "markdown",
   "metadata": {},
   "source": [
    "## Python Basic"
   ]
  },
  {
   "cell_type": "code",
   "execution_count": 3,
   "metadata": {
    "collapsed": false
   },
   "outputs": [
    {
     "data": {
      "text/plain": [
       "5"
      ]
     },
     "execution_count": 3,
     "metadata": {},
     "output_type": "execute_result"
    }
   ],
   "source": [
    "a = 3 \n",
    "b = 2 \n",
    "a + b"
   ]
  },
  {
   "cell_type": "code",
   "execution_count": 2,
   "metadata": {
    "collapsed": false
   },
   "outputs": [
    {
     "data": {
      "text/plain": [
       "33"
      ]
     },
     "execution_count": 2,
     "metadata": {},
     "output_type": "execute_result"
    }
   ],
   "source": [
    "print(a + 30)"
   ]
  },
  {
   "cell_type": "markdown",
   "metadata": {},
   "source": [
    "## Python Requests"
   ]
  },
  {
   "cell_type": "markdown",
   "metadata": {},
   "source": [
    "### 使用GET 抓取蘋果新聞"
   ]
  },
  {
   "cell_type": "code",
   "execution_count": 34,
   "metadata": {
    "collapsed": false
   },
   "outputs": [
    {
     "name": "stdout",
     "output_type": "stream",
     "text": [
      "<class 'requests.models.Response'>\n"
     ]
    }
   ],
   "source": [
    "import requests\n",
    "res = requests.get('http://www.appledaily.com.tw/realtimenews/section/new/')\n",
    "print(type(res))\n",
    "#print(res.text)"
   ]
  },
  {
   "cell_type": "markdown",
   "metadata": {},
   "source": [
    "### 使用POST 抓取高鐵時刻表 "
   ]
  },
  {
   "cell_type": "code",
   "execution_count": 11,
   "metadata": {
    "collapsed": false
   },
   "outputs": [],
   "source": [
    "import requests\n",
    "payload = {\n",
    "'StartStation':'977abb69-413a-4ccf-a109-0272c24fd490',\n",
    "'EndStation':'fbd828d8-b1da-4b06-a3bd-680cdca4d2cd',\n",
    "'SearchDate':'2017/02/18',\n",
    "'SearchTime':'12:00',\n",
    "'SearchWay':'DepartureInMandarin'   \n",
    "}\n",
    "res = requests.post('https://www.thsrc.com.tw/tw/TimeTable/SearchResult' , data = payload)\n",
    "#print(res.text)"
   ]
  },
  {
   "cell_type": "markdown",
   "metadata": {},
   "source": [
    "### 使用GET 抓取台鐵時刻表"
   ]
  },
  {
   "cell_type": "code",
   "execution_count": 15,
   "metadata": {
    "collapsed": false
   },
   "outputs": [],
   "source": [
    "import requests\n",
    "res = requests.get('http://twtraffic.tra.gov.tw/twrail/SearchResult.aspx?searchtype=0&searchdate=2017/02/18&fromstation=1810&tostation=1008&trainclass=%271100%27,%271101%27,%271102%27,%271107%27,%271108%27,%271110%27,%271120%27&fromtime=0600&totime=2359')\n",
    "#print(res.text)"
   ]
  },
  {
   "cell_type": "markdown",
   "metadata": {},
   "source": [
    "## 高鐵訂票"
   ]
  },
  {
   "cell_type": "code",
   "execution_count": 32,
   "metadata": {
    "collapsed": false
   },
   "outputs": [],
   "source": [
    "import requests\n",
    "payload = {\n",
    "'BookingS1Form:hf:0':'',\n",
    "'selectStartStation':'1',\n",
    "'selectDestinationStation':'3',\n",
    "'trainCon:trainRadioGroup':'0',\n",
    "'seatCon:seatRadioGroup':'radio20',\n",
    "'bookingMethod':'radio27',\n",
    "'toTimeInputField':'2017/02/18',\n",
    "'toTimeTable':'1200N',\n",
    "'toTrainIDInputField':'',\n",
    "'backTimeInputField':'2017/02/18',\n",
    "'backTimeTable':'',\n",
    "'backTrainIDInputField':'',\n",
    "'ticketPanel:rows:0:ticketAmount':'1F',\n",
    "'ticketPanel:rows:1:ticketAmount':'0H',\n",
    "'ticketPanel:rows:2:ticketAmount':'0W',\n",
    "'ticketPanel:rows:3:ticketAmount':'0E',\n",
    "'homeCaptcha:securityCode':'3A3A',\n",
    "'SubmitButton':'開始查詢'\n",
    "}\n",
    "\n",
    "headers = {\n",
    "'Accept':'text/html,application/xhtml+xml,application/xml;q=0.9,image/webp,*/*;q=0.8',    \n",
    "'Cookie':'JSESSIONID=1EF580C167785C2A4441F1DAADC4A17B; IRS-SESSION=1487389510; THSRC-IRS=!vqRXFyxM1M8RSy8rtm+Lom00d6XFObQaNTjyk2ZCMhNjRuaUAjRrBKbOHvBGE/pX/3E5ffVUkGIa/w==; __utma=214205650.1817809382.1487389512.1487389512.1487389512.1; __utmb=214205650.3.10.1487389512; __utmc=214205650; __utmz=214205650.1487389512.1.1.utmcsr=google|utmccn=(organic)|utmcmd=organic|utmctr=(not%20provided); __utmt=1; __utma=98625990.1261995891.1487389505.1487389505.1487391335.2; __utmb=98625990.1.10.1487391335; __utmc=98625990; __utmz=98625990.1487391335.2.2.utmcsr=thsrc.com.tw|utmccn=(referral)|utmcmd=referral|utmcct=/tw/TimeTable/SearchResult',\n",
    "'Host':'irs.thsrc.com.tw',\n",
    "'Referer':'https://irs.thsrc.com.tw/IMINT?locale=tw',\n",
    "'Upgrade-Insecure-Requests':'1',\n",
    "'Content-Type':'application/x-www-form-urlencoded',\n",
    "'User-Agent':'Mozilla/5.0 (Windows NT 6.1) AppleWebKit/537.36 (KHTML, like Gecko) Chrome/56.0.2924.87 Safari/537.36' \n",
    "}\n",
    "rs = requests.session()\n",
    "res = rs.post('https://irs.thsrc.com.tw/IMINT/?wicket:interface=:0:BookingS1Form::IFormSubmitListener', data = payload, headers = headers)\n",
    "res2 = rs.get('https://irs.thsrc.com.tw/IMINT/?wicket:interface=:1::', headers = headers)\n",
    "#print(res2.text)"
   ]
  },
  {
   "cell_type": "markdown",
   "metadata": {},
   "source": [
    "## 剖析頁面\n"
   ]
  },
  {
   "cell_type": "code",
   "execution_count": 37,
   "metadata": {
    "collapsed": false
   },
   "outputs": [
    {
     "name": "stdout",
     "output_type": "stream",
     "text": [
      "<class 'bs4.BeautifulSoup'>\n",
      "\n",
      "\n",
      "\n",
      "Hello World\n",
      "This is link1\n",
      "This is link2\n",
      "\n",
      "\n",
      "\n"
     ]
    }
   ],
   "source": [
    "html_sample = '''\n",
    "<html> \n",
    " <body> \n",
    " <h1 id=\"title\">Hello World</h1> \n",
    " <a href=\"#\" class=\"link\">This is link1</a> \n",
    " <a href=\"# link2\" class=\"link\">This is link2</a> \n",
    " </body> \n",
    "</html>\n",
    "'''\n",
    "\n",
    "from bs4 import BeautifulSoup\n",
    "soup = BeautifulSoup(html_sample, 'html.parser')\n",
    "print(type(soup))\n",
    "print(soup.text)"
   ]
  },
  {
   "cell_type": "code",
   "execution_count": 43,
   "metadata": {
    "collapsed": false
   },
   "outputs": [
    {
     "name": "stdout",
     "output_type": "stream",
     "text": [
      "[<h1 id=\"title\">Hello World</h1>]\n",
      "<class 'list'>\n",
      "<h1 id=\"title\">Hello World</h1>\n",
      "<class 'bs4.element.Tag'>\n",
      "Hello World\n"
     ]
    }
   ],
   "source": [
    "# get H1 value\n",
    "print(soup.select('h1'))\n",
    "print(type(soup.select('h1')))\n",
    "\n",
    "print(soup.select('h1')[0])\n",
    "print(type(soup.select('h1')[0]))\n",
    "\n",
    "print(soup.select('h1')[0].text)"
   ]
  },
  {
   "cell_type": "code",
   "execution_count": 49,
   "metadata": {
    "collapsed": false
   },
   "outputs": [
    {
     "name": "stdout",
     "output_type": "stream",
     "text": [
      "[<a class=\"link\" href=\"#\">This is link1</a>, <a class=\"link\" href=\"# link2\">This is link2</a>]\n",
      "<class 'list'>\n",
      "<a class=\"link\" href=\"#\">This is link1</a>\n",
      "This is link1\n",
      "<a class=\"link\" href=\"# link2\">This is link2</a>\n",
      "This is link2\n"
     ]
    }
   ],
   "source": [
    "# get a elements\n",
    "print(soup.select('a'))\n",
    "print(type(soup.select('a')))\n",
    "\n",
    "## get this is link1\n",
    "print(soup.select('a')[0])\n",
    "print(soup.select('a')[0].text)\n",
    "\n",
    "\n",
    "## get this is link2\n",
    "print(soup.select('a')[1])\n",
    "print(soup.select('a')[1].text)\n"
   ]
  },
  {
   "cell_type": "code",
   "execution_count": 51,
   "metadata": {
    "collapsed": false
   },
   "outputs": [
    {
     "name": "stdout",
     "output_type": "stream",
     "text": [
      "This is link1\n",
      "This is link2\n"
     ]
    }
   ],
   "source": [
    "soup.select('a')\n",
    "\n",
    "for a in soup.select('a'):\n",
    "    print(a.text)"
   ]
  },
  {
   "cell_type": "code",
   "execution_count": 57,
   "metadata": {
    "collapsed": false
   },
   "outputs": [
    {
     "name": "stdout",
     "output_type": "stream",
     "text": [
      " this is a test \n",
      "www.google.com\n",
      "123\n"
     ]
    }
   ],
   "source": [
    "b_str = '<a href=\"www.google.com\" qoo=123> this is a test </a>'\n",
    "soup2 = BeautifulSoup(b_str, 'html.parser')\n",
    "# get text\n",
    "print(soup2.select('a')[0].text)\n",
    "\n",
    "# get href \n",
    "print(soup2.select('a')[0]['href'])\n",
    "\n",
    "# get qoo\n",
    "print(soup2.select('a')[0]['qoo'])"
   ]
  },
  {
   "cell_type": "code",
   "execution_count": 59,
   "metadata": {
    "collapsed": false
   },
   "outputs": [
    {
     "name": "stdout",
     "output_type": "stream",
     "text": [
      "#\n",
      "# link2\n"
     ]
    }
   ],
   "source": [
    "soup.select('a')\n",
    "\n",
    "for a in soup.select('a'):\n",
    "    print(a['href'])"
   ]
  },
  {
   "cell_type": "code",
   "execution_count": 61,
   "metadata": {
    "collapsed": false
   },
   "outputs": [
    {
     "data": {
      "text/plain": [
       "[<h1 id=\"title\">Hello World</h1>]"
      ]
     },
     "execution_count": 61,
     "metadata": {},
     "output_type": "execute_result"
    }
   ],
   "source": [
    "# get id = title; id => #\n",
    "soup.select('#title')"
   ]
  },
  {
   "cell_type": "code",
   "execution_count": 62,
   "metadata": {
    "collapsed": false
   },
   "outputs": [
    {
     "data": {
      "text/plain": [
       "[<a class=\"link\" href=\"#\">This is link1</a>,\n",
       " <a class=\"link\" href=\"# link2\">This is link2</a>]"
      ]
     },
     "execution_count": 62,
     "metadata": {},
     "output_type": "execute_result"
    }
   ],
   "source": [
    "# get class = link; class => .\n",
    "soup.select('.link')"
   ]
  },
  {
   "cell_type": "markdown",
   "metadata": {},
   "source": [
    "## 資料蒐集實務"
   ]
  },
  {
   "cell_type": "code",
   "execution_count": 78,
   "metadata": {
    "collapsed": false
   },
   "outputs": [
    {
     "name": "stdout",
     "output_type": "stream",
     "text": [
      "財經 15:31 【三星太子爺被捕】李在鎔看似溫和　轉頭就...(26919) http://www.appledaily.com.tw/realtimenews/article/finance/20170218/1058767/【三星太子爺被捕】李在鎔看似溫和　轉頭就把老爸飛機全賣了\n",
      "娛樂 15:28 10大最強日本美少女　橋本環奈輸給她！(269) http://www.appledaily.com.tw/realtimenews/article/entertainment/20170218/1058299/10大最強日本美少女　橋本環奈輸給她！\n",
      "時尚 15:28 勢必秒殺！韓國第一潮框找她聯名…(0) http://www.appledaily.com.tw/realtimenews/article/fashion/20170218/1059099/勢必秒殺！韓國第一潮框找她聯名…\n",
      "財經 15:28 全國首創　歐付寶整合北市水費、停車費及醫...(0) http://www.appledaily.com.tw/realtimenews/article/finance/20170218/1059135/全國首創　歐付寶整合北市水費、停車費及醫療費\n",
      "娛樂 15:25 林宥嘉婚禮進度擠牙膏　靠爸當擋酒部隊(91) http://www.appledaily.com.tw/realtimenews/article/entertainment/20170218/1059137/林宥嘉婚禮進度擠牙膏　靠爸當擋酒部隊\n",
      "國際 15:25 【更新】金正男遇害幕後疑有北韓特工　大馬...(648) http://www.appledaily.com.tw/realtimenews/article/international/20170218/1059121/【更新】金正男遇害幕後疑有北韓特工　大馬鎖定4特務\n",
      "社會 15:23 【驚】少男與小高一嘿咻　代價竟要500萬(107390) http://www.appledaily.com.tw/realtimenews/article/local/20170218/1058271/【驚】少男與小高一嘿咻　代價竟要500萬\n",
      "國際 15:18 清真寺被炸80死　巴基斯坦震怒擊斃100...(593) http://www.appledaily.com.tw/realtimenews/article/international/20170218/1059133/清真寺被炸80死　巴基斯坦震怒擊斃100人\n",
      "生活 15:18 新北公布397家勞檢違法公司　超時工作最...(720) http://www.appledaily.com.tw/realtimenews/article/life/20170218/1059141/新北公布397家勞檢違法公司　超時工作最嚴重\n",
      "娛樂 15:17 丟臉丟到國外　潔西卡IG怒批台粉跟車(1103) http://www.appledaily.com.tw/realtimenews/article/entertainment/20170218/1059083/丟臉丟到國外　潔西卡IG怒批台粉跟車\n",
      "生活 15:16 【搶搭片】機捷試乘第3天　搶搭人潮依舊(4166) http://www.appledaily.com.tw/realtimenews/article/life/20170218/1058892/【搶搭片】機捷試乘第3天　搶搭人潮依舊\n",
      "生活 15:16 預防禽流感　這些行為要注意   (153) http://www.appledaily.com.tw/realtimenews/article/life/20170218/1059140/預防禽流感　這些行為要注意\n",
      "論壇 15:12 性別光譜有問題？相關單位應出面「捍衛專業...(317) http://www.appledaily.com.tw/realtimenews/article/forum/20170218/1058977/性別光譜有問題？相關單位應出面「捍衛專業」\n",
      "生活 15:12 禁宰令下沒雞賣　攤商：準備賣冰塊(342) http://www.appledaily.com.tw/realtimenews/article/life/20170218/1059120/禁宰令下沒雞賣　攤商：準備賣冰塊\n",
      "生活 15:11 【數位時代】1 天蓋好！住 50 年！2...(872) http://www.appledaily.com.tw/realtimenews/article/life/20170218/1059106/【數位時代】1天蓋好！住50年！24層厚紙板蓋成的紙盒屋Wikkelhouse\n",
      "財經 15:10 【創新拿鐵】不做行銷，三年讓微軟視為對手...(1943) http://www.appledaily.com.tw/realtimenews/article/finance/20170218/1052704/【創新拿鐵】不做行銷，三年讓微軟視為對手！團隊溝通軟體Slack成功的3大關鍵\n",
      "生活 15:10 拓海算什麼　驚呆了！田溝沒加蓋神停車(1581) http://www.appledaily.com.tw/realtimenews/article/life/20170218/1059073/拓海算什麼　驚呆了！田溝沒加蓋神停車\n",
      "體育 15:09 LPGA澳洲公開賽　李旻排名下滑T35　(24) http://www.appledaily.com.tw/realtimenews/article/sports/20170218/1059138/LPGA澳洲公開賽　李旻排名下滑T35　\n",
      "生活 15:07 觀光局查1日遊　行程太操將改2日或派雙司...(683) http://www.appledaily.com.tw/realtimenews/article/life/20170218/1059127/觀光局查1日遊　行程太操將改2日或派雙司機\n",
      "生活 15:05 北市與8家業者合作　未來可線上繳水費、停...(343) http://www.appledaily.com.tw/realtimenews/article/life/20170218/1059122/北市與8家業者合作　未來可線上繳水費、停車費\n",
      "政治 15:00 【內閣共識營】林全盼重新整隊　林聰賢、林...(1027) http://www.appledaily.com.tw/realtimenews/article/politics/20170218/1059118/【內閣共識營】林全盼重新整隊　林聰賢、林美珠低調避媒體\n",
      "國際 14:58 美嚴查中國人入境　辦簽證要提供社群網站(1423) http://www.appledaily.com.tw/realtimenews/article/international/20170218/1059102/美嚴查中國人入境　辦簽證要提供社群網站\n",
      "社會 14:56 逃攔檢失控撞車　無情男棄女友落跑(1834) http://www.appledaily.com.tw/realtimenews/article/local/20170218/1059072/逃攔檢失控撞車　無情男棄女友落跑\n",
      "社會 14:56 近海違規拖網捕魚　3艘台籍漁船人員遭法辦(582) http://www.appledaily.com.tw/realtimenews/article/local/20170218/1059112/近海違規拖網捕魚　3艘台籍漁船人員遭法辦\n",
      "國際 14:55 【冤仇片】川普手勢就是狂　被CNN惡搞(6732) http://www.appledaily.com.tw/realtimenews/article/international/20170218/1058905/【冤仇片】川普手勢就是狂　被CNN惡搞\n",
      "政治 14:55 藍委批勞動部長的工時定義　是政府帶頭當慣...(665) http://www.appledaily.com.tw/realtimenews/article/politics/20170218/1059115/藍委批勞動部長的工時定義　是政府帶頭當慣老闆\n",
      "政治 14:54 二手書店老闆楊緬因　將任民進黨媒創中心主...(782) http://www.appledaily.com.tw/realtimenews/article/politics/20170218/1059117/二手書店老闆楊緬因　將任民進黨媒創中心主任\n",
      "3C 14:51 今天上班悶爆了 「惡靈退散貼紙」保平安(1046) http://www.appledaily.com.tw/realtimenews/article/3c/20170218/1059108/今天上班悶爆了「惡靈退散貼紙」保平安\n",
      "社會 14:50 高雄護老有成　死亡車禍連2年下降(1915) http://www.appledaily.com.tw/realtimenews/article/local/20170218/1058933/高雄護老有成　死亡車禍連2年下降\n",
      "娛樂 14:50 ​林志穎這樣寵粉絲　旅館內幫吹頭髮(2896) http://www.appledaily.com.tw/realtimenews/article/entertainment/20170218/1059036/​林志穎這樣寵粉絲　旅館內幫吹頭髮\n"
     ]
    }
   ],
   "source": [
    "import requests\n",
    "from bs4 import BeautifulSoup\n",
    "res = requests.get('http://www.appledaily.com.tw/realtimenews/section/new/')\n",
    "soup = BeautifulSoup(res.text,'html.parser')\n",
    "\n",
    "DOMAIN = 'http://www.appledaily.com.tw'\n",
    "\n",
    "for news in soup.select('.rtddt a'):\n",
    "    #print(news)\n",
    "    h1   = news.select('h1')[0].text\n",
    "    time = news.select('time')[0].text\n",
    "    h2   = news.select('h2')[0].text\n",
    "    link = DOMAIN + news['href']\n",
    "    print(h2, time, h1, link)\n",
    "    #print('===================================')"
   ]
  },
  {
   "cell_type": "markdown",
   "metadata": {},
   "source": [
    "## 蘋果內文抓取"
   ]
  },
  {
   "cell_type": "code",
   "execution_count": 83,
   "metadata": {
    "collapsed": false
   },
   "outputs": [],
   "source": [
    "import requests\n",
    "from bs4 import BeautifulSoup\n",
    "detailurl = 'http://www.appledaily.com.tw/realtimenews/article/entertainment/20170218/1058299/10大最強日本美少女　橋本環奈輸給她！'\n",
    "res = requests.get(detailurl)\n",
    "#print(res.text)\n",
    "soup = BeautifulSoup(res.text, 'html.parser')"
   ]
  },
  {
   "cell_type": "markdown",
   "metadata": {},
   "source": [
    "### 存取標頭"
   ]
  },
  {
   "cell_type": "code",
   "execution_count": 94,
   "metadata": {
    "collapsed": false
   },
   "outputs": [
    {
     "data": {
      "text/plain": [
       "'10大最強日本美少女 橋本環奈輸給她！'"
      ]
     },
     "execution_count": 94,
     "metadata": {},
     "output_type": "execute_result"
    }
   ],
   "source": [
    "soup.select('#h1')[0].text\n",
    "' '.join(soup.select('#h1')[0].text.split())"
   ]
  },
  {
   "cell_type": "code",
   "execution_count": 93,
   "metadata": {
    "collapsed": false
   },
   "outputs": [
    {
     "name": "stdout",
     "output_type": "stream",
     "text": [
      "['h', 'e', 'l', 'l', 'o,', 'Good']\n",
      "hello,Good\n"
     ]
    }
   ],
   "source": [
    "a= ' h                    e        l  l o, Good'\n",
    "print(a.split())\n",
    "print(''.join(a.split()))"
   ]
  },
  {
   "cell_type": "markdown",
   "metadata": {},
   "source": [
    "### 存取內文 "
   ]
  },
  {
   "cell_type": "code",
   "execution_count": 97,
   "metadata": {
    "collapsed": false
   },
   "outputs": [
    {
     "data": {
      "text/plain": [
       "'江山代有才人出，你知道現在最夯的日本少女偶像是誰嗎？日本演藝圈人才濟濟，不少新人偶像嶄露頭角，但誰才是「最強」者呢？日本網站「goo」針對500名20~30代的網友(男女生各250名)，調查「日本最強美少女」，選出10名活耀在2016年、甚至看好她2017年發展的美少女偶像，一起看看有那些青春洋溢的少女吧！（張鈜閔／綜合報導）【日本最強美少女偶像TOP10】10、平祐奈(25票、1998年11月12日)9、武田玲奈(27票、1997年7月27日)8、松井愛莉(27票、1996年12月26日)7、藤田ニコル(31票、1998年2月20日)6、櫻井日奈子(37票、1997年4月2日)4、福原遙(39票、1998年8月28日)4、岡田結實(39票、2000年4月15日)3、中條彩未(45票、1997年2月4日)2、橋本環奈(98票、1999年2月3日)1、廣瀨鈴(142票、1998年6月19日)'"
      ]
     },
     "execution_count": 97,
     "metadata": {},
     "output_type": "execute_result"
    }
   ],
   "source": [
    "soup.select('#summary')[0].text"
   ]
  },
  {
   "cell_type": "markdown",
   "metadata": {},
   "source": [
    "### 存取時間"
   ]
  },
  {
   "cell_type": "code",
   "execution_count": 101,
   "metadata": {
    "collapsed": false
   },
   "outputs": [
    {
     "data": {
      "text/plain": [
       "'2017年02月18日15:28'"
      ]
     },
     "execution_count": 101,
     "metadata": {},
     "output_type": "execute_result"
    }
   ],
   "source": [
    "soup.select('.gggs time')[0].text"
   ]
  },
  {
   "cell_type": "markdown",
   "metadata": {},
   "source": [
    "#### datetime document\n",
    "- https://docs.python.org/3/library/datetime.html#strftime-and-strptime-behavior"
   ]
  },
  {
   "cell_type": "code",
   "execution_count": 108,
   "metadata": {
    "collapsed": false
   },
   "outputs": [
    {
     "name": "stdout",
     "output_type": "stream",
     "text": [
      "<class 'datetime.datetime'>\n",
      "<class 'str'>\n"
     ]
    }
   ],
   "source": [
    "from datetime import datetime\n",
    "currenttime = datetime.now()\n",
    "print(type(currenttime))\n",
    "\n",
    "# 時間變字串\n",
    "currenttime.strftime('%Y-%m-%d')\n",
    "\n",
    "print(type(currenttime.strftime('%Y-%m-%d')))"
   ]
  },
  {
   "cell_type": "code",
   "execution_count": 112,
   "metadata": {
    "collapsed": false
   },
   "outputs": [],
   "source": [
    "# 字串變時間\n",
    "dt = datetime.strptime('2017年02月18日15:28','%Y年%m月%d日%H:%M')"
   ]
  },
  {
   "cell_type": "code",
   "execution_count": 114,
   "metadata": {
    "collapsed": false
   },
   "outputs": [
    {
     "data": {
      "text/plain": [
       "datetime.datetime(2017, 1, 19, 15, 28)"
      ]
     },
     "execution_count": 114,
     "metadata": {},
     "output_type": "execute_result"
    }
   ],
   "source": [
    "from datetime import timedelta\n",
    "dt - timedelta(days = 30)"
   ]
  },
  {
   "cell_type": "code",
   "execution_count": 119,
   "metadata": {
    "collapsed": false
   },
   "outputs": [
    {
     "data": {
      "text/plain": [
       "2314"
      ]
     },
     "execution_count": 119,
     "metadata": {},
     "output_type": "execute_result"
    }
   ],
   "source": [
    "difftime = (currenttime - dt)\n",
    "difftime.seconds"
   ]
  },
  {
   "cell_type": "code",
   "execution_count": 120,
   "metadata": {
    "collapsed": false
   },
   "outputs": [
    {
     "data": {
      "text/plain": [
       "datetime.datetime(2017, 2, 18, 15, 28)"
      ]
     },
     "execution_count": 120,
     "metadata": {},
     "output_type": "execute_result"
    }
   ],
   "source": [
    "dt = soup.select('.gggs time')[0].text\n",
    "datetime.strptime(dt,'%Y年%m月%d日%H:%M')"
   ]
  },
  {
   "cell_type": "code",
   "execution_count": 122,
   "metadata": {
    "collapsed": false
   },
   "outputs": [
    {
     "name": "stdout",
     "output_type": "stream",
     "text": [
      "2017-02-17\n",
      "2017-02-16\n",
      "2017-02-15\n",
      "2017-02-14\n",
      "2017-02-13\n",
      "2017-02-12\n",
      "2017-02-11\n",
      "2017-02-10\n",
      "2017-02-09\n"
     ]
    }
   ],
   "source": [
    "from datetime import datetime,timedelta\n",
    "currenttime = datetime.now()\n",
    "for i in range(1,10):\n",
    "    dt = currenttime - timedelta( days = i)\n",
    "    print(dt.strftime('%Y-%m-%d'))"
   ]
  },
  {
   "cell_type": "markdown",
   "metadata": {},
   "source": [
    "##  7-11 地圖"
   ]
  },
  {
   "cell_type": "code",
   "execution_count": 150,
   "metadata": {
    "collapsed": false
   },
   "outputs": [
    {
     "data": {
      "text/plain": [
       "{'00': '基隆市',\n",
       " '01': '台北市',\n",
       " '02': '新北市',\n",
       " '03': '桃園市',\n",
       " '04': '新竹市',\n",
       " '05': '新竹縣',\n",
       " '06': '苗栗縣',\n",
       " '07': '台中市',\n",
       " '08': '彰化縣',\n",
       " '09': '南投縣',\n",
       " '10': '雲林縣',\n",
       " '11': '嘉義縣',\n",
       " '12': '嘉義市',\n",
       " '13': '台南市',\n",
       " '14': '高雄市',\n",
       " '15': '屏東縣',\n",
       " '16': '宜蘭縣',\n",
       " '17': '花蓮縣',\n",
       " '18': '台東縣',\n",
       " '19': '連江縣',\n",
       " '20': '金門縣',\n",
       " '21': '澎湖縣'}"
      ]
     },
     "execution_count": 150,
     "metadata": {},
     "output_type": "execute_result"
    }
   ],
   "source": [
    "b = '''\n",
    "<div id=\"tw\">\n",
    "                        <div id=\"keelung\">\n",
    "                            <a href=\"#\" class=\"n_1\" id=\"maplink_keelung\">基隆市</a>\n",
    "                        </div>\n",
    "                        <div id=\"taipei\">\n",
    "                            <a href=\"#\" class=\"n_1\" id=\"maplink_taipei\">台北市</a>\n",
    "                        </div>\n",
    "                        <div id=\"n_taipei\">\n",
    "                            <a href=\"#\" class=\"n_1\" id=\"maplink_n_taipei\">新北市</a>\n",
    "                        </div>\n",
    "                        <div id=\"taoyuan\">\n",
    "                            <a href=\"#\" class=\"n_2\" id=\"maplink_taoyuan\">桃園市</a>\n",
    "                        </div>\n",
    "                        <div id=\"hsinchu\">\n",
    "                            <a href=\"#\" class=\"n_2\" id=\"maplink_hsinchu\">新竹市</a>\n",
    "                        </div>\n",
    "                        <div id=\"hsinchu_cinuty\">\n",
    "                            <a href=\"#\" class=\"n_2\" id=\"maplink_hsinchu_cinuty\">新竹縣</a>\n",
    "                        </div>\n",
    "                        <div id=\"Miaoli\">\n",
    "                            <a href=\"#\" class=\"n_2\" id=\"maplink_Miaoli\">苗栗縣</a>\n",
    "                        </div>\n",
    "                        <div id=\"taichung\">\n",
    "                            <a href=\"#\" class=\"c\" id=\"maplink_taichung\">台中市</a>\n",
    "                        </div>\n",
    "                        <div id=\"changhua\">\n",
    "                            <a href=\"#\" class=\"c\" id=\"maplink_changhua\">彰化縣</a>\n",
    "                        </div>\n",
    "                        <div id=\"nantou\">\n",
    "                            <a href=\"#\" class=\"c\" id=\"maplink_nantou\">南投縣</a>\n",
    "                        </div>\n",
    "                        <div id=\"yunlin\">\n",
    "                            <a href=\"#\" class=\"w\" id=\"maplink_yunlin\">雲林縣</a>\n",
    "                        </div>\n",
    "                        <div id=\"chiayi_c\">\n",
    "                            <a href=\"#\" class=\"w\" id=\"maplink_chiayi_c\">嘉義縣</a>\n",
    "                        </div>\n",
    "                        <div id=\"chiayi\">\n",
    "                            <a href=\"#\" class=\"w\" id=\"maplink_chiayi\">嘉義市</a>\n",
    "                        </div>\n",
    "                        <div id=\"tainan\">\n",
    "                            <a href=\"#\" class=\"s\" id=\"maplink_tainan\">台南市</a>\n",
    "                        </div>\n",
    "                        <div id=\"kaohsiung\">\n",
    "                            <a href=\"#\" class=\"s\" id=\"maplink_kaohsiung\">高雄市</a>\n",
    "                        </div>\n",
    "                        <div id=\"pingtung\">\n",
    "                            <a href=\"#\" class=\"s\" id=\"maplink_pingtung\">屏東縣</a>\n",
    "                        </div>\n",
    "                        <div id=\"ilan\">\n",
    "                            <a href=\"#\" class=\"e\" id=\"maplink_ilan\">宜蘭縣</a>\n",
    "                        </div>\n",
    "                        <div id=\"hualien\">\n",
    "                            <a href=\"#\" class=\"e\" id=\"maplink_hualien\">花蓮縣</a>\n",
    "                        </div>\n",
    "                        <div id=\"taitung\">\n",
    "                            <a href=\"#\" class=\"e\" id=\"maplink_taitung\">台東縣</a>\n",
    "                        </div>\n",
    "                        <div id=\"matsu\">\n",
    "                            <a href=\"#\" class=\"w_1\" id=\"maplink_matsu\">連江縣</a>\n",
    "                        </div>\n",
    "                        <div id=\"gammon\">\n",
    "                            <a href=\"#\" class=\"w_1\" id=\"maplink_gammon\">金門縣</a>\n",
    "                        </div>\n",
    "                        <div id=\"penghu\">\n",
    "                            <a href=\"#\" class=\"w_1\" id=\"maplink_penghu\">澎湖縣</a>\n",
    "                        </div>\n",
    "                    </div>\n",
    "\n",
    "'''\n",
    "c = BeautifulSoup(b, 'html.parser')\n",
    "dic = {}\n",
    "for idx, ele in enumerate(c.select('a')):\n",
    "    dic[str(idx + 100)[-2:]] =  ele.text\n"
   ]
  },
  {
   "cell_type": "code",
   "execution_count": 151,
   "metadata": {
    "collapsed": true
   },
   "outputs": [],
   "source": [
    "\n",
    "payload2 = {'commandid':'SearchStore',\n",
    "'city':'台北市',\n",
    "'town':'大安區',\n",
    "'roadname':'',\n",
    "'ID':'',\n",
    "'StoreName':'',\n",
    "'SpecialStore_Kind':'',\n",
    "'isDining':'False',\n",
    "'isParking':'False',\n",
    "'isLavatory':'False',\n",
    "'isATM':'False',\n",
    "'is7WiFi':'False',\n",
    "'isIce':'False',\n",
    "'isHotDog':'False',\n",
    "'isHealthStations':'False',\n",
    "'isIceCream':'False',\n",
    "'isOpenStore':'False',\n",
    "'isFruit':'False',\n",
    "'isCityCafe':'False',\n",
    "'isUp':'False',\n",
    "'isOrganic':'False',\n",
    "'isCorn':'False',\n",
    "'isMakeUp':'False',\n",
    "'isMuji':'False',\n",
    "'isMD':'False',\n",
    "'isStarBucks':'False',\n",
    "'isIbon':'False',\n",
    "'isTea':'False',\n",
    "'isSweetPotato':'False',\n",
    "'address':''\n",
    "}\n",
    "def getStore(cityname, townname):\n",
    "    payload['city'] = cityname\n",
    "    payload2['town'] = townname\n",
    "    res = requests.post('https://emap.pcsc.com.tw/EMapSDK.aspx', data = payload2)\n",
    "    soup = BeautifulSoup(res.text, 'html.parser')\n",
    "    for geo in soup.select('geoposition'):\n",
    "        print(geo.select('address')[0].text)\n"
   ]
  },
  {
   "cell_type": "code",
   "execution_count": null,
   "metadata": {
    "collapsed": true
   },
   "outputs": [],
   "source": [
    "import requests\n",
    "payload = {\n",
    "'commandid':'GetTown',\n",
    "'cityid':'01',\n",
    "'isDining':'False',\n",
    "'isParking':'False',\n",
    "'isLavatory':'False',\n",
    "'isATM':'False',\n",
    "'is7WiFi':'False',\n",
    "'isIce':'False',\n",
    "'isHotDog':'False',\n",
    "'isHealthStations':'False',\n",
    "'isIceCream':'False',\n",
    "'isOpenStore':'False',\n",
    "'isFruit':'False',\n",
    "'isCityCafe':'False',\n",
    "'isUp':'False',\n",
    "'isOrganic':'False',\n",
    "'isCorn':'False',\n",
    "'isMakeUp':'False',\n",
    "'isMuji':'False',\n",
    "'isMD':'False',\n",
    "'isStarBucks':'False',\n",
    "'isIbon':'False',\n",
    "'isTea':'False',\n",
    "'isSweetPotato':'False'\n",
    "}\n",
    "for city in dic:\n",
    "    payload['cityid'] = city\n",
    "    res = requests.post('https://emap.pcsc.com.tw/EMapSDK.aspx', data = payload)\n",
    "    soup = BeautifulSoup(res.text, 'html.parser')\n",
    "    for geo in soup.select('geoposition'):\n",
    "        getStore(dic[city], geo.select('townname')[0].text)"
   ]
  },
  {
   "cell_type": "markdown",
   "metadata": {},
   "source": [
    "## PCHOME 價格"
   ]
  },
  {
   "cell_type": "code",
   "execution_count": 157,
   "metadata": {
    "collapsed": false
   },
   "outputs": [
    {
     "data": {
      "text/plain": [
       "26999"
      ]
     },
     "execution_count": 157,
     "metadata": {},
     "output_type": "execute_result"
    }
   ],
   "source": [
    "import requests\n",
    "import re, json\n",
    "res = requests.get('http://ecapi.pchome.com.tw/ecshop/prodapi/v2/prod/DYAJ83-A9007MKV6-000&store=DYAJ83&fields=Seq,Id,Name,Nick,Store,PreOrdDate,SpeOrdDate,Price,Discount,Pic,Weight,ISBN,Qty,Bonus,isBig,isSpec,isCombine,isDiy,isRecyclable,isCarrier,isMedical,isBigCart,isSnapUp,isDescAndIntroSync,isFoodContents,isHuge,isEnergySubsidy&_callback=jsonp_prod&1487408040?_callback=jsonp_prod')\n",
    "\n",
    "m = re.search('try{jsonp_prod\\((.*?)\\);}', res.text)\n",
    "jd = json.loads(m.group(1))\n",
    "jd['DYAJ83-A9007MKV6-000']['Price']['P']"
   ]
  },
  {
   "cell_type": "code",
   "execution_count": 172,
   "metadata": {
    "collapsed": false
   },
   "outputs": [
    {
     "data": {
      "text/plain": [
       "{'content': '0203更新目前業務回覆當初這台車只賣73萬5辦到好什麼設定，保險，領牌全含了所以很明顯差價部分被朋友黑了目前已決定提告-------------------如提YARIS 經典S 小弟辦到好花了 80萬8千5百元 細項如下 車價73萬5 版本經典S 貸款65萬 甲式保險6萬+強制險 設定3500 總價80萬8千5 如果在加上 貸款的利息 65萬五年 利息約9萬多 這台車總成本逼近90萬了 購買日期 105/5/30 當初因為人不在台灣 所以請台灣的友人去跟業務接洽 當初其實有覺得車價過高 有跟友人反映 但友人要求我相信他 這是他爭取最優惠的車價了 而我也秉持著人性本善的想法 返台後 因為朋友 家人都會問到車價的部分 我也老實說 所有人一致反應太高了 直到昨天 我也真的被親友提出很多關於車價的質疑 我現在也真的車價有問題 所以上來想詢問大家 我的車價 大約被貴了多少 我該如何驗證車價 我手上的資料只有 行照 跟出廠證明 還有貸款的繳費單 每月應繳12480 共60期 其他什麼都沒有! 希望大家能夠幫助我...給我建議 給我解答 我該怎麼辦?',\n",
       " 'date': '2017-02-03 00:08'}"
      ]
     },
     "execution_count": 172,
     "metadata": {},
     "output_type": "execute_result"
    }
   ],
   "source": [
    "def getDetail(url):\n",
    "    res = requests.get(url)\n",
    "    soup = BeautifulSoup(res.text, 'html.parser')\n",
    "    dt = soup.select('article .date')[0].text.split('\\xa0')[0]\n",
    "    return {'content':' '.join(soup.select('.single-post-content')[0].text.split()), 'date':dt}\n",
    "getDetail('http://www.mobile01.com/topicdetail.php?f=264&t=5056464')"
   ]
  },
  {
   "cell_type": "code",
   "execution_count": 177,
   "metadata": {
    "collapsed": false
   },
   "outputs": [],
   "source": [
    "import requests, time\n",
    "from bs4 import BeautifulSoup\n",
    "\n",
    "def getDetail(url):\n",
    "    res = requests.get(url)\n",
    "    soup = BeautifulSoup(res.text, 'html.parser')\n",
    "    dt = soup.select('article .date')[0].text.split('\\xa0')[0]\n",
    "    return {'content':' '.join(soup.select('.single-post-content')[0].text.split()), 'date':dt}\n",
    "\n",
    "DOMAIN = 'http://www.mobile01.com/'\n",
    "\n",
    "car_article = []\n",
    "for i in range(1,1080):\n",
    "    res = requests.get('http://www.mobile01.com/topiclist.php?f=264&p={}'.format(i))\n",
    "    soup = BeautifulSoup(res.text, 'html.parser')\n",
    "    for topic in soup.select('.topic_gen'):\n",
    "        link = DOMAIN + topic['href']\n",
    "        title = topic.text\n",
    "        detail = getDetail(link)\n",
    "        dic = {'link':link, 'title':title}\n",
    "        dic.update(detail)\n",
    "        car_article.append(dic)\n",
    "        print(i)\n",
    "        time.sleep(1)"
   ]
  },
  {
   "cell_type": "code",
   "execution_count": 178,
   "metadata": {
    "collapsed": false
   },
   "outputs": [
    {
     "data": {
      "text/html": [
       "<div>\n",
       "<table border=\"1\" class=\"dataframe\">\n",
       "  <thead>\n",
       "    <tr style=\"text-align: right;\">\n",
       "      <th></th>\n",
       "      <th>content</th>\n",
       "      <th>date</th>\n",
       "      <th>link</th>\n",
       "      <th>title</th>\n",
       "    </tr>\n",
       "  </thead>\n",
       "  <tbody>\n",
       "    <tr>\n",
       "      <th>0</th>\n",
       "      <td>帶著姐姐、姐夫他們來， 業務真得很老實上次成交價是745000 我帶我姐來看他告訴我今明兩天...</td>\n",
       "      <td>2017-02-18 17:16</td>\n",
       "      <td>http://www.mobile01.com/topicdetail.php?f=264&amp;...</td>\n",
       "      <td>Altis 豪華版</td>\n",
       "    </tr>\n",
       "    <tr>\n",
       "      <th>1</th>\n",
       "      <td>小弟已過不惑之年，在經歷過一些人生的變動之後，不禁想再重新追尋一些年輕時的美好，也希望藉此讓...</td>\n",
       "      <td>2016-12-26 15:52</td>\n",
       "      <td>http://www.mobile01.com/topicdetail.php?f=264&amp;...</td>\n",
       "      <td>Toyota 86手排微開箱</td>\n",
       "    </tr>\n",
       "    <tr>\n",
       "      <th>2</th>\n",
       "      <td>TOYOTA 宣傳C-HR休旅車廣告 搭上C-HR環遊世界 按這裡檢視外部影片 (按這裡在新...</td>\n",
       "      <td>2017-02-18 16:46</td>\n",
       "      <td>http://www.mobile01.com/topicdetail.php?f=264&amp;...</td>\n",
       "      <td>Toyota C-HR 快打旋風 2 廣告</td>\n",
       "    </tr>\n",
       "    <tr>\n",
       "      <th>3</th>\n",
       "      <td>一手車自駕2000年款式PREMIO E 1.6 里程約47萬公里.原廠漆鈑件已開始鏽蝕.引...</td>\n",
       "      <td>2017-02-17 21:12</td>\n",
       "      <td>http://www.mobile01.com/topicdetail.php?f=264&amp;...</td>\n",
       "      <td>PREMIO 值得翻修嗎</td>\n",
       "    </tr>\n",
       "    <tr>\n",
       "      <th>4</th>\n",
       "      <td>雖然有渦輪增壓加持，但1.2還是太鳥了 這就好比一個身高140的人，就算給他穿上喬丹鞋，也是...</td>\n",
       "      <td>2017-02-17 08:08</td>\n",
       "      <td>http://www.mobile01.com/topicdetail.php?f=264&amp;...</td>\n",
       "      <td>平心而論～CHR真正最該被嫌的致命傷是沒力的1.2引擎吧</td>\n",
       "    </tr>\n",
       "    <tr>\n",
       "      <th>5</th>\n",
       "      <td>請問有版大開車經過〝陽明山青春嶺路〞的經驗嗎？ 小弟是某天晚上因為使用導航的關係誤闖這條路，...</td>\n",
       "      <td>2017-02-18 16:10</td>\n",
       "      <td>http://www.mobile01.com/topicdetail.php?f=264&amp;...</td>\n",
       "      <td>老車~ toyota premio 2.0</td>\n",
       "    </tr>\n",
       "    <tr>\n",
       "      <th>6</th>\n",
       "      <td>年份：13年公里數：5萬通常只有六日會開一般道路通常在80左右高速公路大概140-180因為...</td>\n",
       "      <td>2017-02-04 18:57</td>\n",
       "      <td>http://www.mobile01.com/topicdetail.php?f=264&amp;...</td>\n",
       "      <td>想請問86適合哪種機油</td>\n",
       "    </tr>\n",
       "    <tr>\n",
       "      <th>7</th>\n",
       "      <td>我是選豪華EB 但沒有看到白色配黑握頂 請問大大有照片可供參考排車嗎？</td>\n",
       "      <td>2017-02-17 15:52</td>\n",
       "      <td>http://www.mobile01.com/topicdetail.php?f=264&amp;...</td>\n",
       "      <td>chr 已排車 白色 黑握頂</td>\n",
       "    </tr>\n",
       "    <tr>\n",
       "      <th>8</th>\n",
       "      <td>CHR 1.2T 引擎數據 引用大陸COROLLA 1.2T的引擎資料，扭力跟艾薩克提及的一...</td>\n",
       "      <td>2017-02-16 16:15</td>\n",
       "      <td>http://www.mobile01.com/topicdetail.php?f=264&amp;...</td>\n",
       "      <td>CHR 1.2T 引擎數據引用大陸COROLLA 1.2T資料</td>\n",
       "    </tr>\n",
       "    <tr>\n",
       "      <th>9</th>\n",
       "      <td>0203更新目前業務回覆當初這台車只賣73萬5辦到好什麼設定，保險，領牌全含了所以很明顯差價...</td>\n",
       "      <td>2017-02-03 00:08</td>\n",
       "      <td>http://www.mobile01.com/topicdetail.php?f=264&amp;...</td>\n",
       "      <td>YARIS 經典S  小弟辦到好花了  80萬8千5百元</td>\n",
       "    </tr>\n",
       "    <tr>\n",
       "      <th>10</th>\n",
       "      <td>各位先進好： 小弟有個1997年 TERCEL 1.5油耗問題想要請教， 就是加1000元9...</td>\n",
       "      <td>2013-07-15 13:47</td>\n",
       "      <td>http://www.mobile01.com/topicdetail.php?f=264&amp;...</td>\n",
       "      <td>1997年 TERCEL油耗問題</td>\n",
       "    </tr>\n",
       "    <tr>\n",
       "      <th>11</th>\n",
       "      <td>各位PRIUS 3 的車主們， 最近在本版閑逛時看到好多人的油耗幾乎都在25-26KM/L ...</td>\n",
       "      <td>2016-03-03 08:07</td>\n",
       "      <td>http://www.mobile01.com/topicdetail.php?f=264&amp;...</td>\n",
       "      <td>二手PRIUS 3 (2012年）油耗20.83KM/L （4...</td>\n",
       "    </tr>\n",
       "    <tr>\n",
       "      <th>12</th>\n",
       "      <td>神車之名號！名不虛傳！ 全球百大暢銷車排行榜出爐！TOYOTA Corolla勇奪冠軍寶座</td>\n",
       "      <td>2017-02-16 21:46</td>\n",
       "      <td>http://www.mobile01.com/topicdetail.php?f=264&amp;...</td>\n",
       "      <td>全球百大暢銷車排行榜出爐！</td>\n",
       "    </tr>\n",
       "    <tr>\n",
       "      <th>13</th>\n",
       "      <td>想說過年前跟女友一起買一台代步車 因為預算真的有限 從台北比到桃園 最後決定在桃園下單了 經...</td>\n",
       "      <td>2017-01-22 21:35</td>\n",
       "      <td>http://www.mobile01.com/topicdetail.php?f=264&amp;...</td>\n",
       "      <td>2017的空車Yaris菜單分享</td>\n",
       "    </tr>\n",
       "    <tr>\n",
       "      <th>14</th>\n",
       "      <td>一台97.9萬以上的車 還在用一般鹵素燈泡？！ 還是17吋樸素輪框 用17吋框還可以勉強接受...</td>\n",
       "      <td>2017-02-16 22:06</td>\n",
       "      <td>http://www.mobile01.com/topicdetail.php?f=264&amp;...</td>\n",
       "      <td>如果CHR是這種價格規格我想大家比較能接受</td>\n",
       "    </tr>\n",
       "    <tr>\n",
       "      <th>15</th>\n",
       "      <td>Toyota剛剛發佈 共分三個等級 91.9萬元至109.9萬元 即時新聞搶先看:http:...</td>\n",
       "      <td>2017-02-16 11:26</td>\n",
       "      <td>http://www.mobile01.com/topicdetail.php?f=264&amp;...</td>\n",
       "      <td>【國內新訊】Toyota C-HR預售價正式公佈，分成三等級...</td>\n",
       "    </tr>\n",
       "    <tr>\n",
       "      <th>16</th>\n",
       "      <td>因老爸一台第一代WISH車舊了，最近考慮換車 不過比較了一下近期推出的SIENTA 安全配備...</td>\n",
       "      <td>2017-02-12 19:19</td>\n",
       "      <td>http://www.mobile01.com/topicdetail.php?f=264&amp;...</td>\n",
       "      <td>2/12 ALTIS豪華版 今日跨縣市比價菜單分享~</td>\n",
       "    </tr>\n",
       "    <tr>\n",
       "      <th>17</th>\n",
       "      <td>新聞來源： http://tw.iscarmg.com/index.php/hottest/...</td>\n",
       "      <td>2017-02-08 12:33</td>\n",
       "      <td>http://www.mobile01.com/topicdetail.php?f=264&amp;...</td>\n",
       "      <td>[新聞]台灣平民插電式油電車時代即將來臨了嗎?</td>\n",
       "    </tr>\n",
       "    <tr>\n",
       "      <th>18</th>\n",
       "      <td>Yaris豪華+ 精裝 基本贈品都有 附送行車記錄器前後 和倒車影像(沒搭配影音8合1) 他...</td>\n",
       "      <td>2017-02-13 19:20</td>\n",
       "      <td>http://www.mobile01.com/topicdetail.php?f=264&amp;...</td>\n",
       "      <td>Yaris豪華+</td>\n",
       "    </tr>\n",
       "    <tr>\n",
       "      <th>19</th>\n",
       "      <td>new Prius車主大家好～ 最近有購車計畫、這一輛車看過、還沒試駕 在購車名單之內 我每...</td>\n",
       "      <td>2017-02-17 10:42</td>\n",
       "      <td>http://www.mobile01.com/topicdetail.php?f=264&amp;...</td>\n",
       "      <td>買new Prius 的5個理由、和3個缺點！？</td>\n",
       "    </tr>\n",
       "    <tr>\n",
       "      <th>20</th>\n",
       "      <td>預購價表3/8記者發表會這只是預購價正式售價和泰三月初才會公佈！</td>\n",
       "      <td>2017-02-16 11:28</td>\n",
       "      <td>http://www.mobile01.com/topicdetail.php?f=264&amp;...</td>\n",
       "      <td>TOYOTA CH-R 預購價表單</td>\n",
       "    </tr>\n",
       "    <tr>\n",
       "      <th>21</th>\n",
       "      <td>想想看，一個鋁罐裡面放了一隻蟑螂，然後在裡面塞滿棉花，然後一腳踩下鋁罐，蟑螂還是爆漿往生了 ...</td>\n",
       "      <td>2016-10-06 14:11</td>\n",
       "      <td>http://www.mobile01.com/topicdetail.php?f=264&amp;...</td>\n",
       "      <td>承認吧～從物理學角度來看，車體剛性不加強，氣囊再多也枉然？</td>\n",
       "    </tr>\n",
       "    <tr>\n",
       "      <th>22</th>\n",
       "      <td>在PTT看到有位大大買了神A 現金成交價：71.9萬 保險+領牌 實支實付 如果頭期抓15萬...</td>\n",
       "      <td>2017-02-12 15:17</td>\n",
       "      <td>http://www.mobile01.com/topicdetail.php?f=264&amp;...</td>\n",
       "      <td>桃園想貸款買Atis豪華</td>\n",
       "    </tr>\n",
       "    <tr>\n",
       "      <th>23</th>\n",
       "      <td>感謝賜教1515151515</td>\n",
       "      <td>2017-02-17 11:43</td>\n",
       "      <td>http://www.mobile01.com/topicdetail.php?f=264&amp;...</td>\n",
       "      <td>請問現金60萬有辦法買到2014年式的二手白色RAV4嗎？</td>\n",
       "    </tr>\n",
       "    <tr>\n",
       "      <th>24</th>\n",
       "      <td>老A秀(TOYOTA EXSIOR )還有人在開嗎 個人認為A秀還是有股味道，即使現代車子進...</td>\n",
       "      <td>2016-12-21 23:02</td>\n",
       "      <td>http://www.mobile01.com/topicdetail.php?f=264&amp;...</td>\n",
       "      <td>TOYOTA EXSIOR A秀</td>\n",
       "    </tr>\n",
       "    <tr>\n",
       "      <th>25</th>\n",
       "      <td>請問一下我的altis老車 最近冷氣不冷了~半年前有灌過~可是現在又完全不冷了 有給人家大概...</td>\n",
       "      <td>2017-02-15 18:50</td>\n",
       "      <td>http://www.mobile01.com/topicdetail.php?f=264&amp;...</td>\n",
       "      <td>altis 漏冷媒?</td>\n",
       "    </tr>\n",
       "    <tr>\n",
       "      <th>26</th>\n",
       "      <td>過年前工作忙是合理的 過年時去當假日工讀生也是正常的 過年後終於忙完來訂個車當然是應該的 但...</td>\n",
       "      <td>2017-02-06 05:01</td>\n",
       "      <td>http://www.mobile01.com/topicdetail.php?f=264&amp;...</td>\n",
       "      <td>C-HR 台灣訂單已經排到破千了？</td>\n",
       "    </tr>\n",
       "    <tr>\n",
       "      <th>27</th>\n",
       "      <td>來源 http://tw.iscarmg.com/index.php/top-news/ta...</td>\n",
       "      <td>2017-02-16 19:36</td>\n",
       "      <td>http://www.mobile01.com/topicdetail.php?f=264&amp;...</td>\n",
       "      <td>尊爵不凡的C-HR 價格 91.9 ~ 109.9萬</td>\n",
       "    </tr>\n",
       "    <tr>\n",
       "      <th>28</th>\n",
       "      <td>文章刪除，刪除文章，文章刪除。如標題</td>\n",
       "      <td>2017-02-17 00:26</td>\n",
       "      <td>http://www.mobile01.com/topicdetail.php?f=264&amp;...</td>\n",
       "      <td>刪除文章</td>\n",
       "    </tr>\n",
       "    <tr>\n",
       "      <th>29</th>\n",
       "      <td>Toyota C-HR價格若如傳說中為120萬,那AUDI Q3,BMW X1,M.B GL...</td>\n",
       "      <td>2017-02-07 11:40</td>\n",
       "      <td>http://www.mobile01.com/topicdetail.php?f=264&amp;...</td>\n",
       "      <td>豪華SUV,C-HR正面挑戰</td>\n",
       "    </tr>\n",
       "    <tr>\n",
       "      <th>30</th>\n",
       "      <td>CHR的價格比CX-3和Vitara高一點 不過車身空間也大一些 CHR價位和國產的KUGA...</td>\n",
       "      <td>2017-02-16 14:00</td>\n",
       "      <td>http://www.mobile01.com/topicdetail.php?f=264&amp;...</td>\n",
       "      <td>大家覺得CHR的對手是進口的CX-3和Vitara,還是國產...</td>\n",
       "    </tr>\n",
       "  </tbody>\n",
       "</table>\n",
       "</div>"
      ],
      "text/plain": [
       "                                              content              date  \\\n",
       "0   帶著姐姐、姐夫他們來， 業務真得很老實上次成交價是745000 我帶我姐來看他告訴我今明兩天...  2017-02-18 17:16   \n",
       "1   小弟已過不惑之年，在經歷過一些人生的變動之後，不禁想再重新追尋一些年輕時的美好，也希望藉此讓...  2016-12-26 15:52   \n",
       "2   TOYOTA 宣傳C-HR休旅車廣告 搭上C-HR環遊世界 按這裡檢視外部影片 (按這裡在新...  2017-02-18 16:46   \n",
       "3   一手車自駕2000年款式PREMIO E 1.6 里程約47萬公里.原廠漆鈑件已開始鏽蝕.引...  2017-02-17 21:12   \n",
       "4   雖然有渦輪增壓加持，但1.2還是太鳥了 這就好比一個身高140的人，就算給他穿上喬丹鞋，也是...  2017-02-17 08:08   \n",
       "5   請問有版大開車經過〝陽明山青春嶺路〞的經驗嗎？ 小弟是某天晚上因為使用導航的關係誤闖這條路，...  2017-02-18 16:10   \n",
       "6   年份：13年公里數：5萬通常只有六日會開一般道路通常在80左右高速公路大概140-180因為...  2017-02-04 18:57   \n",
       "7                 我是選豪華EB 但沒有看到白色配黑握頂 請問大大有照片可供參考排車嗎？  2017-02-17 15:52   \n",
       "8   CHR 1.2T 引擎數據 引用大陸COROLLA 1.2T的引擎資料，扭力跟艾薩克提及的一...  2017-02-16 16:15   \n",
       "9   0203更新目前業務回覆當初這台車只賣73萬5辦到好什麼設定，保險，領牌全含了所以很明顯差價...  2017-02-03 00:08   \n",
       "10  各位先進好： 小弟有個1997年 TERCEL 1.5油耗問題想要請教， 就是加1000元9...  2013-07-15 13:47   \n",
       "11  各位PRIUS 3 的車主們， 最近在本版閑逛時看到好多人的油耗幾乎都在25-26KM/L ...  2016-03-03 08:07   \n",
       "12      神車之名號！名不虛傳！ 全球百大暢銷車排行榜出爐！TOYOTA Corolla勇奪冠軍寶座  2017-02-16 21:46   \n",
       "13  想說過年前跟女友一起買一台代步車 因為預算真的有限 從台北比到桃園 最後決定在桃園下單了 經...  2017-01-22 21:35   \n",
       "14  一台97.9萬以上的車 還在用一般鹵素燈泡？！ 還是17吋樸素輪框 用17吋框還可以勉強接受...  2017-02-16 22:06   \n",
       "15  Toyota剛剛發佈 共分三個等級 91.9萬元至109.9萬元 即時新聞搶先看:http:...  2017-02-16 11:26   \n",
       "16  因老爸一台第一代WISH車舊了，最近考慮換車 不過比較了一下近期推出的SIENTA 安全配備...  2017-02-12 19:19   \n",
       "17  新聞來源： http://tw.iscarmg.com/index.php/hottest/...  2017-02-08 12:33   \n",
       "18  Yaris豪華+ 精裝 基本贈品都有 附送行車記錄器前後 和倒車影像(沒搭配影音8合1) 他...  2017-02-13 19:20   \n",
       "19  new Prius車主大家好～ 最近有購車計畫、這一輛車看過、還沒試駕 在購車名單之內 我每...  2017-02-17 10:42   \n",
       "20                   預購價表3/8記者發表會這只是預購價正式售價和泰三月初才會公佈！  2017-02-16 11:28   \n",
       "21  想想看，一個鋁罐裡面放了一隻蟑螂，然後在裡面塞滿棉花，然後一腳踩下鋁罐，蟑螂還是爆漿往生了 ...  2016-10-06 14:11   \n",
       "22  在PTT看到有位大大買了神A 現金成交價：71.9萬 保險+領牌 實支實付 如果頭期抓15萬...  2017-02-12 15:17   \n",
       "23                                     感謝賜教1515151515  2017-02-17 11:43   \n",
       "24  老A秀(TOYOTA EXSIOR )還有人在開嗎 個人認為A秀還是有股味道，即使現代車子進...  2016-12-21 23:02   \n",
       "25  請問一下我的altis老車 最近冷氣不冷了~半年前有灌過~可是現在又完全不冷了 有給人家大概...  2017-02-15 18:50   \n",
       "26  過年前工作忙是合理的 過年時去當假日工讀生也是正常的 過年後終於忙完來訂個車當然是應該的 但...  2017-02-06 05:01   \n",
       "27  來源 http://tw.iscarmg.com/index.php/top-news/ta...  2017-02-16 19:36   \n",
       "28                                 文章刪除，刪除文章，文章刪除。如標題  2017-02-17 00:26   \n",
       "29  Toyota C-HR價格若如傳說中為120萬,那AUDI Q3,BMW X1,M.B GL...  2017-02-07 11:40   \n",
       "30  CHR的價格比CX-3和Vitara高一點 不過車身空間也大一些 CHR價位和國產的KUGA...  2017-02-16 14:00   \n",
       "\n",
       "                                                 link  \\\n",
       "0   http://www.mobile01.com/topicdetail.php?f=264&...   \n",
       "1   http://www.mobile01.com/topicdetail.php?f=264&...   \n",
       "2   http://www.mobile01.com/topicdetail.php?f=264&...   \n",
       "3   http://www.mobile01.com/topicdetail.php?f=264&...   \n",
       "4   http://www.mobile01.com/topicdetail.php?f=264&...   \n",
       "5   http://www.mobile01.com/topicdetail.php?f=264&...   \n",
       "6   http://www.mobile01.com/topicdetail.php?f=264&...   \n",
       "7   http://www.mobile01.com/topicdetail.php?f=264&...   \n",
       "8   http://www.mobile01.com/topicdetail.php?f=264&...   \n",
       "9   http://www.mobile01.com/topicdetail.php?f=264&...   \n",
       "10  http://www.mobile01.com/topicdetail.php?f=264&...   \n",
       "11  http://www.mobile01.com/topicdetail.php?f=264&...   \n",
       "12  http://www.mobile01.com/topicdetail.php?f=264&...   \n",
       "13  http://www.mobile01.com/topicdetail.php?f=264&...   \n",
       "14  http://www.mobile01.com/topicdetail.php?f=264&...   \n",
       "15  http://www.mobile01.com/topicdetail.php?f=264&...   \n",
       "16  http://www.mobile01.com/topicdetail.php?f=264&...   \n",
       "17  http://www.mobile01.com/topicdetail.php?f=264&...   \n",
       "18  http://www.mobile01.com/topicdetail.php?f=264&...   \n",
       "19  http://www.mobile01.com/topicdetail.php?f=264&...   \n",
       "20  http://www.mobile01.com/topicdetail.php?f=264&...   \n",
       "21  http://www.mobile01.com/topicdetail.php?f=264&...   \n",
       "22  http://www.mobile01.com/topicdetail.php?f=264&...   \n",
       "23  http://www.mobile01.com/topicdetail.php?f=264&...   \n",
       "24  http://www.mobile01.com/topicdetail.php?f=264&...   \n",
       "25  http://www.mobile01.com/topicdetail.php?f=264&...   \n",
       "26  http://www.mobile01.com/topicdetail.php?f=264&...   \n",
       "27  http://www.mobile01.com/topicdetail.php?f=264&...   \n",
       "28  http://www.mobile01.com/topicdetail.php?f=264&...   \n",
       "29  http://www.mobile01.com/topicdetail.php?f=264&...   \n",
       "30  http://www.mobile01.com/topicdetail.php?f=264&...   \n",
       "\n",
       "                                 title  \n",
       "0                            Altis 豪華版  \n",
       "1                       Toyota 86手排微開箱  \n",
       "2                Toyota C-HR 快打旋風 2 廣告  \n",
       "3                         PREMIO 值得翻修嗎  \n",
       "4         平心而論～CHR真正最該被嫌的致命傷是沒力的1.2引擎吧  \n",
       "5                老車~ toyota premio 2.0  \n",
       "6                          想請問86適合哪種機油  \n",
       "7                       chr 已排車 白色 黑握頂  \n",
       "8      CHR 1.2T 引擎數據引用大陸COROLLA 1.2T資料  \n",
       "9         YARIS 經典S  小弟辦到好花了  80萬8千5百元  \n",
       "10                    1997年 TERCEL油耗問題  \n",
       "11  二手PRIUS 3 (2012年）油耗20.83KM/L （4...  \n",
       "12                       全球百大暢銷車排行榜出爐！  \n",
       "13                    2017的空車Yaris菜單分享  \n",
       "14               如果CHR是這種價格規格我想大家比較能接受  \n",
       "15   【國內新訊】Toyota C-HR預售價正式公佈，分成三等級...  \n",
       "16          2/12 ALTIS豪華版 今日跨縣市比價菜單分享~  \n",
       "17             [新聞]台灣平民插電式油電車時代即將來臨了嗎?  \n",
       "18                            Yaris豪華+  \n",
       "19            買new Prius 的5個理由、和3個缺點！？  \n",
       "20                   TOYOTA CH-R 預購價表單  \n",
       "21       承認吧～從物理學角度來看，車體剛性不加強，氣囊再多也枉然？  \n",
       "22                        桃園想貸款買Atis豪華  \n",
       "23       請問現金60萬有辦法買到2014年式的二手白色RAV4嗎？  \n",
       "24                    TOYOTA EXSIOR A秀  \n",
       "25                          altis 漏冷媒?  \n",
       "26                   C-HR 台灣訂單已經排到破千了？  \n",
       "27          尊爵不凡的C-HR 價格 91.9 ~ 109.9萬  \n",
       "28                                刪除文章  \n",
       "29                      豪華SUV,C-HR正面挑戰  \n",
       "30   大家覺得CHR的對手是進口的CX-3和Vitara,還是國產...  "
      ]
     },
     "execution_count": 178,
     "metadata": {},
     "output_type": "execute_result"
    }
   ],
   "source": [
    "import pandas\n",
    "df = pandas.DataFrame(car_article)\n",
    "df"
   ]
  },
  {
   "cell_type": "code",
   "execution_count": 180,
   "metadata": {
    "collapsed": false
   },
   "outputs": [],
   "source": [
    "df.to_excel('mobile01.xlsx')"
   ]
  },
  {
   "cell_type": "code",
   "execution_count": null,
   "metadata": {
    "collapsed": true
   },
   "outputs": [],
   "source": []
  }
 ],
 "metadata": {
  "kernelspec": {
   "display_name": "Python 3",
   "language": "python",
   "name": "python3"
  },
  "language_info": {
   "codemirror_mode": {
    "name": "ipython",
    "version": 3
   },
   "file_extension": ".py",
   "mimetype": "text/x-python",
   "name": "python",
   "nbconvert_exporter": "python",
   "pygments_lexer": "ipython3",
   "version": "3.6.0"
  }
 },
 "nbformat": 4,
 "nbformat_minor": 2
}
