{
 "cells": [
  {
   "cell_type": "markdown",
   "metadata": {},
   "source": [
    "## Python Basic"
   ]
  },
  {
   "cell_type": "code",
   "execution_count": 3,
   "metadata": {
    "collapsed": false
   },
   "outputs": [
    {
     "data": {
      "text/plain": [
       "5"
      ]
     },
     "execution_count": 3,
     "metadata": {},
     "output_type": "execute_result"
    }
   ],
   "source": [
    "a = 3 \n",
    "b = 2 \n",
    "a + b"
   ]
  },
  {
   "cell_type": "code",
   "execution_count": 2,
   "metadata": {
    "collapsed": false
   },
   "outputs": [
    {
     "data": {
      "text/plain": [
       "33"
      ]
     },
     "execution_count": 2,
     "metadata": {},
     "output_type": "execute_result"
    }
   ],
   "source": [
    "print(a + 30)"
   ]
  },
  {
   "cell_type": "markdown",
   "metadata": {},
   "source": [
    "## Python Requests"
   ]
  },
  {
   "cell_type": "markdown",
   "metadata": {},
   "source": [
    "### 使用GET 抓取蘋果新聞"
   ]
  },
  {
   "cell_type": "code",
   "execution_count": 34,
   "metadata": {
    "collapsed": false
   },
   "outputs": [
    {
     "name": "stdout",
     "output_type": "stream",
     "text": [
      "<class 'requests.models.Response'>\n"
     ]
    }
   ],
   "source": [
    "import requests\n",
    "res = requests.get('http://www.appledaily.com.tw/realtimenews/section/new/')\n",
    "print(type(res))\n",
    "#print(res.text)"
   ]
  },
  {
   "cell_type": "markdown",
   "metadata": {},
   "source": [
    "### 使用POST 抓取高鐵時刻表 "
   ]
  },
  {
   "cell_type": "code",
   "execution_count": 11,
   "metadata": {
    "collapsed": false
   },
   "outputs": [],
   "source": [
    "import requests\n",
    "payload = {\n",
    "'StartStation':'977abb69-413a-4ccf-a109-0272c24fd490',\n",
    "'EndStation':'fbd828d8-b1da-4b06-a3bd-680cdca4d2cd',\n",
    "'SearchDate':'2017/02/18',\n",
    "'SearchTime':'12:00',\n",
    "'SearchWay':'DepartureInMandarin'   \n",
    "}\n",
    "res = requests.post('https://www.thsrc.com.tw/tw/TimeTable/SearchResult' , data = payload)\n",
    "#print(res.text)"
   ]
  },
  {
   "cell_type": "markdown",
   "metadata": {},
   "source": [
    "### 使用GET 抓取台鐵時刻表"
   ]
  },
  {
   "cell_type": "code",
   "execution_count": 15,
   "metadata": {
    "collapsed": false
   },
   "outputs": [],
   "source": [
    "import requests\n",
    "res = requests.get('http://twtraffic.tra.gov.tw/twrail/SearchResult.aspx?searchtype=0&searchdate=2017/02/18&fromstation=1810&tostation=1008&trainclass=%271100%27,%271101%27,%271102%27,%271107%27,%271108%27,%271110%27,%271120%27&fromtime=0600&totime=2359')\n",
    "#print(res.text)"
   ]
  },
  {
   "cell_type": "markdown",
   "metadata": {},
   "source": [
    "## 高鐵訂票"
   ]
  },
  {
   "cell_type": "code",
   "execution_count": 32,
   "metadata": {
    "collapsed": false
   },
   "outputs": [],
   "source": [
    "import requests\n",
    "payload = {\n",
    "'BookingS1Form:hf:0':'',\n",
    "'selectStartStation':'1',\n",
    "'selectDestinationStation':'3',\n",
    "'trainCon:trainRadioGroup':'0',\n",
    "'seatCon:seatRadioGroup':'radio20',\n",
    "'bookingMethod':'radio27',\n",
    "'toTimeInputField':'2017/02/18',\n",
    "'toTimeTable':'1200N',\n",
    "'toTrainIDInputField':'',\n",
    "'backTimeInputField':'2017/02/18',\n",
    "'backTimeTable':'',\n",
    "'backTrainIDInputField':'',\n",
    "'ticketPanel:rows:0:ticketAmount':'1F',\n",
    "'ticketPanel:rows:1:ticketAmount':'0H',\n",
    "'ticketPanel:rows:2:ticketAmount':'0W',\n",
    "'ticketPanel:rows:3:ticketAmount':'0E',\n",
    "'homeCaptcha:securityCode':'3A3A',\n",
    "'SubmitButton':'開始查詢'\n",
    "}\n",
    "\n",
    "headers = {\n",
    "'Accept':'text/html,application/xhtml+xml,application/xml;q=0.9,image/webp,*/*;q=0.8',    \n",
    "'Cookie':'JSESSIONID=1EF580C167785C2A4441F1DAADC4A17B; IRS-SESSION=1487389510; THSRC-IRS=!vqRXFyxM1M8RSy8rtm+Lom00d6XFObQaNTjyk2ZCMhNjRuaUAjRrBKbOHvBGE/pX/3E5ffVUkGIa/w==; __utma=214205650.1817809382.1487389512.1487389512.1487389512.1; __utmb=214205650.3.10.1487389512; __utmc=214205650; __utmz=214205650.1487389512.1.1.utmcsr=google|utmccn=(organic)|utmcmd=organic|utmctr=(not%20provided); __utmt=1; __utma=98625990.1261995891.1487389505.1487389505.1487391335.2; __utmb=98625990.1.10.1487391335; __utmc=98625990; __utmz=98625990.1487391335.2.2.utmcsr=thsrc.com.tw|utmccn=(referral)|utmcmd=referral|utmcct=/tw/TimeTable/SearchResult',\n",
    "'Host':'irs.thsrc.com.tw',\n",
    "'Referer':'https://irs.thsrc.com.tw/IMINT?locale=tw',\n",
    "'Upgrade-Insecure-Requests':'1',\n",
    "'Content-Type':'application/x-www-form-urlencoded',\n",
    "'User-Agent':'Mozilla/5.0 (Windows NT 6.1) AppleWebKit/537.36 (KHTML, like Gecko) Chrome/56.0.2924.87 Safari/537.36' \n",
    "}\n",
    "rs = requests.session()\n",
    "res = rs.post('https://irs.thsrc.com.tw/IMINT/?wicket:interface=:0:BookingS1Form::IFormSubmitListener', data = payload, headers = headers)\n",
    "res2 = rs.get('https://irs.thsrc.com.tw/IMINT/?wicket:interface=:1::', headers = headers)\n",
    "#print(res2.text)"
   ]
  },
  {
   "cell_type": "markdown",
   "metadata": {},
   "source": [
    "## 剖析頁面\n"
   ]
  },
  {
   "cell_type": "code",
   "execution_count": 37,
   "metadata": {
    "collapsed": false
   },
   "outputs": [
    {
     "name": "stdout",
     "output_type": "stream",
     "text": [
      "<class 'bs4.BeautifulSoup'>\n",
      "\n",
      "\n",
      "\n",
      "Hello World\n",
      "This is link1\n",
      "This is link2\n",
      "\n",
      "\n",
      "\n"
     ]
    }
   ],
   "source": [
    "html_sample = '''\n",
    "<html> \n",
    " <body> \n",
    " <h1 id=\"title\">Hello World</h1> \n",
    " <a href=\"#\" class=\"link\">This is link1</a> \n",
    " <a href=\"# link2\" class=\"link\">This is link2</a> \n",
    " </body> \n",
    "</html>\n",
    "'''\n",
    "\n",
    "from bs4 import BeautifulSoup\n",
    "soup = BeautifulSoup(html_sample, 'html.parser')\n",
    "print(type(soup))\n",
    "print(soup.text)"
   ]
  },
  {
   "cell_type": "code",
   "execution_count": 43,
   "metadata": {
    "collapsed": false
   },
   "outputs": [
    {
     "name": "stdout",
     "output_type": "stream",
     "text": [
      "[<h1 id=\"title\">Hello World</h1>]\n",
      "<class 'list'>\n",
      "<h1 id=\"title\">Hello World</h1>\n",
      "<class 'bs4.element.Tag'>\n",
      "Hello World\n"
     ]
    }
   ],
   "source": [
    "# get H1 value\n",
    "print(soup.select('h1'))\n",
    "print(type(soup.select('h1')))\n",
    "\n",
    "print(soup.select('h1')[0])\n",
    "print(type(soup.select('h1')[0]))\n",
    "\n",
    "print(soup.select('h1')[0].text)"
   ]
  },
  {
   "cell_type": "code",
   "execution_count": 49,
   "metadata": {
    "collapsed": false
   },
   "outputs": [
    {
     "name": "stdout",
     "output_type": "stream",
     "text": [
      "[<a class=\"link\" href=\"#\">This is link1</a>, <a class=\"link\" href=\"# link2\">This is link2</a>]\n",
      "<class 'list'>\n",
      "<a class=\"link\" href=\"#\">This is link1</a>\n",
      "This is link1\n",
      "<a class=\"link\" href=\"# link2\">This is link2</a>\n",
      "This is link2\n"
     ]
    }
   ],
   "source": [
    "# get a elements\n",
    "print(soup.select('a'))\n",
    "print(type(soup.select('a')))\n",
    "\n",
    "## get this is link1\n",
    "print(soup.select('a')[0])\n",
    "print(soup.select('a')[0].text)\n",
    "\n",
    "\n",
    "## get this is link2\n",
    "print(soup.select('a')[1])\n",
    "print(soup.select('a')[1].text)\n"
   ]
  },
  {
   "cell_type": "code",
   "execution_count": 51,
   "metadata": {
    "collapsed": false
   },
   "outputs": [
    {
     "name": "stdout",
     "output_type": "stream",
     "text": [
      "This is link1\n",
      "This is link2\n"
     ]
    }
   ],
   "source": [
    "soup.select('a')\n",
    "\n",
    "for a in soup.select('a'):\n",
    "    print(a.text)"
   ]
  },
  {
   "cell_type": "code",
   "execution_count": 57,
   "metadata": {
    "collapsed": false
   },
   "outputs": [
    {
     "name": "stdout",
     "output_type": "stream",
     "text": [
      " this is a test \n",
      "www.google.com\n",
      "123\n"
     ]
    }
   ],
   "source": [
    "b_str = '<a href=\"www.google.com\" qoo=123> this is a test </a>'\n",
    "soup2 = BeautifulSoup(b_str, 'html.parser')\n",
    "# get text\n",
    "print(soup2.select('a')[0].text)\n",
    "\n",
    "# get href \n",
    "print(soup2.select('a')[0]['href'])\n",
    "\n",
    "# get qoo\n",
    "print(soup2.select('a')[0]['qoo'])"
   ]
  },
  {
   "cell_type": "code",
   "execution_count": 59,
   "metadata": {
    "collapsed": false
   },
   "outputs": [
    {
     "name": "stdout",
     "output_type": "stream",
     "text": [
      "#\n",
      "# link2\n"
     ]
    }
   ],
   "source": [
    "soup.select('a')\n",
    "\n",
    "for a in soup.select('a'):\n",
    "    print(a['href'])"
   ]
  },
  {
   "cell_type": "code",
   "execution_count": 61,
   "metadata": {
    "collapsed": false
   },
   "outputs": [
    {
     "data": {
      "text/plain": [
       "[<h1 id=\"title\">Hello World</h1>]"
      ]
     },
     "execution_count": 61,
     "metadata": {},
     "output_type": "execute_result"
    }
   ],
   "source": [
    "# get id = title; id => #\n",
    "soup.select('#title')"
   ]
  },
  {
   "cell_type": "code",
   "execution_count": 62,
   "metadata": {
    "collapsed": false
   },
   "outputs": [
    {
     "data": {
      "text/plain": [
       "[<a class=\"link\" href=\"#\">This is link1</a>,\n",
       " <a class=\"link\" href=\"# link2\">This is link2</a>]"
      ]
     },
     "execution_count": 62,
     "metadata": {},
     "output_type": "execute_result"
    }
   ],
   "source": [
    "# get class = link; class => .\n",
    "soup.select('.link')"
   ]
  }
 ],
 "metadata": {
  "kernelspec": {
   "display_name": "Python 3",
   "language": "python",
   "name": "python3"
  },
  "language_info": {
   "codemirror_mode": {
    "name": "ipython",
    "version": 3
   },
   "file_extension": ".py",
   "mimetype": "text/x-python",
   "name": "python",
   "nbconvert_exporter": "python",
   "pygments_lexer": "ipython3",
   "version": "3.6.0"
  }
 },
 "nbformat": 4,
 "nbformat_minor": 2
}
