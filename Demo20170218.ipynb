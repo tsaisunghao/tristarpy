{
 "cells": [
  {
   "cell_type": "markdown",
   "metadata": {},
   "source": [
    "## Python Basic"
   ]
  },
  {
   "cell_type": "code",
   "execution_count": 3,
   "metadata": {
    "collapsed": false
   },
   "outputs": [
    {
     "data": {
      "text/plain": [
       "5"
      ]
     },
     "execution_count": 3,
     "metadata": {},
     "output_type": "execute_result"
    }
   ],
   "source": [
    "a = 3 \n",
    "b = 2 \n",
    "a + b"
   ]
  },
  {
   "cell_type": "code",
   "execution_count": 2,
   "metadata": {
    "collapsed": false
   },
   "outputs": [
    {
     "data": {
      "text/plain": [
       "33"
      ]
     },
     "execution_count": 2,
     "metadata": {},
     "output_type": "execute_result"
    }
   ],
   "source": [
    "print(a + 30)"
   ]
  },
  {
   "cell_type": "markdown",
   "metadata": {},
   "source": [
    "## Python Requests"
   ]
  },
  {
   "cell_type": "markdown",
   "metadata": {},
   "source": [
    "### 使用GET 抓取蘋果新聞"
   ]
  },
  {
   "cell_type": "code",
   "execution_count": 34,
   "metadata": {
    "collapsed": false
   },
   "outputs": [
    {
     "name": "stdout",
     "output_type": "stream",
     "text": [
      "<class 'requests.models.Response'>\n"
     ]
    }
   ],
   "source": [
    "import requests\n",
    "res = requests.get('http://www.appledaily.com.tw/realtimenews/section/new/')\n",
    "print(type(res))\n",
    "#print(res.text)"
   ]
  },
  {
   "cell_type": "markdown",
   "metadata": {},
   "source": [
    "### 使用POST 抓取高鐵時刻表 "
   ]
  },
  {
   "cell_type": "code",
   "execution_count": 11,
   "metadata": {
    "collapsed": false
   },
   "outputs": [],
   "source": [
    "import requests\n",
    "payload = {\n",
    "'StartStation':'977abb69-413a-4ccf-a109-0272c24fd490',\n",
    "'EndStation':'fbd828d8-b1da-4b06-a3bd-680cdca4d2cd',\n",
    "'SearchDate':'2017/02/18',\n",
    "'SearchTime':'12:00',\n",
    "'SearchWay':'DepartureInMandarin'   \n",
    "}\n",
    "res = requests.post('https://www.thsrc.com.tw/tw/TimeTable/SearchResult' , data = payload)\n",
    "#print(res.text)"
   ]
  },
  {
   "cell_type": "markdown",
   "metadata": {},
   "source": [
    "### 使用GET 抓取台鐵時刻表"
   ]
  },
  {
   "cell_type": "code",
   "execution_count": 15,
   "metadata": {
    "collapsed": false
   },
   "outputs": [],
   "source": [
    "import requests\n",
    "res = requests.get('http://twtraffic.tra.gov.tw/twrail/SearchResult.aspx?searchtype=0&searchdate=2017/02/18&fromstation=1810&tostation=1008&trainclass=%271100%27,%271101%27,%271102%27,%271107%27,%271108%27,%271110%27,%271120%27&fromtime=0600&totime=2359')\n",
    "#print(res.text)"
   ]
  },
  {
   "cell_type": "markdown",
   "metadata": {},
   "source": [
    "## 高鐵訂票"
   ]
  },
  {
   "cell_type": "code",
   "execution_count": 32,
   "metadata": {
    "collapsed": false
   },
   "outputs": [],
   "source": [
    "import requests\n",
    "payload = {\n",
    "'BookingS1Form:hf:0':'',\n",
    "'selectStartStation':'1',\n",
    "'selectDestinationStation':'3',\n",
    "'trainCon:trainRadioGroup':'0',\n",
    "'seatCon:seatRadioGroup':'radio20',\n",
    "'bookingMethod':'radio27',\n",
    "'toTimeInputField':'2017/02/18',\n",
    "'toTimeTable':'1200N',\n",
    "'toTrainIDInputField':'',\n",
    "'backTimeInputField':'2017/02/18',\n",
    "'backTimeTable':'',\n",
    "'backTrainIDInputField':'',\n",
    "'ticketPanel:rows:0:ticketAmount':'1F',\n",
    "'ticketPanel:rows:1:ticketAmount':'0H',\n",
    "'ticketPanel:rows:2:ticketAmount':'0W',\n",
    "'ticketPanel:rows:3:ticketAmount':'0E',\n",
    "'homeCaptcha:securityCode':'3A3A',\n",
    "'SubmitButton':'開始查詢'\n",
    "}\n",
    "\n",
    "headers = {\n",
    "'Accept':'text/html,application/xhtml+xml,application/xml;q=0.9,image/webp,*/*;q=0.8',    \n",
    "'Cookie':'JSESSIONID=1EF580C167785C2A4441F1DAADC4A17B; IRS-SESSION=1487389510; THSRC-IRS=!vqRXFyxM1M8RSy8rtm+Lom00d6XFObQaNTjyk2ZCMhNjRuaUAjRrBKbOHvBGE/pX/3E5ffVUkGIa/w==; __utma=214205650.1817809382.1487389512.1487389512.1487389512.1; __utmb=214205650.3.10.1487389512; __utmc=214205650; __utmz=214205650.1487389512.1.1.utmcsr=google|utmccn=(organic)|utmcmd=organic|utmctr=(not%20provided); __utmt=1; __utma=98625990.1261995891.1487389505.1487389505.1487391335.2; __utmb=98625990.1.10.1487391335; __utmc=98625990; __utmz=98625990.1487391335.2.2.utmcsr=thsrc.com.tw|utmccn=(referral)|utmcmd=referral|utmcct=/tw/TimeTable/SearchResult',\n",
    "'Host':'irs.thsrc.com.tw',\n",
    "'Referer':'https://irs.thsrc.com.tw/IMINT?locale=tw',\n",
    "'Upgrade-Insecure-Requests':'1',\n",
    "'Content-Type':'application/x-www-form-urlencoded',\n",
    "'User-Agent':'Mozilla/5.0 (Windows NT 6.1) AppleWebKit/537.36 (KHTML, like Gecko) Chrome/56.0.2924.87 Safari/537.36' \n",
    "}\n",
    "rs = requests.session()\n",
    "res = rs.post('https://irs.thsrc.com.tw/IMINT/?wicket:interface=:0:BookingS1Form::IFormSubmitListener', data = payload, headers = headers)\n",
    "res2 = rs.get('https://irs.thsrc.com.tw/IMINT/?wicket:interface=:1::', headers = headers)\n",
    "#print(res2.text)"
   ]
  },
  {
   "cell_type": "markdown",
   "metadata": {},
   "source": [
    "## 剖析頁面\n"
   ]
  },
  {
   "cell_type": "code",
   "execution_count": 37,
   "metadata": {
    "collapsed": false
   },
   "outputs": [
    {
     "name": "stdout",
     "output_type": "stream",
     "text": [
      "<class 'bs4.BeautifulSoup'>\n",
      "\n",
      "\n",
      "\n",
      "Hello World\n",
      "This is link1\n",
      "This is link2\n",
      "\n",
      "\n",
      "\n"
     ]
    }
   ],
   "source": [
    "html_sample = '''\n",
    "<html> \n",
    " <body> \n",
    " <h1 id=\"title\">Hello World</h1> \n",
    " <a href=\"#\" class=\"link\">This is link1</a> \n",
    " <a href=\"# link2\" class=\"link\">This is link2</a> \n",
    " </body> \n",
    "</html>\n",
    "'''\n",
    "\n",
    "from bs4 import BeautifulSoup\n",
    "soup = BeautifulSoup(html_sample, 'html.parser')\n",
    "print(type(soup))\n",
    "print(soup.text)"
   ]
  },
  {
   "cell_type": "code",
   "execution_count": 43,
   "metadata": {
    "collapsed": false
   },
   "outputs": [
    {
     "name": "stdout",
     "output_type": "stream",
     "text": [
      "[<h1 id=\"title\">Hello World</h1>]\n",
      "<class 'list'>\n",
      "<h1 id=\"title\">Hello World</h1>\n",
      "<class 'bs4.element.Tag'>\n",
      "Hello World\n"
     ]
    }
   ],
   "source": [
    "# get H1 value\n",
    "print(soup.select('h1'))\n",
    "print(type(soup.select('h1')))\n",
    "\n",
    "print(soup.select('h1')[0])\n",
    "print(type(soup.select('h1')[0]))\n",
    "\n",
    "print(soup.select('h1')[0].text)"
   ]
  },
  {
   "cell_type": "code",
   "execution_count": 49,
   "metadata": {
    "collapsed": false
   },
   "outputs": [
    {
     "name": "stdout",
     "output_type": "stream",
     "text": [
      "[<a class=\"link\" href=\"#\">This is link1</a>, <a class=\"link\" href=\"# link2\">This is link2</a>]\n",
      "<class 'list'>\n",
      "<a class=\"link\" href=\"#\">This is link1</a>\n",
      "This is link1\n",
      "<a class=\"link\" href=\"# link2\">This is link2</a>\n",
      "This is link2\n"
     ]
    }
   ],
   "source": [
    "# get a elements\n",
    "print(soup.select('a'))\n",
    "print(type(soup.select('a')))\n",
    "\n",
    "## get this is link1\n",
    "print(soup.select('a')[0])\n",
    "print(soup.select('a')[0].text)\n",
    "\n",
    "\n",
    "## get this is link2\n",
    "print(soup.select('a')[1])\n",
    "print(soup.select('a')[1].text)\n"
   ]
  },
  {
   "cell_type": "code",
   "execution_count": 51,
   "metadata": {
    "collapsed": false
   },
   "outputs": [
    {
     "name": "stdout",
     "output_type": "stream",
     "text": [
      "This is link1\n",
      "This is link2\n"
     ]
    }
   ],
   "source": [
    "soup.select('a')\n",
    "\n",
    "for a in soup.select('a'):\n",
    "    print(a.text)"
   ]
  },
  {
   "cell_type": "code",
   "execution_count": 57,
   "metadata": {
    "collapsed": false
   },
   "outputs": [
    {
     "name": "stdout",
     "output_type": "stream",
     "text": [
      " this is a test \n",
      "www.google.com\n",
      "123\n"
     ]
    }
   ],
   "source": [
    "b_str = '<a href=\"www.google.com\" qoo=123> this is a test </a>'\n",
    "soup2 = BeautifulSoup(b_str, 'html.parser')\n",
    "# get text\n",
    "print(soup2.select('a')[0].text)\n",
    "\n",
    "# get href \n",
    "print(soup2.select('a')[0]['href'])\n",
    "\n",
    "# get qoo\n",
    "print(soup2.select('a')[0]['qoo'])"
   ]
  },
  {
   "cell_type": "code",
   "execution_count": 59,
   "metadata": {
    "collapsed": false
   },
   "outputs": [
    {
     "name": "stdout",
     "output_type": "stream",
     "text": [
      "#\n",
      "# link2\n"
     ]
    }
   ],
   "source": [
    "soup.select('a')\n",
    "\n",
    "for a in soup.select('a'):\n",
    "    print(a['href'])"
   ]
  },
  {
   "cell_type": "code",
   "execution_count": 61,
   "metadata": {
    "collapsed": false
   },
   "outputs": [
    {
     "data": {
      "text/plain": [
       "[<h1 id=\"title\">Hello World</h1>]"
      ]
     },
     "execution_count": 61,
     "metadata": {},
     "output_type": "execute_result"
    }
   ],
   "source": [
    "# get id = title; id => #\n",
    "soup.select('#title')"
   ]
  },
  {
   "cell_type": "code",
   "execution_count": 62,
   "metadata": {
    "collapsed": false
   },
   "outputs": [
    {
     "data": {
      "text/plain": [
       "[<a class=\"link\" href=\"#\">This is link1</a>,\n",
       " <a class=\"link\" href=\"# link2\">This is link2</a>]"
      ]
     },
     "execution_count": 62,
     "metadata": {},
     "output_type": "execute_result"
    }
   ],
   "source": [
    "# get class = link; class => .\n",
    "soup.select('.link')"
   ]
  },
  {
   "cell_type": "markdown",
   "metadata": {},
   "source": [
    "## 資料蒐集實務"
   ]
  },
  {
   "cell_type": "code",
   "execution_count": 78,
   "metadata": {
    "collapsed": false
   },
   "outputs": [
    {
     "name": "stdout",
     "output_type": "stream",
     "text": [
      "財經 15:31 【三星太子爺被捕】李在鎔看似溫和　轉頭就...(26919) http://www.appledaily.com.tw/realtimenews/article/finance/20170218/1058767/【三星太子爺被捕】李在鎔看似溫和　轉頭就把老爸飛機全賣了\n",
      "娛樂 15:28 10大最強日本美少女　橋本環奈輸給她！(269) http://www.appledaily.com.tw/realtimenews/article/entertainment/20170218/1058299/10大最強日本美少女　橋本環奈輸給她！\n",
      "時尚 15:28 勢必秒殺！韓國第一潮框找她聯名…(0) http://www.appledaily.com.tw/realtimenews/article/fashion/20170218/1059099/勢必秒殺！韓國第一潮框找她聯名…\n",
      "財經 15:28 全國首創　歐付寶整合北市水費、停車費及醫...(0) http://www.appledaily.com.tw/realtimenews/article/finance/20170218/1059135/全國首創　歐付寶整合北市水費、停車費及醫療費\n",
      "娛樂 15:25 林宥嘉婚禮進度擠牙膏　靠爸當擋酒部隊(91) http://www.appledaily.com.tw/realtimenews/article/entertainment/20170218/1059137/林宥嘉婚禮進度擠牙膏　靠爸當擋酒部隊\n",
      "國際 15:25 【更新】金正男遇害幕後疑有北韓特工　大馬...(648) http://www.appledaily.com.tw/realtimenews/article/international/20170218/1059121/【更新】金正男遇害幕後疑有北韓特工　大馬鎖定4特務\n",
      "社會 15:23 【驚】少男與小高一嘿咻　代價竟要500萬(107390) http://www.appledaily.com.tw/realtimenews/article/local/20170218/1058271/【驚】少男與小高一嘿咻　代價竟要500萬\n",
      "國際 15:18 清真寺被炸80死　巴基斯坦震怒擊斃100...(593) http://www.appledaily.com.tw/realtimenews/article/international/20170218/1059133/清真寺被炸80死　巴基斯坦震怒擊斃100人\n",
      "生活 15:18 新北公布397家勞檢違法公司　超時工作最...(720) http://www.appledaily.com.tw/realtimenews/article/life/20170218/1059141/新北公布397家勞檢違法公司　超時工作最嚴重\n",
      "娛樂 15:17 丟臉丟到國外　潔西卡IG怒批台粉跟車(1103) http://www.appledaily.com.tw/realtimenews/article/entertainment/20170218/1059083/丟臉丟到國外　潔西卡IG怒批台粉跟車\n",
      "生活 15:16 【搶搭片】機捷試乘第3天　搶搭人潮依舊(4166) http://www.appledaily.com.tw/realtimenews/article/life/20170218/1058892/【搶搭片】機捷試乘第3天　搶搭人潮依舊\n",
      "生活 15:16 預防禽流感　這些行為要注意   (153) http://www.appledaily.com.tw/realtimenews/article/life/20170218/1059140/預防禽流感　這些行為要注意\n",
      "論壇 15:12 性別光譜有問題？相關單位應出面「捍衛專業...(317) http://www.appledaily.com.tw/realtimenews/article/forum/20170218/1058977/性別光譜有問題？相關單位應出面「捍衛專業」\n",
      "生活 15:12 禁宰令下沒雞賣　攤商：準備賣冰塊(342) http://www.appledaily.com.tw/realtimenews/article/life/20170218/1059120/禁宰令下沒雞賣　攤商：準備賣冰塊\n",
      "生活 15:11 【數位時代】1 天蓋好！住 50 年！2...(872) http://www.appledaily.com.tw/realtimenews/article/life/20170218/1059106/【數位時代】1天蓋好！住50年！24層厚紙板蓋成的紙盒屋Wikkelhouse\n",
      "財經 15:10 【創新拿鐵】不做行銷，三年讓微軟視為對手...(1943) http://www.appledaily.com.tw/realtimenews/article/finance/20170218/1052704/【創新拿鐵】不做行銷，三年讓微軟視為對手！團隊溝通軟體Slack成功的3大關鍵\n",
      "生活 15:10 拓海算什麼　驚呆了！田溝沒加蓋神停車(1581) http://www.appledaily.com.tw/realtimenews/article/life/20170218/1059073/拓海算什麼　驚呆了！田溝沒加蓋神停車\n",
      "體育 15:09 LPGA澳洲公開賽　李旻排名下滑T35　(24) http://www.appledaily.com.tw/realtimenews/article/sports/20170218/1059138/LPGA澳洲公開賽　李旻排名下滑T35　\n",
      "生活 15:07 觀光局查1日遊　行程太操將改2日或派雙司...(683) http://www.appledaily.com.tw/realtimenews/article/life/20170218/1059127/觀光局查1日遊　行程太操將改2日或派雙司機\n",
      "生活 15:05 北市與8家業者合作　未來可線上繳水費、停...(343) http://www.appledaily.com.tw/realtimenews/article/life/20170218/1059122/北市與8家業者合作　未來可線上繳水費、停車費\n",
      "政治 15:00 【內閣共識營】林全盼重新整隊　林聰賢、林...(1027) http://www.appledaily.com.tw/realtimenews/article/politics/20170218/1059118/【內閣共識營】林全盼重新整隊　林聰賢、林美珠低調避媒體\n",
      "國際 14:58 美嚴查中國人入境　辦簽證要提供社群網站(1423) http://www.appledaily.com.tw/realtimenews/article/international/20170218/1059102/美嚴查中國人入境　辦簽證要提供社群網站\n",
      "社會 14:56 逃攔檢失控撞車　無情男棄女友落跑(1834) http://www.appledaily.com.tw/realtimenews/article/local/20170218/1059072/逃攔檢失控撞車　無情男棄女友落跑\n",
      "社會 14:56 近海違規拖網捕魚　3艘台籍漁船人員遭法辦(582) http://www.appledaily.com.tw/realtimenews/article/local/20170218/1059112/近海違規拖網捕魚　3艘台籍漁船人員遭法辦\n",
      "國際 14:55 【冤仇片】川普手勢就是狂　被CNN惡搞(6732) http://www.appledaily.com.tw/realtimenews/article/international/20170218/1058905/【冤仇片】川普手勢就是狂　被CNN惡搞\n",
      "政治 14:55 藍委批勞動部長的工時定義　是政府帶頭當慣...(665) http://www.appledaily.com.tw/realtimenews/article/politics/20170218/1059115/藍委批勞動部長的工時定義　是政府帶頭當慣老闆\n",
      "政治 14:54 二手書店老闆楊緬因　將任民進黨媒創中心主...(782) http://www.appledaily.com.tw/realtimenews/article/politics/20170218/1059117/二手書店老闆楊緬因　將任民進黨媒創中心主任\n",
      "3C 14:51 今天上班悶爆了 「惡靈退散貼紙」保平安(1046) http://www.appledaily.com.tw/realtimenews/article/3c/20170218/1059108/今天上班悶爆了「惡靈退散貼紙」保平安\n",
      "社會 14:50 高雄護老有成　死亡車禍連2年下降(1915) http://www.appledaily.com.tw/realtimenews/article/local/20170218/1058933/高雄護老有成　死亡車禍連2年下降\n",
      "娛樂 14:50 ​林志穎這樣寵粉絲　旅館內幫吹頭髮(2896) http://www.appledaily.com.tw/realtimenews/article/entertainment/20170218/1059036/​林志穎這樣寵粉絲　旅館內幫吹頭髮\n"
     ]
    }
   ],
   "source": [
    "import requests\n",
    "from bs4 import BeautifulSoup\n",
    "res = requests.get('http://www.appledaily.com.tw/realtimenews/section/new/')\n",
    "soup = BeautifulSoup(res.text,'html.parser')\n",
    "\n",
    "DOMAIN = 'http://www.appledaily.com.tw'\n",
    "\n",
    "for news in soup.select('.rtddt a'):\n",
    "    #print(news)\n",
    "    h1   = news.select('h1')[0].text\n",
    "    time = news.select('time')[0].text\n",
    "    h2   = news.select('h2')[0].text\n",
    "    link = DOMAIN + news['href']\n",
    "    print(h2, time, h1, link)\n",
    "    #print('===================================')"
   ]
  },
  {
   "cell_type": "markdown",
   "metadata": {},
   "source": [
    "## 蘋果內文抓取"
   ]
  },
  {
   "cell_type": "code",
   "execution_count": 83,
   "metadata": {
    "collapsed": false
   },
   "outputs": [],
   "source": [
    "import requests\n",
    "from bs4 import BeautifulSoup\n",
    "detailurl = 'http://www.appledaily.com.tw/realtimenews/article/entertainment/20170218/1058299/10大最強日本美少女　橋本環奈輸給她！'\n",
    "res = requests.get(detailurl)\n",
    "#print(res.text)\n",
    "soup = BeautifulSoup(res.text, 'html.parser')"
   ]
  },
  {
   "cell_type": "markdown",
   "metadata": {},
   "source": [
    "### 存取標頭"
   ]
  },
  {
   "cell_type": "code",
   "execution_count": 94,
   "metadata": {
    "collapsed": false
   },
   "outputs": [
    {
     "data": {
      "text/plain": [
       "'10大最強日本美少女 橋本環奈輸給她！'"
      ]
     },
     "execution_count": 94,
     "metadata": {},
     "output_type": "execute_result"
    }
   ],
   "source": [
    "soup.select('#h1')[0].text\n",
    "' '.join(soup.select('#h1')[0].text.split())"
   ]
  },
  {
   "cell_type": "code",
   "execution_count": 93,
   "metadata": {
    "collapsed": false
   },
   "outputs": [
    {
     "name": "stdout",
     "output_type": "stream",
     "text": [
      "['h', 'e', 'l', 'l', 'o,', 'Good']\n",
      "hello,Good\n"
     ]
    }
   ],
   "source": [
    "a= ' h                    e        l  l o, Good'\n",
    "print(a.split())\n",
    "print(''.join(a.split()))"
   ]
  },
  {
   "cell_type": "markdown",
   "metadata": {},
   "source": [
    "### 存取內文 "
   ]
  },
  {
   "cell_type": "code",
   "execution_count": 97,
   "metadata": {
    "collapsed": false
   },
   "outputs": [
    {
     "data": {
      "text/plain": [
       "'江山代有才人出，你知道現在最夯的日本少女偶像是誰嗎？日本演藝圈人才濟濟，不少新人偶像嶄露頭角，但誰才是「最強」者呢？日本網站「goo」針對500名20~30代的網友(男女生各250名)，調查「日本最強美少女」，選出10名活耀在2016年、甚至看好她2017年發展的美少女偶像，一起看看有那些青春洋溢的少女吧！（張鈜閔／綜合報導）【日本最強美少女偶像TOP10】10、平祐奈(25票、1998年11月12日)9、武田玲奈(27票、1997年7月27日)8、松井愛莉(27票、1996年12月26日)7、藤田ニコル(31票、1998年2月20日)6、櫻井日奈子(37票、1997年4月2日)4、福原遙(39票、1998年8月28日)4、岡田結實(39票、2000年4月15日)3、中條彩未(45票、1997年2月4日)2、橋本環奈(98票、1999年2月3日)1、廣瀨鈴(142票、1998年6月19日)'"
      ]
     },
     "execution_count": 97,
     "metadata": {},
     "output_type": "execute_result"
    }
   ],
   "source": [
    "soup.select('#summary')[0].text"
   ]
  },
  {
   "cell_type": "markdown",
   "metadata": {},
   "source": [
    "### 存取時間"
   ]
  },
  {
   "cell_type": "code",
   "execution_count": 101,
   "metadata": {
    "collapsed": false
   },
   "outputs": [
    {
     "data": {
      "text/plain": [
       "'2017年02月18日15:28'"
      ]
     },
     "execution_count": 101,
     "metadata": {},
     "output_type": "execute_result"
    }
   ],
   "source": [
    "soup.select('.gggs time')[0].text"
   ]
  },
  {
   "cell_type": "markdown",
   "metadata": {},
   "source": [
    "#### datetime document\n",
    "- https://docs.python.org/3/library/datetime.html#strftime-and-strptime-behavior"
   ]
  },
  {
   "cell_type": "code",
   "execution_count": 108,
   "metadata": {
    "collapsed": false
   },
   "outputs": [
    {
     "name": "stdout",
     "output_type": "stream",
     "text": [
      "<class 'datetime.datetime'>\n",
      "<class 'str'>\n"
     ]
    }
   ],
   "source": [
    "from datetime import datetime\n",
    "currenttime = datetime.now()\n",
    "print(type(currenttime))\n",
    "\n",
    "# 時間變字串\n",
    "currenttime.strftime('%Y-%m-%d')\n",
    "\n",
    "print(type(currenttime.strftime('%Y-%m-%d')))"
   ]
  },
  {
   "cell_type": "code",
   "execution_count": 112,
   "metadata": {
    "collapsed": false
   },
   "outputs": [],
   "source": [
    "# 字串變時間\n",
    "dt = datetime.strptime('2017年02月18日15:28','%Y年%m月%d日%H:%M')"
   ]
  },
  {
   "cell_type": "code",
   "execution_count": 114,
   "metadata": {
    "collapsed": false
   },
   "outputs": [
    {
     "data": {
      "text/plain": [
       "datetime.datetime(2017, 1, 19, 15, 28)"
      ]
     },
     "execution_count": 114,
     "metadata": {},
     "output_type": "execute_result"
    }
   ],
   "source": [
    "from datetime import timedelta\n",
    "dt - timedelta(days = 30)"
   ]
  },
  {
   "cell_type": "code",
   "execution_count": 119,
   "metadata": {
    "collapsed": false
   },
   "outputs": [
    {
     "data": {
      "text/plain": [
       "2314"
      ]
     },
     "execution_count": 119,
     "metadata": {},
     "output_type": "execute_result"
    }
   ],
   "source": [
    "difftime = (currenttime - dt)\n",
    "difftime.seconds"
   ]
  },
  {
   "cell_type": "code",
   "execution_count": 120,
   "metadata": {
    "collapsed": false
   },
   "outputs": [
    {
     "data": {
      "text/plain": [
       "datetime.datetime(2017, 2, 18, 15, 28)"
      ]
     },
     "execution_count": 120,
     "metadata": {},
     "output_type": "execute_result"
    }
   ],
   "source": [
    "dt = soup.select('.gggs time')[0].text\n",
    "datetime.strptime(dt,'%Y年%m月%d日%H:%M')"
   ]
  },
  {
   "cell_type": "code",
   "execution_count": 122,
   "metadata": {
    "collapsed": false
   },
   "outputs": [
    {
     "name": "stdout",
     "output_type": "stream",
     "text": [
      "2017-02-17\n",
      "2017-02-16\n",
      "2017-02-15\n",
      "2017-02-14\n",
      "2017-02-13\n",
      "2017-02-12\n",
      "2017-02-11\n",
      "2017-02-10\n",
      "2017-02-09\n"
     ]
    }
   ],
   "source": [
    "from datetime import datetime,timedelta\n",
    "currenttime = datetime.now()\n",
    "for i in range(1,10):\n",
    "    dt = currenttime - timedelta( days = i)\n",
    "    print(dt.strftime('%Y-%m-%d'))"
   ]
  }
 ],
 "metadata": {
  "kernelspec": {
   "display_name": "Python 3",
   "language": "python",
   "name": "python3"
  },
  "language_info": {
   "codemirror_mode": {
    "name": "ipython",
    "version": 3
   },
   "file_extension": ".py",
   "mimetype": "text/x-python",
   "name": "python",
   "nbconvert_exporter": "python",
   "pygments_lexer": "ipython3",
   "version": "3.6.0"
  }
 },
 "nbformat": 4,
 "nbformat_minor": 2
}
