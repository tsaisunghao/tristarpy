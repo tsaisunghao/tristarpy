{
 "cells": [
  {
   "cell_type": "markdown",
   "metadata": {},
   "source": [
    "## Python Basic"
   ]
  },
  {
   "cell_type": "code",
   "execution_count": 3,
   "metadata": {
    "collapsed": false
   },
   "outputs": [
    {
     "data": {
      "text/plain": [
       "5"
      ]
     },
     "execution_count": 3,
     "metadata": {},
     "output_type": "execute_result"
    }
   ],
   "source": [
    "a = 3 \n",
    "b = 2 \n",
    "a + b"
   ]
  },
  {
   "cell_type": "code",
   "execution_count": 2,
   "metadata": {
    "collapsed": false
   },
   "outputs": [
    {
     "data": {
      "text/plain": [
       "33"
      ]
     },
     "execution_count": 2,
     "metadata": {},
     "output_type": "execute_result"
    }
   ],
   "source": [
    "print(a + 30)"
   ]
  },
  {
   "cell_type": "markdown",
   "metadata": {},
   "source": [
    "## Python Requests"
   ]
  },
  {
   "cell_type": "markdown",
   "metadata": {},
   "source": [
    "### 使用GET 抓取蘋果新聞"
   ]
  },
  {
   "cell_type": "code",
   "execution_count": 34,
   "metadata": {
    "collapsed": false
   },
   "outputs": [
    {
     "name": "stdout",
     "output_type": "stream",
     "text": [
      "<class 'requests.models.Response'>\n"
     ]
    }
   ],
   "source": [
    "import requests\n",
    "res = requests.get('http://www.appledaily.com.tw/realtimenews/section/new/')\n",
    "print(type(res))\n",
    "#print(res.text)"
   ]
  },
  {
   "cell_type": "markdown",
   "metadata": {},
   "source": [
    "### 使用POST 抓取高鐵時刻表 "
   ]
  },
  {
   "cell_type": "code",
   "execution_count": 11,
   "metadata": {
    "collapsed": false
   },
   "outputs": [],
   "source": [
    "import requests\n",
    "payload = {\n",
    "'StartStation':'977abb69-413a-4ccf-a109-0272c24fd490',\n",
    "'EndStation':'fbd828d8-b1da-4b06-a3bd-680cdca4d2cd',\n",
    "'SearchDate':'2017/02/18',\n",
    "'SearchTime':'12:00',\n",
    "'SearchWay':'DepartureInMandarin'   \n",
    "}\n",
    "res = requests.post('https://www.thsrc.com.tw/tw/TimeTable/SearchResult' , data = payload)\n",
    "#print(res.text)"
   ]
  },
  {
   "cell_type": "markdown",
   "metadata": {},
   "source": [
    "### 使用GET 抓取台鐵時刻表"
   ]
  },
  {
   "cell_type": "code",
   "execution_count": 15,
   "metadata": {
    "collapsed": false
   },
   "outputs": [],
   "source": [
    "import requests\n",
    "res = requests.get('http://twtraffic.tra.gov.tw/twrail/SearchResult.aspx?searchtype=0&searchdate=2017/02/18&fromstation=1810&tostation=1008&trainclass=%271100%27,%271101%27,%271102%27,%271107%27,%271108%27,%271110%27,%271120%27&fromtime=0600&totime=2359')\n",
    "#print(res.text)"
   ]
  },
  {
   "cell_type": "markdown",
   "metadata": {},
   "source": [
    "## 高鐵訂票"
   ]
  },
  {
   "cell_type": "code",
   "execution_count": 32,
   "metadata": {
    "collapsed": false
   },
   "outputs": [],
   "source": [
    "import requests\n",
    "payload = {\n",
    "'BookingS1Form:hf:0':'',\n",
    "'selectStartStation':'1',\n",
    "'selectDestinationStation':'3',\n",
    "'trainCon:trainRadioGroup':'0',\n",
    "'seatCon:seatRadioGroup':'radio20',\n",
    "'bookingMethod':'radio27',\n",
    "'toTimeInputField':'2017/02/18',\n",
    "'toTimeTable':'1200N',\n",
    "'toTrainIDInputField':'',\n",
    "'backTimeInputField':'2017/02/18',\n",
    "'backTimeTable':'',\n",
    "'backTrainIDInputField':'',\n",
    "'ticketPanel:rows:0:ticketAmount':'1F',\n",
    "'ticketPanel:rows:1:ticketAmount':'0H',\n",
    "'ticketPanel:rows:2:ticketAmount':'0W',\n",
    "'ticketPanel:rows:3:ticketAmount':'0E',\n",
    "'homeCaptcha:securityCode':'3A3A',\n",
    "'SubmitButton':'開始查詢'\n",
    "}\n",
    "\n",
    "headers = {\n",
    "'Accept':'text/html,application/xhtml+xml,application/xml;q=0.9,image/webp,*/*;q=0.8',    \n",
    "'Cookie':'JSESSIONID=1EF580C167785C2A4441F1DAADC4A17B; IRS-SESSION=1487389510; THSRC-IRS=!vqRXFyxM1M8RSy8rtm+Lom00d6XFObQaNTjyk2ZCMhNjRuaUAjRrBKbOHvBGE/pX/3E5ffVUkGIa/w==; __utma=214205650.1817809382.1487389512.1487389512.1487389512.1; __utmb=214205650.3.10.1487389512; __utmc=214205650; __utmz=214205650.1487389512.1.1.utmcsr=google|utmccn=(organic)|utmcmd=organic|utmctr=(not%20provided); __utmt=1; __utma=98625990.1261995891.1487389505.1487389505.1487391335.2; __utmb=98625990.1.10.1487391335; __utmc=98625990; __utmz=98625990.1487391335.2.2.utmcsr=thsrc.com.tw|utmccn=(referral)|utmcmd=referral|utmcct=/tw/TimeTable/SearchResult',\n",
    "'Host':'irs.thsrc.com.tw',\n",
    "'Referer':'https://irs.thsrc.com.tw/IMINT?locale=tw',\n",
    "'Upgrade-Insecure-Requests':'1',\n",
    "'Content-Type':'application/x-www-form-urlencoded',\n",
    "'User-Agent':'Mozilla/5.0 (Windows NT 6.1) AppleWebKit/537.36 (KHTML, like Gecko) Chrome/56.0.2924.87 Safari/537.36' \n",
    "}\n",
    "rs = requests.session()\n",
    "res = rs.post('https://irs.thsrc.com.tw/IMINT/?wicket:interface=:0:BookingS1Form::IFormSubmitListener', data = payload, headers = headers)\n",
    "res2 = rs.get('https://irs.thsrc.com.tw/IMINT/?wicket:interface=:1::', headers = headers)\n",
    "#print(res2.text)"
   ]
  },
  {
   "cell_type": "markdown",
   "metadata": {},
   "source": [
    "## 剖析頁面\n"
   ]
  },
  {
   "cell_type": "code",
   "execution_count": 37,
   "metadata": {
    "collapsed": false
   },
   "outputs": [
    {
     "name": "stdout",
     "output_type": "stream",
     "text": [
      "<class 'bs4.BeautifulSoup'>\n",
      "\n",
      "\n",
      "\n",
      "Hello World\n",
      "This is link1\n",
      "This is link2\n",
      "\n",
      "\n",
      "\n"
     ]
    }
   ],
   "source": [
    "html_sample = '''\n",
    "<html> \n",
    " <body> \n",
    " <h1 id=\"title\">Hello World</h1> \n",
    " <a href=\"#\" class=\"link\">This is link1</a> \n",
    " <a href=\"# link2\" class=\"link\">This is link2</a> \n",
    " </body> \n",
    "</html>\n",
    "'''\n",
    "\n",
    "from bs4 import BeautifulSoup\n",
    "soup = BeautifulSoup(html_sample, 'html.parser')\n",
    "print(type(soup))\n",
    "print(soup.text)"
   ]
  },
  {
   "cell_type": "code",
   "execution_count": 43,
   "metadata": {
    "collapsed": false
   },
   "outputs": [
    {
     "name": "stdout",
     "output_type": "stream",
     "text": [
      "[<h1 id=\"title\">Hello World</h1>]\n",
      "<class 'list'>\n",
      "<h1 id=\"title\">Hello World</h1>\n",
      "<class 'bs4.element.Tag'>\n",
      "Hello World\n"
     ]
    }
   ],
   "source": [
    "# get H1 value\n",
    "print(soup.select('h1'))\n",
    "print(type(soup.select('h1')))\n",
    "\n",
    "print(soup.select('h1')[0])\n",
    "print(type(soup.select('h1')[0]))\n",
    "\n",
    "print(soup.select('h1')[0].text)"
   ]
  },
  {
   "cell_type": "code",
   "execution_count": 49,
   "metadata": {
    "collapsed": false
   },
   "outputs": [
    {
     "name": "stdout",
     "output_type": "stream",
     "text": [
      "[<a class=\"link\" href=\"#\">This is link1</a>, <a class=\"link\" href=\"# link2\">This is link2</a>]\n",
      "<class 'list'>\n",
      "<a class=\"link\" href=\"#\">This is link1</a>\n",
      "This is link1\n",
      "<a class=\"link\" href=\"# link2\">This is link2</a>\n",
      "This is link2\n"
     ]
    }
   ],
   "source": [
    "# get a elements\n",
    "print(soup.select('a'))\n",
    "print(type(soup.select('a')))\n",
    "\n",
    "## get this is link1\n",
    "print(soup.select('a')[0])\n",
    "print(soup.select('a')[0].text)\n",
    "\n",
    "\n",
    "## get this is link2\n",
    "print(soup.select('a')[1])\n",
    "print(soup.select('a')[1].text)\n"
   ]
  },
  {
   "cell_type": "code",
   "execution_count": 51,
   "metadata": {
    "collapsed": false
   },
   "outputs": [
    {
     "name": "stdout",
     "output_type": "stream",
     "text": [
      "This is link1\n",
      "This is link2\n"
     ]
    }
   ],
   "source": [
    "soup.select('a')\n",
    "\n",
    "for a in soup.select('a'):\n",
    "    print(a.text)"
   ]
  },
  {
   "cell_type": "code",
   "execution_count": 57,
   "metadata": {
    "collapsed": false
   },
   "outputs": [
    {
     "name": "stdout",
     "output_type": "stream",
     "text": [
      " this is a test \n",
      "www.google.com\n",
      "123\n"
     ]
    }
   ],
   "source": [
    "b_str = '<a href=\"www.google.com\" qoo=123> this is a test </a>'\n",
    "soup2 = BeautifulSoup(b_str, 'html.parser')\n",
    "# get text\n",
    "print(soup2.select('a')[0].text)\n",
    "\n",
    "# get href \n",
    "print(soup2.select('a')[0]['href'])\n",
    "\n",
    "# get qoo\n",
    "print(soup2.select('a')[0]['qoo'])"
   ]
  },
  {
   "cell_type": "code",
   "execution_count": 59,
   "metadata": {
    "collapsed": false
   },
   "outputs": [
    {
     "name": "stdout",
     "output_type": "stream",
     "text": [
      "#\n",
      "# link2\n"
     ]
    }
   ],
   "source": [
    "soup.select('a')\n",
    "\n",
    "for a in soup.select('a'):\n",
    "    print(a['href'])"
   ]
  },
  {
   "cell_type": "code",
   "execution_count": 61,
   "metadata": {
    "collapsed": false
   },
   "outputs": [
    {
     "data": {
      "text/plain": [
       "[<h1 id=\"title\">Hello World</h1>]"
      ]
     },
     "execution_count": 61,
     "metadata": {},
     "output_type": "execute_result"
    }
   ],
   "source": [
    "# get id = title; id => #\n",
    "soup.select('#title')"
   ]
  },
  {
   "cell_type": "code",
   "execution_count": 62,
   "metadata": {
    "collapsed": false
   },
   "outputs": [
    {
     "data": {
      "text/plain": [
       "[<a class=\"link\" href=\"#\">This is link1</a>,\n",
       " <a class=\"link\" href=\"# link2\">This is link2</a>]"
      ]
     },
     "execution_count": 62,
     "metadata": {},
     "output_type": "execute_result"
    }
   ],
   "source": [
    "# get class = link; class => .\n",
    "soup.select('.link')"
   ]
  },
  {
   "cell_type": "markdown",
   "metadata": {},
   "source": [
    "## 資料蒐集實務"
   ]
  },
  {
   "cell_type": "code",
   "execution_count": 74,
   "metadata": {
    "collapsed": false
   },
   "outputs": [
    {
     "name": "stdout",
     "output_type": "stream",
     "text": [
      "生活 15:05 北市與8家業者合作　未來可線上繳水費、停...(0)\n",
      "政治 15:00 【內閣共識營】林全盼重新整隊　林聰賢、林...(48)\n",
      "國際 14:58 美嚴查中國人入境　辦簽證要提供社群網站(140)\n",
      "社會 14:56 逃攔檢失控撞車　無情男棄女友落跑(921)\n",
      "社會 14:56 近海違規拖網捕魚　3艘台籍漁船人員遭法辦(40)\n",
      "國際 14:55 【冤仇片】川普手勢就是狂　被CNN惡搞(6123)\n",
      "政治 14:55 藍委批勞動部長的工時定義　是政府帶頭當慣...(28)\n",
      "政治 14:54 二手書店老闆楊緬因　將任民進黨媒創中心主...(195)\n",
      "國際 14:52 韓媒：暗殺金正男事件　幕後疑有北韓特工(0)\n",
      "3C 14:51 今天上班悶爆了 「惡靈退散貼紙」保平安(294)\n",
      "社會 14:50 高雄護老有成　死亡車禍連2年下降(1507)\n",
      "娛樂 14:50 ​林志穎這樣寵粉絲　旅館內幫吹頭髮(834)\n",
      "社會 14:50 中山高路竹段國光號擦撞貨櫃車　現場大塞車(871)\n",
      "生活 14:50 【台灣英文新聞】禽流感疫情蔓延 日常生活...(75)\n",
      "社會 14:48 行人不可走馬路？　騎士撞傷路人反告對方結...(1436)\n",
      "國際 14:47 癱瘓23年　湖北40歲刺繡女冒險高齡誕千...(438)\n",
      "財經 14:46 eBay全球慈善拍賣計劃　累積募得224...(64)\n",
      "社會 14:45 多虧他細心查　車禍追出姪殺伯命案(981)\n",
      "論壇 14:45 光明國中校友：我支持母校的性平教材！(278)\n",
      "體育 14:43 【獨家有片】OMG　是陳信安！(115635)\n",
      "社會 14:41 【國五33死】乘客責任險理賠　旅行社、遊...(1416)\n",
      "社會 14:37 15歲高中生假冒檢察官　詐得被害人120...(1333)\n",
      "社會 14:37 車上被查獲毒品　2男互咬反目(449)\n",
      "壹週刊 14:37 【壹週刊】miffy爸爸再見！不會忘記你...(173)\n",
      "社會 14:36 「腿那麼長加LINE嗎」　女大生PO網控...(2447)\n",
      "社會 14:35 俏女警被出賣　「女警之怒」搏40萬點閱(3785)\n",
      "生活 14:35 家禽禁宰無肉可賣　市場肉攤提前打烊(200)\n",
      "財經 14:35 【寶可夢二代登場】IBM總座擁戰術　樂當...(686)\n",
      "生活 14:33 超商推多功能APP　宅配、集點一次搞定(476)\n",
      "國際 14:32 大馬男女腹瀉草叢解放　遭野象踩骨折(1741)\n"
     ]
    }
   ],
   "source": [
    "import requests\n",
    "from bs4 import BeautifulSoup\n",
    "res = requests.get('http://www.appledaily.com.tw/realtimenews/section/new/')\n",
    "soup = BeautifulSoup(res.text,'html.parser')\n",
    "for news in soup.select('.rtddt a'):\n",
    "    #print(news)\n",
    "    h1   = news.select('h1')[0].text\n",
    "    time = news.select('time')[0].text\n",
    "    h2   = news.select('h2')[0].text\n",
    "    print(h2, time, h1)\n",
    "    #print('===================================')"
   ]
  },
  {
   "cell_type": "code",
   "execution_count": null,
   "metadata": {
    "collapsed": true
   },
   "outputs": [],
   "source": []
  }
 ],
 "metadata": {
  "kernelspec": {
   "display_name": "Python 3",
   "language": "python",
   "name": "python3"
  },
  "language_info": {
   "codemirror_mode": {
    "name": "ipython",
    "version": 3
   },
   "file_extension": ".py",
   "mimetype": "text/x-python",
   "name": "python",
   "nbconvert_exporter": "python",
   "pygments_lexer": "ipython3",
   "version": "3.6.0"
  }
 },
 "nbformat": 4,
 "nbformat_minor": 2
}
