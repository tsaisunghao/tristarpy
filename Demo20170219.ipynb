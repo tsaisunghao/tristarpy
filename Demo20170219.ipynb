{
 "cells": [
  {
   "cell_type": "markdown",
   "metadata": {},
   "source": [
    "## 使用Requests 存取蘋果列表"
   ]
  },
  {
   "cell_type": "code",
   "execution_count": 4,
   "metadata": {
    "collapsed": false
   },
   "outputs": [],
   "source": [
    "import requests\n",
    "res = requests.get('http://www.appledaily.com.tw/realtimenews/section/new/')\n",
    "#res.text"
   ]
  },
  {
   "cell_type": "markdown",
   "metadata": {},
   "source": [
    "## 使用BeautifulSoup 剖析列表"
   ]
  },
  {
   "cell_type": "code",
   "execution_count": 11,
   "metadata": {
    "collapsed": false
   },
   "outputs": [
    {
     "name": "stdout",
     "output_type": "stream",
     "text": [
      "社會 09:42 七旬婦陳屍工寮　疑外力介入致死(0) http://www.appledaily.com.tw/realtimenews/article/local/20170219/1059494/七旬婦陳屍工寮　疑外力介入致死\n",
      "財經 09:41 禽流感肆虐　富邦人壽推「從寬理賠」(0) http://www.appledaily.com.tw/realtimenews/article/finance/20170219/1059317/禽流感肆虐　富邦人壽推「從寬理賠」\n",
      "娛樂 09:41 王寶強公開綠帽家醜　嗆出軌妻「把老實人逼...(0) http://www.appledaily.com.tw/realtimenews/article/entertainment/20170219/1059491/王寶強公開綠帽家醜　嗆出軌妻「把老實人逼到極限」\n",
      "社會 09:37 最強小鴨屁股貼這張　沒人敢停它旁邊(231) http://www.appledaily.com.tw/realtimenews/article/local/20170219/1059495/最強小鴨屁股貼這張　沒人敢停它旁邊\n",
      "體育 09:36 求教卡布瑞拉　山多瓦恢復左右開攻(25) http://www.appledaily.com.tw/realtimenews/article/sports/20170219/1059493/求教卡布瑞拉　山多瓦恢復左右開攻\n",
      "體育 09:36 【明星賽】尼克長人波辛吉斯　獲技術挑戰賽...(0) http://www.appledaily.com.tw/realtimenews/article/sports/20170219/1059497/【明星賽】尼克長人波辛吉斯　獲技術挑戰賽冠軍\n",
      "娛樂 09:34 【驚呆片】愛子公主嬰兒肥蒸發　叛逆期暴瘦...(30490) http://www.appledaily.com.tw/realtimenews/article/entertainment/20170219/1059331/【驚呆片】愛子公主嬰兒肥蒸發　叛逆期暴瘦變紙片人\n",
      "國際 09:32 美國航母戰鬥群行駛南海　挑動中國緊張神經(61) http://www.appledaily.com.tw/realtimenews/article/international/20170219/1059492/美國航母戰鬥群行駛南海　挑動中國緊張神經\n",
      "生活 09:31 【33死】觀光局長、公路總局長自請處分　...(11732) http://www.appledaily.com.tw/realtimenews/article/life/20170219/1059487/【33死】觀光局長、公路總局長自請處分　交通部證實\n",
      "地產 09:29 罕見洋樓式別墅　造型吸睛(860) http://www.appledaily.com.tw/realtimenews/article/property/20170219/1056227/罕見洋樓式別墅　造型吸睛\n",
      "國際 09:22 100kg大塊頭被絆倒　憤而踩死3歲女童(2374) http://www.appledaily.com.tw/realtimenews/article/international/20170219/1059488/100kg大塊頭被絆倒　憤而踩死3歲女童\n",
      "生活 09:18 中南部30個測站空品糟　高雄最慘幾乎全面...(480) http://www.appledaily.com.tw/realtimenews/article/life/20170219/1059489/中南部30個測站空品糟　高雄最慘幾乎全面紅害\n",
      "生活 09:17 台版《三星級營養午餐》　國小廚工好威風(1191) http://www.appledaily.com.tw/realtimenews/article/life/20170219/1059155/台版《三星級營養午餐》　國小廚工好威風\n",
      "生活 09:14 趴地翹屁股這樣嗆聲　網友：貞子表示...(899) http://www.appledaily.com.tw/realtimenews/article/life/20170219/1059479/趴地翹屁股這樣嗆聲　網友：貞子表示...\n",
      "國際 09:10 【圖解新聞】鞏固政權　金正恩殺害家人不手...(972) http://www.appledaily.com.tw/realtimenews/article/international/20170219/1059477/【圖解新聞】鞏固政權　金正恩殺害家人不手軟？\n",
      "社會 09:09 【33死】江蕙等娛樂圈重量級歌手　紛送花...(9510) http://www.appledaily.com.tw/realtimenews/article/local/20170219/1059485/【33死】江蕙等娛樂圈重量級歌手　紛送花致意\n",
      "體育 09:05 PGA傑尼斯高球賽R2　美國強森-10領...(133) http://www.appledaily.com.tw/realtimenews/article/sports/20170219/1059486/PGA傑尼斯高球賽R2　美國強森-10領先\n",
      "國際 09:04 【動畫】從皇太子到流亡被刺殺　揭金氏王朝...(1405) http://www.appledaily.com.tw/realtimenews/article/international/20170219/1059415/【動畫】從皇太子到流亡被刺殺　揭金氏王朝權力鬥爭\n",
      "國際 09:04 阿根廷巴士疑超速過彎　翻車19死23傷(8734) http://www.appledaily.com.tw/realtimenews/article/international/20170219/1059431/阿根廷巴士疑超速過彎　翻車19死23傷\n",
      "體育 09:01 印地安人牛棚角色確定　艾倫仍是終結者(765) http://www.appledaily.com.tw/realtimenews/article/sports/20170219/1059483/印地安人牛棚角色確定　艾倫仍是終結者\n",
      "生活 09:00 【古早味片】末代礱的傳人　無毒米環島爆香(21654) http://www.appledaily.com.tw/realtimenews/article/life/20170219/1057943/【古早味片】末代礱的傳人　無毒米環島爆香\n",
      "論壇 09:00 士農工商齊頭平等的年金制度(1671) http://www.appledaily.com.tw/realtimenews/article/forum/20170219/1059278/士農工商齊頭平等的年金制度\n",
      "娛樂 08:59  【韓星首封后】不倫女星金敏喜奪柏林影后...(9726) http://www.appledaily.com.tw/realtimenews/article/entertainment/20170219/1059440/【韓星首封后】不倫女星金敏喜奪柏林影后　當眾示愛人夫導演\n",
      "社會 08:56 【33死】蝶戀花國道車禍33死　追悼會哀...(3322) http://www.appledaily.com.tw/realtimenews/article/local/20170219/1059475/【33死】蝶戀花國道車禍33死　追悼會哀戚莊嚴\n",
      "論壇 08:52 【民報／那一年的這一天】2008.2.1...(1009) http://www.appledaily.com.tw/realtimenews/article/forum/20170219/1059482/【民報／那一年的這一天】2008.2.19東芝宣布終止HDDVD事業次世代DVD大戰落幕\n",
      "社會 08:49 自撞分隔島一度命危　男子送醫後救回(3364) http://www.appledaily.com.tw/realtimenews/article/local/20170219/1059463/自撞分隔島一度命危　男子送醫後救回\n",
      "財經 08:43 電腦周邊首季淡季不淡　群光估本季由電源產...(383) http://www.appledaily.com.tw/realtimenews/article/finance/20170219/1059454/電腦周邊首季淡季不淡　群光估本季由電源產品領攻\n",
      "生活 08:43 國5高乘載管制今取消　高公局這樣說(1942) http://www.appledaily.com.tw/realtimenews/article/life/20170219/1059476/國5高乘載管制今取消　高公局這樣說\n",
      "國際 08:42 ​不明飛機飛近川普別墅　F-15升空攔截(3258) http://www.appledaily.com.tw/realtimenews/article/international/20170219/1059478/​不明飛機飛近川普別墅　F-15升空攔截\n",
      "時尚 08:40 【時尚圖解】CHANEL N°5的魅惑　...(492) http://www.appledaily.com.tw/realtimenews/article/fashion/20170219/1059080/【時尚圖解】CHANELN°5的魅惑　Coco女士：搽在妳想被吻的地方\n"
     ]
    }
   ],
   "source": [
    "from bs4 import BeautifulSoup\n",
    "soup = BeautifulSoup(res.text, 'html.parser')\n",
    "DOMAIN = 'http://www.appledaily.com.tw'\n",
    "\n",
    "for news in soup.select('.rtddt a'):\n",
    "    title    = news.select('h1')[0].text\n",
    "    category = news.select('h2')[0].text\n",
    "    time     = news.select('time')[0].text\n",
    "    link     = DOMAIN + news['href']\n",
    "    print(category, time, title, link)"
   ]
  },
  {
   "cell_type": "markdown",
   "metadata": {},
   "source": [
    "## 存取內容頁"
   ]
  },
  {
   "cell_type": "code",
   "execution_count": 13,
   "metadata": {
    "collapsed": false
   },
   "outputs": [],
   "source": [
    "detailurl = 'http://www.appledaily.com.tw/realtimenews/article/finance/20170219/1059317/禽流感肆虐　富邦人壽推「從寬理賠」'\n",
    "res = requests.get(detailurl)\n",
    "soup = BeautifulSoup(res.text, 'html.parser')"
   ]
  },
  {
   "cell_type": "markdown",
   "metadata": {},
   "source": [
    "### 抓取標題"
   ]
  },
  {
   "cell_type": "code",
   "execution_count": 18,
   "metadata": {
    "collapsed": false
   },
   "outputs": [
    {
     "data": {
      "text/plain": [
       "'禽流感肆虐 富邦人壽推「從寬理賠」'"
      ]
     },
     "execution_count": 18,
     "metadata": {},
     "output_type": "execute_result"
    }
   ],
   "source": [
    "title = ' '.join(soup.select('#h1')[0].text.split())\n",
    "title"
   ]
  },
  {
   "cell_type": "markdown",
   "metadata": {},
   "source": [
    "### 抓取文章內容"
   ]
  },
  {
   "cell_type": "code",
   "execution_count": 22,
   "metadata": {
    "collapsed": false
   },
   "outputs": [
    {
     "data": {
      "text/plain": [
       "'近日H5N6亞型高病原性禽流感拉警報，全台多縣市禽場接連爆出疫情，行政院已成立禽流感中央災害應變中心提高防疫層級。許多民眾擔心疫情若是升溫，感染機會就可能變高，萬一遭受感染，保險是否理賠？富邦人壽表示，針對法定傳染病，富邦人壽的「壽險」與「醫療險」都有理賠，而且從寬認定給付，讓保戶安心。農委會防檢局表示，台灣已有雲林、嘉義、台南等縣市禽場傳出H5N6感染案例，疫情來勢洶洶，不少壽險公司的客服專線都接到民眾來電詢問，萬一遭受感染是否理賠？富邦人壽表示，針對法定傳染病，富邦人壽的「壽險」與「醫療險」均能理賠。即使民眾持有的醫療險為民國87年以前將法定傳染病列為除外責任的舊保單，富邦人壽基於關懷保戶立場從寬給付，依契約條款各項原定給付項目約定負保險責任，提供住院醫療保障。此外，具高傳染力及致死率的H7N9甲型流感病毒目前正在中國肆虐，累計已有16例禽傳人個案、11人死亡，其中以浙江、江蘇兩省疫情最為嚴重，北京、上海、廣東、湖南、河南等地亦有確診病例。由於兩岸往來頻繁，富邦人壽提醒國人如需前往上述地區出差或旅遊，除了投保「旅行平安險」，更別忘加買「海外突發疾病醫療險」附約，才能享有海外醫療理賠的完整保障。同樣的，如保戶在台灣投保，外派至中國工作且在中國境內發生保險事故，也會有當地「熟門熟路」保險業者代為照應。富邦人壽表示，2015年已與中國最大民營壽險公司平安人壽簽訂交換兩岸理賠契約，只要是富邦人壽保戶在中國當地發生保險事故，除了現有的SOS國際救援服務外，也可透過平安人壽協助申請理賠收件服務，突破需回到國內才能申請理賠的限制。（王立德/台北報導）'"
      ]
     },
     "execution_count": 22,
     "metadata": {},
     "output_type": "execute_result"
    }
   ],
   "source": [
    "summary = soup.select('#summary')[0].text\n",
    "summary"
   ]
  },
  {
   "cell_type": "markdown",
   "metadata": {},
   "source": [
    "### 抓取時間"
   ]
  },
  {
   "cell_type": "code",
   "execution_count": 28,
   "metadata": {
    "collapsed": false
   },
   "outputs": [
    {
     "data": {
      "text/plain": [
       "datetime.datetime(2017, 2, 19, 9, 41)"
      ]
     },
     "execution_count": 28,
     "metadata": {},
     "output_type": "execute_result"
    }
   ],
   "source": [
    "from datetime import datetime\n",
    "dt = datetime.strptime(soup.select('.gggs time')[0].text, '%Y年%m月%d日%H:%M')\n",
    "#type(dt)\n",
    "dt"
   ]
  },
  {
   "cell_type": "markdown",
   "metadata": {},
   "source": [
    "#### Strip"
   ]
  },
  {
   "cell_type": "code",
   "execution_count": 36,
   "metadata": {
    "collapsed": false
   },
   "outputs": [
    {
     "name": "stdout",
     "output_type": "stream",
     "text": [
      "       123     456      \n",
      "123     456      \n",
      "       123     456\n",
      "123     456\n"
     ]
    }
   ],
   "source": [
    "a = '       123     456      '\n",
    "print(a)\n",
    "print(a.lstrip())\n",
    "print(a.rstrip())\n",
    "print(a.strip())"
   ]
  },
  {
   "cell_type": "markdown",
   "metadata": {},
   "source": [
    "### 抓取點閱數"
   ]
  },
  {
   "cell_type": "code",
   "execution_count": 39,
   "metadata": {
    "collapsed": false
   },
   "outputs": [
    {
     "data": {
      "text/plain": [
       "'90'"
      ]
     },
     "execution_count": 39,
     "metadata": {},
     "output_type": "execute_result"
    }
   ],
   "source": [
    "clicked = soup.select('.clicked')[0].text.lstrip('人氣(').rstrip(')')\n",
    "clicked"
   ]
  },
  {
   "cell_type": "markdown",
   "metadata": {},
   "source": [
    "## 正規表達法"
   ]
  },
  {
   "cell_type": "code",
   "execution_count": 40,
   "metadata": {
    "collapsed": true
   },
   "outputs": [],
   "source": [
    "phone1 = '0912345678'\n",
    "phone2 = '0912-345-678'\n",
    "phone3 = '0912-345678'"
   ]
  },
  {
   "cell_type": "code",
   "execution_count": 47,
   "metadata": {
    "collapsed": false
   },
   "outputs": [
    {
     "name": "stdout",
     "output_type": "stream",
     "text": [
      "None\n",
      "<_sre.SRE_Match object; span=(1, 2), match='9'>\n",
      "<_sre.SRE_Match object; span=(9, 10), match='7'>\n",
      "<_sre.SRE_Match object; span=(0, 1), match='0'>\n",
      "<_sre.SRE_Match object; span=(0, 1), match='0'>\n",
      "<_sre.SRE_Match object; span=(0, 1), match='0'>\n"
     ]
    }
   ],
   "source": [
    "import re\n",
    "#re.match\n",
    "#re.search\n",
    "\n",
    "phone1 = '0922339987'\n",
    "# match 6 \n",
    "m = re.search('6', phone1)\n",
    "print(m)\n",
    "\n",
    "# match 9\n",
    "m = re.search('9', phone1)\n",
    "print(m)\n",
    "\n",
    "# match 6 or 7\n",
    "m = re.search('[67]', phone1)\n",
    "print(m)\n",
    "\n",
    "\n",
    "# match 0 or 1 or 2 or ... 9\n",
    "m = re.search('[0123456789]', phone1)\n",
    "print(m)\n",
    "\n",
    "# [0-9] = [0123456789]\n",
    "m = re.search('[0-9]', phone1)\n",
    "print(m)\n",
    "\n",
    "# \\d == [0-9]\n",
    "m = re.search('\\d', phone1)\n",
    "print(m)"
   ]
  },
  {
   "cell_type": "code",
   "execution_count": 51,
   "metadata": {
    "collapsed": false
   },
   "outputs": [
    {
     "name": "stdout",
     "output_type": "stream",
     "text": [
      "<_sre.SRE_Match object; span=(1, 2), match='s'>\n",
      "<_sre.SRE_Match object; span=(1, 2), match='s'>\n",
      "<_sre.SRE_Match object; span=(1, 2), match='s'>\n",
      "<_sre.SRE_Match object; span=(1, 2), match='s'>\n",
      "<_sre.SRE_Match object; span=(1, 2), match='s'>\n",
      "<_sre.SRE_Match object; span=(0, 1), match='小'>\n"
     ]
    }
   ],
   "source": [
    "name = '小s'\n",
    "\n",
    "# match s\n",
    "m = re.search('s', name)\n",
    "print(m)\n",
    "\n",
    "# match a or b or c or ... z\n",
    "m = re.search('[abcdefghijklmnopqrstuvwxyz]', name)\n",
    "print(m)\n",
    "\n",
    "\n",
    "# [a-z] = [abcdefghijklmnopqrstuvwxyz]\n",
    "m = re.search('[a-z]', name)\n",
    "print(m)\n",
    "\n",
    "# match a or b or ...z A or B or .... Z\n",
    "m = re.search('[a-zA-Z]', name)\n",
    "print(m)\n",
    "\n",
    "# match a or b or ...z; A or B or .... Z; 0 or 1 or ... 9\n",
    "m = re.search('[a-zA-Z0-9]', name)\n",
    "print(m)\n",
    "\n",
    "# \\w = [a-zA-Z0-9]... and any word\n",
    "m = re.search('\\w', name)\n",
    "print(m)"
   ]
  },
  {
   "cell_type": "code",
   "execution_count": 61,
   "metadata": {
    "collapsed": false
   },
   "outputs": [
    {
     "name": "stdout",
     "output_type": "stream",
     "text": [
      "<_sre.SRE_Match object; span=(0, 1), match='0'>\n",
      "<_sre.SRE_Match object; span=(0, 10), match='0922339987'>\n",
      "<_sre.SRE_Match object; span=(0, 5), match='09223'>\n",
      "<_sre.SRE_Match object; span=(0, 10), match='0922339987'>\n",
      "<_sre.SRE_Match object; span=(0, 10), match='0922339987'>\n",
      "<_sre.SRE_Match object; span=(0, 10), match='0922339987'>\n",
      "<_sre.SRE_Match object; span=(0, 10), match='0922339987'>\n"
     ]
    }
   ],
   "source": [
    "phone1 = '0922339987'\n",
    "m = re.search('\\d', phone1)\n",
    "print(m)\n",
    "\n",
    "# {} - match 10 digit => \\d{10}\n",
    "m = re.search('\\d{10}', phone1)\n",
    "print(m)\n",
    "\n",
    "# {} - match 3 ~ 5 digit => \\d{3  ,  5}\n",
    "m = re.search('\\d{3,5}', phone1)\n",
    "print(m)\n",
    "\n",
    "# {} - match 0 ~ infinity digit => \\d{0  ,  }\n",
    "m = re.search('\\d{0,}', phone1)\n",
    "print(m)\n",
    "\n",
    "# * = {0  ,  }\n",
    "m = re.search('\\d*', phone1)\n",
    "print(m)\n",
    "\n",
    "# {} - match 1 ~ infinity digit => \\d{1  ,  }\n",
    "m = re.search('\\d{1,}', phone1)\n",
    "print(m)\n",
    "\n",
    "# + = {1  ,  }\n",
    "m = re.search('\\d+', phone1)\n",
    "print(m)"
   ]
  },
  {
   "cell_type": "code",
   "execution_count": 66,
   "metadata": {
    "collapsed": false
   },
   "outputs": [
    {
     "name": "stdout",
     "output_type": "stream",
     "text": [
      "<_sre.SRE_Match object; span=(0, 10), match='0912345678'>\n",
      "<_sre.SRE_Match object; span=(0, 12), match='0912-345-678'>\n",
      "<_sre.SRE_Match object; span=(0, 11), match='0912-345678'>\n"
     ]
    }
   ],
   "source": [
    "phones = ['0912345678', '0912-345-678', '0912-345678']\n",
    "for phone in phones:\n",
    "    #print(phone)\n",
    "    #m = re.search('\\d{10}', phone)\n",
    "    #m = re.search('09\\d{2}-{0,1}\\d{3}-{0,1}\\d{3}', phone)\n",
    "    m = re.search('09\\d{2}-?\\d{3}-?\\d{3}', phone)\n",
    "    print(m)"
   ]
  },
  {
   "cell_type": "code",
   "execution_count": 75,
   "metadata": {
    "collapsed": false
   },
   "outputs": [
    {
     "name": "stdout",
     "output_type": "stream",
     "text": [
      "人氣(90)\n",
      "人氣(90)\n",
      "90\n"
     ]
    }
   ],
   "source": [
    "m = re.search('人氣\\(\\d+\\)', soup.select('.clicked')[0].text)\n",
    "print(m.group(0))\n",
    "#print(m.group(1))\n",
    "\n",
    "m = re.search('人氣\\((\\d+)\\)', soup.select('.clicked')[0].text)\n",
    "print(m.group(0))\n",
    "print(m.group(1))"
   ]
  },
  {
   "cell_type": "code",
   "execution_count": 80,
   "metadata": {
    "collapsed": false
   },
   "outputs": [
    {
     "name": "stdout",
     "output_type": "stream",
     "text": [
      "<_sre.SRE_Match object; span=(0, 16), match='david@largitdata'>\n",
      "<_sre.SRE_Match object; span=(0, 20), match='david@largitdata.com'>\n",
      "david@largitdata.com\n",
      "david\n",
      "largitdata.com\n"
     ]
    }
   ],
   "source": [
    "email = 'david@largitdata.com'\n",
    "m = re.search('\\w+@\\w+', email)\n",
    "print(m)\n",
    "\n",
    "m = re.search('\\w+@[\\w\\.]+', email)\n",
    "print(m)\n",
    "\n",
    "m = re.search('(\\w+)@([\\w\\.]+)', email)\n",
    "print(m.group(0))\n",
    "print(m.group(1)) # match username\n",
    "print(m.group(2)) # match domain name"
   ]
  },
  {
   "cell_type": "markdown",
   "metadata": {},
   "source": [
    "## 抓PCHOME"
   ]
  },
  {
   "cell_type": "code",
   "execution_count": 88,
   "metadata": {
    "collapsed": false
   },
   "outputs": [
    {
     "data": {
      "text/plain": [
       "'{\"DYAF55-A9006O6S8-000\":{\"Seq\":14708038,\"Id\":\"DYAF55-A9006O6S8-000\",\"Name\":\"cheero\\\\u963f\\\\u6123lightning & microUSB \\\\u5145\\\\u96fb\\\\u50b3\\\\u8f38\\\\u7dda\\\\uff1a10\\\\u516c\\\\u5206\\\\/MFi\\\\u8a8d\\\\u8b49(Andriod+\\\\u860b\\\\u679c\\\\u5169\\\\u7528)\",\"Nick\":\"cheero\\\\u963f\\\\u6123lightning & microUSB \\\\u5145\\\\u96fb\\\\u50b3\\\\u8f38\\\\u7dda\\\\uff1a10\\\\u516c\\\\u5206\\\\/MFi\\\\u8a8d\\\\u8b49\",\"Store\":\"DYAP00\",\"PreOrdDate\":\"\",\"SpeOrdDate\":\"\",\"Price\":{\"M\":520,\"P\":520},\"Discount\":0,\"Pic\":{\"B\":\"\\\\/items\\\\/DYAF55A9006O6S8\\\\/000001_1478493151.jpg\",\"S\":\"\\\\/items\\\\/DYAF55A9006O6S8\\\\/000002_1482400120.jpg\"},\"Weight\":0.06,\"ISBN\":\"\",\"Qty\":7,\"Bonus\":0,\"isBig\":0,\"isSpec\":0,\"isCombine\":0,\"isDiy\":0,\"isRecyclable\":0,\"isCarrier\":0,\"isMedical\":0,\"isBigCart\":1,\"isSnapUp\":0,\"isDescAndIntroSync\":0,\"isFoodContents\":0,\"isHuge\":0,\"isEnergySubsidy\":0}}'"
      ]
     },
     "execution_count": 88,
     "metadata": {},
     "output_type": "execute_result"
    }
   ],
   "source": [
    "import requests\n",
    "import re\n",
    "res = requests.get('http://ecapi.pchome.com.tw/ecshop/prodapi/v2/prod/DYAF55-A9006O6S8-000&store=DYAJ5F&fields=Seq,Id,Name,Nick,Store,PreOrdDate,SpeOrdDate,Price,Discount,Pic,Weight,ISBN,Qty,Bonus,isBig,isSpec,isCombine,isDiy,isRecyclable,isCarrier,isMedical,isBigCart,isSnapUp,isDescAndIntroSync,isFoodContents,isHuge,isEnergySubsidy&_callback=jsonp_prod&1487473920?_callback=jsonp_prod')\n",
    "m = re.search('try\\{jsonp_prod\\((.*?)\\);\\}', res.text)\n",
    "m.group(1)"
   ]
  },
  {
   "cell_type": "markdown",
   "metadata": {},
   "source": [
    "## 抓住商不動產"
   ]
  },
  {
   "cell_type": "code",
   "execution_count": 100,
   "metadata": {
    "collapsed": false
   },
   "outputs": [
    {
     "name": "stdout",
     "output_type": "stream",
     "text": [
      "121.498594 25.134147\n"
     ]
    }
   ],
   "source": [
    "import requests\n",
    "import re\n",
    "res = requests.get('http://www.hbhousing.com.tw/detail/?sn=YS78590')\n",
    "#print(res.encoding)\n",
    "res.encoding = 'utf-8'\n",
    "m = re.search('http://www.hbhousing.com.tw/detail/mapV2.asp\\?x=([\\d\\.]+)&y=([\\d\\.]+)',res.text)\n",
    "print(m.group(1), m.group(2))"
   ]
  },
  {
   "cell_type": "markdown",
   "metadata": {},
   "source": [
    "## 完整爬蟲流程"
   ]
  },
  {
   "cell_type": "markdown",
   "metadata": {},
   "source": [
    "### 0. 引用套件"
   ]
  },
  {
   "cell_type": "code",
   "execution_count": 101,
   "metadata": {
    "collapsed": true
   },
   "outputs": [],
   "source": [
    "import requests\n",
    "from bs4 import BeautifulSoup\n",
    "from datetime import datetime\n",
    "import re"
   ]
  },
  {
   "cell_type": "markdown",
   "metadata": {},
   "source": [
    "### 1. 建立內容抓取函式"
   ]
  },
  {
   "cell_type": "code",
   "execution_count": 127,
   "metadata": {
    "collapsed": false
   },
   "outputs": [],
   "source": [
    "def pageDetail(detailurl):\n",
    "    res     = requests.get(detailurl)\n",
    "    soup    = BeautifulSoup(res.text, 'html.parser')\n",
    "    \n",
    "    title   = ' '.join(soup.select('#h1')[0].text.split())\n",
    "    summary = ' '.join(soup.select('#summary')[0].text.split())\n",
    "    dt      = datetime.strptime(soup.select('.gggs time')[0].text, '%Y年%m月%d日%H:%M')\n",
    "    clicked = 0\n",
    "    if len(soup.select('.clicked')) > 0:\n",
    "        m = re.search('人氣\\((\\d+)\\)', soup.select('.clicked')[0].text)\n",
    "        if m:\n",
    "            clicked = int(m.group(1))\n",
    "    return {'title':title, 'summary':summary, 'dt':dt, 'clicked':clicked}"
   ]
  },
  {
   "cell_type": "code",
   "execution_count": 108,
   "metadata": {
    "collapsed": false
   },
   "outputs": [
    {
     "data": {
      "text/plain": [
       "{'clicked': 264,\n",
       " 'dt': datetime.datetime(2017, 2, 19, 11, 4),\n",
       " 'summary': '位於北市木新路與木柵路中間「小廢墟烘培工作室」，過去是一處無人敢靠近的廢工廠，屋內不僅有堆積如山的垃圾、破舊漏水的屋頂，還佈滿動物屍體與灰塵。但對咖啡烘培師洪璽開來說卻看到了不一樣的可能，在他耗時六個月的努力，與朋友獨力完成訂製天花板、接水電、裝潢等工程，曾是木柵一個不起眼的角落，如今已成為一處富有生命的咖啡豆烘培工作室，還獲選「老屋新生大獎」的銀獎。現年35歲的洪璽開，是地下樂團staycool的主唱，過去曾發過兩張專輯，還多次在日本巡迴演出。而在舞台下的他，則是一位專業咖啡烘培師；學生時期就在咖啡店打工並熱愛咖啡的他，30歲開始創業經營咖啡店，為了有個寧靜不干擾他人的烘培坊，他在2015年開始尋找專屬自己的小空間。「來到這裡(木柵)真的是誤打誤撞」，回憶自己找房的過程，洪璽開說自己剛好有位朋友，向他推薦父親修車廠旁的廢工廠，也就是現在的工作室。但他到場後的第一印象，卻是滿地的垃圾與灰塵，甚至還有動物的屍體，當時他第一反應就是「天啊！這怎麼可能有辦法做工作室」。但他走入室內觀看整個空間，發現這座廢工廠「空間結構很有趣」，裡面有個小夾層(樓中樓)，室內採光又很好，讓過去鍾情老房子、老傢俱的他，決定對空間進行大改造。洪說，最後他用「廢墟價」向房東租下這座空間，由於閒置20年，當時房東還打趣的說「租的時候現況租給你，還的時候不能這樣還給我」。回想改造的過程，洪璽開說光是清掉一座很像山的垃圾，就耗掉一個月的時間，接著他開始搭鐵皮、釘木頭天花板，再來接水電，最後裝潢，還給滿是粉塵的牆壁上漆，陸陸續續添加新傢俱、配備，最後一共花了6個月的時間、20萬餘元的預算，生出了現在的小廢墟烘培工作室。談到最困難的過程，洪璽開說實在太多太多，一開始搭鐵皮必須把整個屋頂都拆掉，當時他請了10個朋友來幫忙，務必要在一天內將它完工，沒想到鐵皮搭完僅兩天就遇到大颱風，雖然鐵皮沒被吹走，但「整個空間各式各樣的滴水」，等颱風走後大家又爬上屋頂，補了1、200支螺絲，針對漏水部分補強，才終於大功告成。此外在施工過程中，它也因為碰到金屬原料，導致全身過敏了一個禮拜，另外接水電時，也碰過一打開開關，結果電器電燈直接燒掉。但洪璽開說，整修過程有辛酸也有收穫，像他在清垃圾找到五個裝著檜木的麻布袋，後來這些木板變成了店內的櫃子，此外他在閣樓的角落，發現一隻禽鳥的骨骸，洪打趣的說，這隻鳥算是自己的學長、長輩，比自己更早來到這個地方守護著這個空間，後來他翻閱書籍，得知這隻鳥類科名「夜鷺」，索性將它的頭骨作為現在店面的LOGO，另外還有一台老舊的電扇，現在已被他改造成復古的燈飾。洪璽開說，「小廢墟烘培工作室」完成後，去年中開始作業，原本他定位這裡是個烘豆的工作室，裡頭擺了兩台烘豆機，還有生豆儲藏室，但後來發現自己一個禮拜只有4天到5天需要工作，既然這個地方好像滿漂亮，索性六、日開始營業賣起咖啡(第二家店)，雖然沒有考慮市場、地點，但目前為止已超出他的預期。談到工作室的未來，洪璽開說自己沒有想太多，但他認為這個神奇的空間充滿各種可能，這是他人生第一次改造空間，但在整修的過程中有了很深的體悟，「很多東西被別人丟掉，得到它後能給它一個新的身分，這東西又能用某種不同的生命延續下去」。(陳思豪/台北報導)APP讀者要看小廢墟烘焙工作室的今昔對比，請點這裡',\n",
       " 'title': '【老屋驚奇系列】文青主唱DIY 改造廢墟變咖啡天堂'}"
      ]
     },
     "execution_count": 108,
     "metadata": {},
     "output_type": "execute_result"
    }
   ],
   "source": [
    "pageDetail('http://www.appledaily.com.tw/realtimenews/article/life/20170219/1044398/%E3%80%90%E8%80%81%E5%B1%8B%E9%A9%9A%E5%A5%87%E7%B3%BB%E5%88%97%E3%80%91%E6%96%87%E9%9D%92%E4%B8%BB%E5%94%B1DIY%E3%80%80%E6%94%B9%E9%80%A0%E5%BB%A2%E5%A2%9F%E8%AE%8A%E5%92%96%E5%95%A1%E5%A4%A9%E5%A0%82')"
   ]
  },
  {
   "cell_type": "markdown",
   "metadata": {},
   "source": [
    "### 2. 從列表頁抓取所有資料"
   ]
  },
  {
   "cell_type": "code",
   "execution_count": 128,
   "metadata": {
    "collapsed": false
   },
   "outputs": [],
   "source": [
    "import time\n",
    "DOMAIN = 'http://www.appledaily.com.tw'\n",
    "\n",
    "newsary = []\n",
    "for page in range(1,5):\n",
    "    res = requests.get('http://www.appledaily.com.tw/realtimenews/section/new/{}'.format(page))\n",
    "    soup = BeautifulSoup(res.text, 'html.parser')\n",
    "    for news in soup.select('.rtddt a'):\n",
    "        title    = news.select('h1')[0].text\n",
    "        category = news.select('h2')[0].text\n",
    "        time     = news.select('time')[0].text\n",
    "        link     = DOMAIN + news['href']\n",
    "        detail   = pageDetail(link)\n",
    "        detail.update({'category':category, 'link':link})\n",
    "        newsary.append(detail)\n",
    "        #time.sleep(1)\n",
    "    #print(category, time, title, link)"
   ]
  },
  {
   "cell_type": "markdown",
   "metadata": {},
   "source": [
    "### 3. 將資料轉到Pandas 的DataFrame"
   ]
  },
  {
   "cell_type": "code",
   "execution_count": 131,
   "metadata": {
    "collapsed": false
   },
   "outputs": [
    {
     "data": {
      "text/html": [
       "<div>\n",
       "<table border=\"1\" class=\"dataframe\">\n",
       "  <thead>\n",
       "    <tr style=\"text-align: right;\">\n",
       "      <th></th>\n",
       "      <th>category</th>\n",
       "      <th>clicked</th>\n",
       "      <th>dt</th>\n",
       "      <th>link</th>\n",
       "      <th>summary</th>\n",
       "      <th>title</th>\n",
       "    </tr>\n",
       "  </thead>\n",
       "  <tbody>\n",
       "    <tr>\n",
       "      <th>0</th>\n",
       "      <td>社會</td>\n",
       "      <td>0</td>\n",
       "      <td>2017-02-19 12:02:00</td>\n",
       "      <td>http://www.appledaily.com.tw/realtimenews/arti...</td>\n",
       "      <td>無辜車主遭鞭炮炸到火燒車！臉書「爆料公社」粉絲團分享網友貼文，地點在台南佳里區，壟香科繞境，...</td>\n",
       "      <td>衰！壟香科繞境放鞭炮 被炸到火燒車</td>\n",
       "    </tr>\n",
       "    <tr>\n",
       "      <th>1</th>\n",
       "      <td>生活</td>\n",
       "      <td>0</td>\n",
       "      <td>2017-02-19 12:00:00</td>\n",
       "      <td>http://www.appledaily.com.tw/realtimenews/arti...</td>\n",
       "      <td>油價連二降！台灣中油公司宣布，依浮動油價機制計算，明天20日凌晨零時起，各式汽柴油價格調降0...</td>\n",
       "      <td>油價連二降！明汽柴油均降0.1元</td>\n",
       "    </tr>\n",
       "    <tr>\n",
       "      <th>2</th>\n",
       "      <td>社會</td>\n",
       "      <td>0</td>\n",
       "      <td>2017-02-19 11:58:00</td>\n",
       "      <td>http://www.appledaily.com.tw/realtimenews/arti...</td>\n",
       "      <td>苗栗縣聖方濟育幼院去年10月發生摔死院童案，生活輔導員張為瑜情緒管理欠佳，不滿11歲的何姓安...</td>\n",
       "      <td>摔死家暴童 育幼院輔導員判刑5年</td>\n",
       "    </tr>\n",
       "    <tr>\n",
       "      <th>3</th>\n",
       "      <td>娛樂</td>\n",
       "      <td>340</td>\n",
       "      <td>2017-02-19 11:57:00</td>\n",
       "      <td>http://www.appledaily.com.tw/realtimenews/arti...</td>\n",
       "      <td>東森財經台主播廖廷娟昨晚氣呼呼到警局備案，原來是有不理性的網友放話要到她的公司堵她！廖廷娟在...</td>\n",
       "      <td>財經美女主播驚遭恐嚇堵人 急奔警局求救！</td>\n",
       "    </tr>\n",
       "    <tr>\n",
       "      <th>4</th>\n",
       "      <td>社會</td>\n",
       "      <td>124</td>\n",
       "      <td>2017-02-19 11:55:00</td>\n",
       "      <td>http://www.appledaily.com.tw/realtimenews/arti...</td>\n",
       "      <td>桃園市一名40歲張姓男子，前天上午8時許，騎機車沿桃園區建新街往樹仁三街行駛，行經建新街46...</td>\n",
       "      <td>轉彎未減速禮讓直行車 騎士雙雙倒地</td>\n",
       "    </tr>\n",
       "  </tbody>\n",
       "</table>\n",
       "</div>"
      ],
      "text/plain": [
       "  category  clicked                  dt  \\\n",
       "0       社會        0 2017-02-19 12:02:00   \n",
       "1       生活        0 2017-02-19 12:00:00   \n",
       "2       社會        0 2017-02-19 11:58:00   \n",
       "3       娛樂      340 2017-02-19 11:57:00   \n",
       "4       社會      124 2017-02-19 11:55:00   \n",
       "\n",
       "                                                link  \\\n",
       "0  http://www.appledaily.com.tw/realtimenews/arti...   \n",
       "1  http://www.appledaily.com.tw/realtimenews/arti...   \n",
       "2  http://www.appledaily.com.tw/realtimenews/arti...   \n",
       "3  http://www.appledaily.com.tw/realtimenews/arti...   \n",
       "4  http://www.appledaily.com.tw/realtimenews/arti...   \n",
       "\n",
       "                                             summary                 title  \n",
       "0  無辜車主遭鞭炮炸到火燒車！臉書「爆料公社」粉絲團分享網友貼文，地點在台南佳里區，壟香科繞境，...     衰！壟香科繞境放鞭炮 被炸到火燒車  \n",
       "1  油價連二降！台灣中油公司宣布，依浮動油價機制計算，明天20日凌晨零時起，各式汽柴油價格調降0...      油價連二降！明汽柴油均降0.1元  \n",
       "2  苗栗縣聖方濟育幼院去年10月發生摔死院童案，生活輔導員張為瑜情緒管理欠佳，不滿11歲的何姓安...      摔死家暴童 育幼院輔導員判刑5年  \n",
       "3  東森財經台主播廖廷娟昨晚氣呼呼到警局備案，原來是有不理性的網友放話要到她的公司堵她！廖廷娟在...  財經美女主播驚遭恐嚇堵人 急奔警局求救！  \n",
       "4  桃園市一名40歲張姓男子，前天上午8時許，騎機車沿桃園區建新街往樹仁三街行駛，行經建新街46...     轉彎未減速禮讓直行車 騎士雙雙倒地  "
      ]
     },
     "execution_count": 131,
     "metadata": {},
     "output_type": "execute_result"
    }
   ],
   "source": [
    "import pandas\n",
    "newspd = pandas.DataFrame(newsary)\n",
    "newspd.head()"
   ]
  },
  {
   "cell_type": "code",
   "execution_count": 134,
   "metadata": {
    "collapsed": false
   },
   "outputs": [
    {
     "data": {
      "text/html": [
       "<div>\n",
       "<table border=\"1\" class=\"dataframe\">\n",
       "  <thead>\n",
       "    <tr style=\"text-align: right;\">\n",
       "      <th></th>\n",
       "      <th>category</th>\n",
       "      <th>clicked</th>\n",
       "      <th>dt</th>\n",
       "      <th>link</th>\n",
       "      <th>summary</th>\n",
       "      <th>title</th>\n",
       "    </tr>\n",
       "  </thead>\n",
       "  <tbody>\n",
       "    <tr>\n",
       "      <th>119</th>\n",
       "      <td>社會</td>\n",
       "      <td>101641</td>\n",
       "      <td>2017-02-19 07:29:00</td>\n",
       "      <td>http://www.appledaily.com.tw/realtimenews/arti...</td>\n",
       "      <td>還以為是豔遇，結果竟是一場「驚魂記」！《蘋果》即時新聞報導，新北市59歲男子16日在市場欣賞...</td>\n",
       "      <td>艷婦色誘阿伯下藥劫財 素顏落網被害人嚇呆</td>\n",
       "    </tr>\n",
       "    <tr>\n",
       "      <th>79</th>\n",
       "      <td>娛樂</td>\n",
       "      <td>90968</td>\n",
       "      <td>2017-02-19 09:34:00</td>\n",
       "      <td>http://www.appledaily.com.tw/realtimenews/arti...</td>\n",
       "      <td>(新增影片)15歲日本愛子公主下月22日將從目前就讀的學習院女子中學畢業，她月初上學途中被跟...</td>\n",
       "      <td>【驚呆片】愛子公主嬰兒肥蒸發 叛逆期暴瘦變紙片人</td>\n",
       "    </tr>\n",
       "    <tr>\n",
       "      <th>59</th>\n",
       "      <td>生活</td>\n",
       "      <td>47401</td>\n",
       "      <td>2017-02-19 10:19:00</td>\n",
       "      <td>http://www.appledaily.com.tw/realtimenews/arti...</td>\n",
       "      <td>（新增公路總局長、觀光局長說法）蝶戀花旅行社賞櫻團發生33死11傷的重大車禍，肇事原因檢調單...</td>\n",
       "      <td>【33死】車禍究責！ 觀光局長、公路總局長請辭</td>\n",
       "    </tr>\n",
       "    <tr>\n",
       "      <th>40</th>\n",
       "      <td>娛樂</td>\n",
       "      <td>41296</td>\n",
       "      <td>2017-02-19 11:00:00</td>\n",
       "      <td>http://www.appledaily.com.tw/realtimenews/arti...</td>\n",
       "      <td>台視前美女主播張宇，今在臉書宣布已與政大學長男友，Tutor ABC副總裁劉彥谷於2/15日...</td>\n",
       "      <td>【獨家】主播張宇10秒變人妻 閃嫁線上英語教學副總裁</td>\n",
       "    </tr>\n",
       "    <tr>\n",
       "      <th>101</th>\n",
       "      <td>國際</td>\n",
       "      <td>39130</td>\n",
       "      <td>2017-02-19 08:20:00</td>\n",
       "      <td>http://www.appledaily.com.tw/realtimenews/arti...</td>\n",
       "      <td>（新增：日本網友看法）北韓最高領導人金正恩的異母哥哥金正男，上周一（13日）在吉隆坡機場遇刺...</td>\n",
       "      <td>【更新】刺殺金正男 印尼女嫌：是「日本人」委託</td>\n",
       "    </tr>\n",
       "  </tbody>\n",
       "</table>\n",
       "</div>"
      ],
      "text/plain": [
       "    category  clicked                  dt  \\\n",
       "119       社會   101641 2017-02-19 07:29:00   \n",
       "79        娛樂    90968 2017-02-19 09:34:00   \n",
       "59        生活    47401 2017-02-19 10:19:00   \n",
       "40        娛樂    41296 2017-02-19 11:00:00   \n",
       "101       國際    39130 2017-02-19 08:20:00   \n",
       "\n",
       "                                                  link  \\\n",
       "119  http://www.appledaily.com.tw/realtimenews/arti...   \n",
       "79   http://www.appledaily.com.tw/realtimenews/arti...   \n",
       "59   http://www.appledaily.com.tw/realtimenews/arti...   \n",
       "40   http://www.appledaily.com.tw/realtimenews/arti...   \n",
       "101  http://www.appledaily.com.tw/realtimenews/arti...   \n",
       "\n",
       "                                               summary  \\\n",
       "119  還以為是豔遇，結果竟是一場「驚魂記」！《蘋果》即時新聞報導，新北市59歲男子16日在市場欣賞...   \n",
       "79   (新增影片)15歲日本愛子公主下月22日將從目前就讀的學習院女子中學畢業，她月初上學途中被跟...   \n",
       "59   （新增公路總局長、觀光局長說法）蝶戀花旅行社賞櫻團發生33死11傷的重大車禍，肇事原因檢調單...   \n",
       "40   台視前美女主播張宇，今在臉書宣布已與政大學長男友，Tutor ABC副總裁劉彥谷於2/15日...   \n",
       "101  （新增：日本網友看法）北韓最高領導人金正恩的異母哥哥金正男，上周一（13日）在吉隆坡機場遇刺...   \n",
       "\n",
       "                          title  \n",
       "119        艷婦色誘阿伯下藥劫財 素顏落網被害人嚇呆  \n",
       "79     【驚呆片】愛子公主嬰兒肥蒸發 叛逆期暴瘦變紙片人  \n",
       "59      【33死】車禍究責！ 觀光局長、公路總局長請辭  \n",
       "40   【獨家】主播張宇10秒變人妻 閃嫁線上英語教學副總裁  \n",
       "101     【更新】刺殺金正男 印尼女嫌：是「日本人」委託  "
      ]
     },
     "execution_count": 134,
     "metadata": {},
     "output_type": "execute_result"
    }
   ],
   "source": [
    "newspd.sort_values(['clicked'], ascending=False).head()"
   ]
  },
  {
   "cell_type": "code",
   "execution_count": 144,
   "metadata": {
    "collapsed": false
   },
   "outputs": [
    {
     "data": {
      "text/plain": [
       "category\n",
       "副刊        781\n",
       "國際      39130\n",
       "地產      12892\n",
       "壹週刊      4016\n",
       "娛樂      90968\n",
       "政治      24808\n",
       "時尚       1303\n",
       "生活      47401\n",
       "社會     101641\n",
       "論壇       3753\n",
       "財經      11987\n",
       "體育      10261\n",
       "Name: clicked, dtype: int64"
      ]
     },
     "execution_count": 144,
     "metadata": {},
     "output_type": "execute_result"
    }
   ],
   "source": [
    "#select max(clicked), category from newspd group by category\n",
    "#newspd.groupby(['category'])['clicked'].mean()\n",
    "#newspd.groupby(['category'])['clicked'].max()"
   ]
  },
  {
   "cell_type": "code",
   "execution_count": 143,
   "metadata": {
    "collapsed": false
   },
   "outputs": [
    {
     "data": {
      "text/html": [
       "<div>\n",
       "<table border=\"1\" class=\"dataframe\">\n",
       "  <thead>\n",
       "    <tr style=\"text-align: right;\">\n",
       "      <th></th>\n",
       "      <th>category</th>\n",
       "      <th>clicked</th>\n",
       "      <th>dt</th>\n",
       "      <th>link</th>\n",
       "      <th>summary</th>\n",
       "      <th>title</th>\n",
       "    </tr>\n",
       "  </thead>\n",
       "  <tbody>\n",
       "    <tr>\n",
       "      <th>13</th>\n",
       "      <td>壹週刊</td>\n",
       "      <td>4016</td>\n",
       "      <td>2017-02-19 11:40:00</td>\n",
       "      <td>http://www.appledaily.com.tw/realtimenews/arti...</td>\n",
       "      <td>你是否曾經想過，若是這個世界只有黑白，會是什麼模樣？分布清四季，每天穿的衣服沒什麼好配色，那...</td>\n",
       "      <td>【壹週刊】沒有他！就沒有TIFFANY藍！</td>\n",
       "    </tr>\n",
       "    <tr>\n",
       "      <th>37</th>\n",
       "      <td>副刊</td>\n",
       "      <td>781</td>\n",
       "      <td>2017-02-19 11:02:00</td>\n",
       "      <td>http://www.appledaily.com.tw/realtimenews/arti...</td>\n",
       "      <td>許多人出國都會碰到，還沒到住宿check in時間，但是拖著行李又不方便逛街的窘境！現在到東...</td>\n",
       "      <td>50年來新革命！東京推咖啡店寄放行李</td>\n",
       "    </tr>\n",
       "    <tr>\n",
       "      <th>41</th>\n",
       "      <td>地產</td>\n",
       "      <td>12892</td>\n",
       "      <td>2017-02-19 10:58:00</td>\n",
       "      <td>http://www.appledaily.com.tw/realtimenews/arti...</td>\n",
       "      <td>新增:影片國際大都會最豪氣的社區，大多位在市區邊緣的山坡上，以無敵景觀、隱密寬敞著稱，如香港...</td>\n",
       "      <td>【有片】比7期還要「豪」 台中比佛利山在這</td>\n",
       "    </tr>\n",
       "    <tr>\n",
       "      <th>59</th>\n",
       "      <td>生活</td>\n",
       "      <td>47401</td>\n",
       "      <td>2017-02-19 10:19:00</td>\n",
       "      <td>http://www.appledaily.com.tw/realtimenews/arti...</td>\n",
       "      <td>（新增公路總局長、觀光局長說法）蝶戀花旅行社賞櫻團發生33死11傷的重大車禍，肇事原因檢調單...</td>\n",
       "      <td>【33死】車禍究責！ 觀光局長、公路總局長請辭</td>\n",
       "    </tr>\n",
       "    <tr>\n",
       "      <th>79</th>\n",
       "      <td>娛樂</td>\n",
       "      <td>90968</td>\n",
       "      <td>2017-02-19 09:34:00</td>\n",
       "      <td>http://www.appledaily.com.tw/realtimenews/arti...</td>\n",
       "      <td>(新增影片)15歲日本愛子公主下月22日將從目前就讀的學習院女子中學畢業，她月初上學途中被跟...</td>\n",
       "      <td>【驚呆片】愛子公主嬰兒肥蒸發 叛逆期暴瘦變紙片人</td>\n",
       "    </tr>\n",
       "    <tr>\n",
       "      <th>91</th>\n",
       "      <td>論壇</td>\n",
       "      <td>3753</td>\n",
       "      <td>2017-02-19 09:00:00</td>\n",
       "      <td>http://www.appledaily.com.tw/realtimenews/arti...</td>\n",
       "      <td>陳明／時事評論者陳庚金日前在「全國公教軍警暨退休人員聯合總會」上的一席話，引起了軒然大波。其...</td>\n",
       "      <td>士農工商齊頭平等的年金制度</td>\n",
       "    </tr>\n",
       "    <tr>\n",
       "      <th>98</th>\n",
       "      <td>時尚</td>\n",
       "      <td>1303</td>\n",
       "      <td>2017-02-19 08:40:00</td>\n",
       "      <td>http://www.appledaily.com.tw/realtimenews/arti...</td>\n",
       "      <td>時尚女王Coco Chanel曾說：「不用香水的女人，沒有未來。」1921年，Coco從沙皇...</td>\n",
       "      <td>【時尚圖解】CHANEL N°5的魅惑 Coco女士：搽在妳想被吻的地方</td>\n",
       "    </tr>\n",
       "    <tr>\n",
       "      <th>100</th>\n",
       "      <td>政治</td>\n",
       "      <td>24808</td>\n",
       "      <td>2017-02-19 08:22:00</td>\n",
       "      <td>http://www.appledaily.com.tw/realtimenews/arti...</td>\n",
       "      <td>詐騙案件不斷，又有台籍海外詐騙嫌疑犯恐遭遣送到中國。外交部昨證實，去年底西班牙與中國聯手破獲...</td>\n",
       "      <td>涉詐騙案人數屢創新高 西班牙恐遣送200台人赴中</td>\n",
       "    </tr>\n",
       "    <tr>\n",
       "      <th>101</th>\n",
       "      <td>國際</td>\n",
       "      <td>39130</td>\n",
       "      <td>2017-02-19 08:20:00</td>\n",
       "      <td>http://www.appledaily.com.tw/realtimenews/arti...</td>\n",
       "      <td>（新增：日本網友看法）北韓最高領導人金正恩的異母哥哥金正男，上周一（13日）在吉隆坡機場遇刺...</td>\n",
       "      <td>【更新】刺殺金正男 印尼女嫌：是「日本人」委託</td>\n",
       "    </tr>\n",
       "    <tr>\n",
       "      <th>108</th>\n",
       "      <td>財經</td>\n",
       "      <td>11987</td>\n",
       "      <td>2017-02-19 08:04:00</td>\n",
       "      <td>http://www.appledaily.com.tw/realtimenews/arti...</td>\n",
       "      <td>更新：新增網友意見1937年問世的「撒隆巴斯」（Salonpas）是網傳「去日本一定要買的1...</td>\n",
       "      <td>【日貨不死鳥之二】從肌肉酸貼到肩頸痛 80年撒隆巴斯愈賣愈好</td>\n",
       "    </tr>\n",
       "    <tr>\n",
       "      <th>110</th>\n",
       "      <td>體育</td>\n",
       "      <td>10261</td>\n",
       "      <td>2017-02-19 08:00:00</td>\n",
       "      <td>http://www.appledaily.com.tw/realtimenews/arti...</td>\n",
       "      <td>混血美女小小關有8分之1的荷蘭血統，漂亮的臉蛋兼具歐美人的立體輪廓及東方人的細緻五官，朋友都...</td>\n",
       "      <td>【運動靚妹】美胸小關之琳 宅在家也能UP UP</td>\n",
       "    </tr>\n",
       "    <tr>\n",
       "      <th>119</th>\n",
       "      <td>社會</td>\n",
       "      <td>101641</td>\n",
       "      <td>2017-02-19 07:29:00</td>\n",
       "      <td>http://www.appledaily.com.tw/realtimenews/arti...</td>\n",
       "      <td>還以為是豔遇，結果竟是一場「驚魂記」！《蘋果》即時新聞報導，新北市59歲男子16日在市場欣賞...</td>\n",
       "      <td>艷婦色誘阿伯下藥劫財 素顏落網被害人嚇呆</td>\n",
       "    </tr>\n",
       "  </tbody>\n",
       "</table>\n",
       "</div>"
      ],
      "text/plain": [
       "    category  clicked                  dt  \\\n",
       "13       壹週刊     4016 2017-02-19 11:40:00   \n",
       "37        副刊      781 2017-02-19 11:02:00   \n",
       "41        地產    12892 2017-02-19 10:58:00   \n",
       "59        生活    47401 2017-02-19 10:19:00   \n",
       "79        娛樂    90968 2017-02-19 09:34:00   \n",
       "91        論壇     3753 2017-02-19 09:00:00   \n",
       "98        時尚     1303 2017-02-19 08:40:00   \n",
       "100       政治    24808 2017-02-19 08:22:00   \n",
       "101       國際    39130 2017-02-19 08:20:00   \n",
       "108       財經    11987 2017-02-19 08:04:00   \n",
       "110       體育    10261 2017-02-19 08:00:00   \n",
       "119       社會   101641 2017-02-19 07:29:00   \n",
       "\n",
       "                                                  link  \\\n",
       "13   http://www.appledaily.com.tw/realtimenews/arti...   \n",
       "37   http://www.appledaily.com.tw/realtimenews/arti...   \n",
       "41   http://www.appledaily.com.tw/realtimenews/arti...   \n",
       "59   http://www.appledaily.com.tw/realtimenews/arti...   \n",
       "79   http://www.appledaily.com.tw/realtimenews/arti...   \n",
       "91   http://www.appledaily.com.tw/realtimenews/arti...   \n",
       "98   http://www.appledaily.com.tw/realtimenews/arti...   \n",
       "100  http://www.appledaily.com.tw/realtimenews/arti...   \n",
       "101  http://www.appledaily.com.tw/realtimenews/arti...   \n",
       "108  http://www.appledaily.com.tw/realtimenews/arti...   \n",
       "110  http://www.appledaily.com.tw/realtimenews/arti...   \n",
       "119  http://www.appledaily.com.tw/realtimenews/arti...   \n",
       "\n",
       "                                               summary  \\\n",
       "13   你是否曾經想過，若是這個世界只有黑白，會是什麼模樣？分布清四季，每天穿的衣服沒什麼好配色，那...   \n",
       "37   許多人出國都會碰到，還沒到住宿check in時間，但是拖著行李又不方便逛街的窘境！現在到東...   \n",
       "41   新增:影片國際大都會最豪氣的社區，大多位在市區邊緣的山坡上，以無敵景觀、隱密寬敞著稱，如香港...   \n",
       "59   （新增公路總局長、觀光局長說法）蝶戀花旅行社賞櫻團發生33死11傷的重大車禍，肇事原因檢調單...   \n",
       "79   (新增影片)15歲日本愛子公主下月22日將從目前就讀的學習院女子中學畢業，她月初上學途中被跟...   \n",
       "91   陳明／時事評論者陳庚金日前在「全國公教軍警暨退休人員聯合總會」上的一席話，引起了軒然大波。其...   \n",
       "98   時尚女王Coco Chanel曾說：「不用香水的女人，沒有未來。」1921年，Coco從沙皇...   \n",
       "100  詐騙案件不斷，又有台籍海外詐騙嫌疑犯恐遭遣送到中國。外交部昨證實，去年底西班牙與中國聯手破獲...   \n",
       "101  （新增：日本網友看法）北韓最高領導人金正恩的異母哥哥金正男，上周一（13日）在吉隆坡機場遇刺...   \n",
       "108  更新：新增網友意見1937年問世的「撒隆巴斯」（Salonpas）是網傳「去日本一定要買的1...   \n",
       "110  混血美女小小關有8分之1的荷蘭血統，漂亮的臉蛋兼具歐美人的立體輪廓及東方人的細緻五官，朋友都...   \n",
       "119  還以為是豔遇，結果竟是一場「驚魂記」！《蘋果》即時新聞報導，新北市59歲男子16日在市場欣賞...   \n",
       "\n",
       "                                    title  \n",
       "13                  【壹週刊】沒有他！就沒有TIFFANY藍！  \n",
       "37                     50年來新革命！東京推咖啡店寄放行李  \n",
       "41                  【有片】比7期還要「豪」 台中比佛利山在這  \n",
       "59                【33死】車禍究責！ 觀光局長、公路總局長請辭  \n",
       "79               【驚呆片】愛子公主嬰兒肥蒸發 叛逆期暴瘦變紙片人  \n",
       "91                          士農工商齊頭平等的年金制度  \n",
       "98   【時尚圖解】CHANEL N°5的魅惑 Coco女士：搽在妳想被吻的地方  \n",
       "100              涉詐騙案人數屢創新高 西班牙恐遣送200台人赴中  \n",
       "101               【更新】刺殺金正男 印尼女嫌：是「日本人」委託  \n",
       "108        【日貨不死鳥之二】從肌肉酸貼到肩頸痛 80年撒隆巴斯愈賣愈好  \n",
       "110               【運動靚妹】美胸小關之琳 宅在家也能UP UP  \n",
       "119                  艷婦色誘阿伯下藥劫財 素顏落網被害人嚇呆  "
      ]
     },
     "execution_count": 143,
     "metadata": {},
     "output_type": "execute_result"
    }
   ],
   "source": [
    "idx = newspd.groupby(['category'])['clicked'].transform(max) == newspd['clicked']\n",
    "#idx\n",
    "newspd[idx]"
   ]
  },
  {
   "cell_type": "markdown",
   "metadata": {},
   "source": [
    "### 4. 將資料存成檔案"
   ]
  },
  {
   "cell_type": "code",
   "execution_count": 145,
   "metadata": {
    "collapsed": true
   },
   "outputs": [],
   "source": [
    "newspd.to_clipboard()"
   ]
  },
  {
   "cell_type": "code",
   "execution_count": 146,
   "metadata": {
    "collapsed": true
   },
   "outputs": [],
   "source": [
    "newspd.to_csv('news.csv')"
   ]
  },
  {
   "cell_type": "code",
   "execution_count": 147,
   "metadata": {
    "collapsed": true
   },
   "outputs": [],
   "source": [
    "newspd.to_excel('news.xlsx')"
   ]
  },
  {
   "cell_type": "code",
   "execution_count": 148,
   "metadata": {
    "collapsed": false
   },
   "outputs": [
    {
     "data": {
      "text/html": [
       "<div>\n",
       "<table border=\"1\" class=\"dataframe\">\n",
       "  <thead>\n",
       "    <tr style=\"text-align: right;\">\n",
       "      <th></th>\n",
       "      <th>category</th>\n",
       "      <th>clicked</th>\n",
       "      <th>dt</th>\n",
       "      <th>link</th>\n",
       "      <th>summary</th>\n",
       "      <th>title</th>\n",
       "    </tr>\n",
       "  </thead>\n",
       "  <tbody>\n",
       "    <tr>\n",
       "      <th>0</th>\n",
       "      <td>社會</td>\n",
       "      <td>0</td>\n",
       "      <td>2017-02-19 12:02:00</td>\n",
       "      <td>http://www.appledaily.com.tw/realtimenews/arti...</td>\n",
       "      <td>無辜車主遭鞭炮炸到火燒車！臉書「爆料公社」粉絲團分享網友貼文，地點在台南佳里區，壟香科繞境，...</td>\n",
       "      <td>衰！壟香科繞境放鞭炮 被炸到火燒車</td>\n",
       "    </tr>\n",
       "    <tr>\n",
       "      <th>1</th>\n",
       "      <td>生活</td>\n",
       "      <td>0</td>\n",
       "      <td>2017-02-19 12:00:00</td>\n",
       "      <td>http://www.appledaily.com.tw/realtimenews/arti...</td>\n",
       "      <td>油價連二降！台灣中油公司宣布，依浮動油價機制計算，明天20日凌晨零時起，各式汽柴油價格調降0...</td>\n",
       "      <td>油價連二降！明汽柴油均降0.1元</td>\n",
       "    </tr>\n",
       "    <tr>\n",
       "      <th>2</th>\n",
       "      <td>社會</td>\n",
       "      <td>0</td>\n",
       "      <td>2017-02-19 11:58:00</td>\n",
       "      <td>http://www.appledaily.com.tw/realtimenews/arti...</td>\n",
       "      <td>苗栗縣聖方濟育幼院去年10月發生摔死院童案，生活輔導員張為瑜情緒管理欠佳，不滿11歲的何姓安...</td>\n",
       "      <td>摔死家暴童 育幼院輔導員判刑5年</td>\n",
       "    </tr>\n",
       "    <tr>\n",
       "      <th>3</th>\n",
       "      <td>娛樂</td>\n",
       "      <td>340</td>\n",
       "      <td>2017-02-19 11:57:00</td>\n",
       "      <td>http://www.appledaily.com.tw/realtimenews/arti...</td>\n",
       "      <td>東森財經台主播廖廷娟昨晚氣呼呼到警局備案，原來是有不理性的網友放話要到她的公司堵她！廖廷娟在...</td>\n",
       "      <td>財經美女主播驚遭恐嚇堵人 急奔警局求救！</td>\n",
       "    </tr>\n",
       "    <tr>\n",
       "      <th>4</th>\n",
       "      <td>社會</td>\n",
       "      <td>124</td>\n",
       "      <td>2017-02-19 11:55:00</td>\n",
       "      <td>http://www.appledaily.com.tw/realtimenews/arti...</td>\n",
       "      <td>桃園市一名40歲張姓男子，前天上午8時許，騎機車沿桃園區建新街往樹仁三街行駛，行經建新街46...</td>\n",
       "      <td>轉彎未減速禮讓直行車 騎士雙雙倒地</td>\n",
       "    </tr>\n",
       "  </tbody>\n",
       "</table>\n",
       "</div>"
      ],
      "text/plain": [
       "  category  clicked                  dt  \\\n",
       "0       社會        0 2017-02-19 12:02:00   \n",
       "1       生活        0 2017-02-19 12:00:00   \n",
       "2       社會        0 2017-02-19 11:58:00   \n",
       "3       娛樂      340 2017-02-19 11:57:00   \n",
       "4       社會      124 2017-02-19 11:55:00   \n",
       "\n",
       "                                                link  \\\n",
       "0  http://www.appledaily.com.tw/realtimenews/arti...   \n",
       "1  http://www.appledaily.com.tw/realtimenews/arti...   \n",
       "2  http://www.appledaily.com.tw/realtimenews/arti...   \n",
       "3  http://www.appledaily.com.tw/realtimenews/arti...   \n",
       "4  http://www.appledaily.com.tw/realtimenews/arti...   \n",
       "\n",
       "                                             summary                 title  \n",
       "0  無辜車主遭鞭炮炸到火燒車！臉書「爆料公社」粉絲團分享網友貼文，地點在台南佳里區，壟香科繞境，...     衰！壟香科繞境放鞭炮 被炸到火燒車  \n",
       "1  油價連二降！台灣中油公司宣布，依浮動油價機制計算，明天20日凌晨零時起，各式汽柴油價格調降0...      油價連二降！明汽柴油均降0.1元  \n",
       "2  苗栗縣聖方濟育幼院去年10月發生摔死院童案，生活輔導員張為瑜情緒管理欠佳，不滿11歲的何姓安...      摔死家暴童 育幼院輔導員判刑5年  \n",
       "3  東森財經台主播廖廷娟昨晚氣呼呼到警局備案，原來是有不理性的網友放話要到她的公司堵她！廖廷娟在...  財經美女主播驚遭恐嚇堵人 急奔警局求救！  \n",
       "4  桃園市一名40歲張姓男子，前天上午8時許，騎機車沿桃園區建新街往樹仁三街行駛，行經建新街46...     轉彎未減速禮讓直行車 騎士雙雙倒地  "
      ]
     },
     "execution_count": 148,
     "metadata": {},
     "output_type": "execute_result"
    }
   ],
   "source": [
    "import pandas\n",
    "df2 = pandas.read_excel('news.xlsx')\n",
    "df2.head()"
   ]
  },
  {
   "cell_type": "code",
   "execution_count": 150,
   "metadata": {
    "collapsed": false
   },
   "outputs": [
    {
     "data": {
      "text/html": [
       "<div>\n",
       "<table border=\"1\" class=\"dataframe\">\n",
       "  <thead>\n",
       "    <tr style=\"text-align: right;\">\n",
       "      <th></th>\n",
       "      <th>0</th>\n",
       "      <th>1</th>\n",
       "      <th>2</th>\n",
       "    </tr>\n",
       "  </thead>\n",
       "  <tbody>\n",
       "    <tr>\n",
       "      <th>0</th>\n",
       "      <td>社會</td>\n",
       "      <td>0</td>\n",
       "      <td>2017-02-19</td>\n",
       "    </tr>\n",
       "    <tr>\n",
       "      <th>1</th>\n",
       "      <td>生活</td>\n",
       "      <td>0</td>\n",
       "      <td>2017-02-19</td>\n",
       "    </tr>\n",
       "    <tr>\n",
       "      <th>2</th>\n",
       "      <td>社會</td>\n",
       "      <td>0</td>\n",
       "      <td>2017-02-19</td>\n",
       "    </tr>\n",
       "    <tr>\n",
       "      <th>3</th>\n",
       "      <td>娛樂</td>\n",
       "      <td>340</td>\n",
       "      <td>2017-02-19</td>\n",
       "    </tr>\n",
       "    <tr>\n",
       "      <th>4</th>\n",
       "      <td>社會</td>\n",
       "      <td>124</td>\n",
       "      <td>2017-02-19</td>\n",
       "    </tr>\n",
       "    <tr>\n",
       "      <th>5</th>\n",
       "      <td>社會</td>\n",
       "      <td>889</td>\n",
       "      <td>2017-02-19</td>\n",
       "    </tr>\n",
       "    <tr>\n",
       "      <th>6</th>\n",
       "      <td>國際</td>\n",
       "      <td>176</td>\n",
       "      <td>2017-02-19</td>\n",
       "    </tr>\n",
       "  </tbody>\n",
       "</table>\n",
       "</div>"
      ],
      "text/plain": [
       "    0    1           2\n",
       "0  社會    0  2017-02-19\n",
       "1  生活    0  2017-02-19\n",
       "2  社會    0  2017-02-19\n",
       "3  娛樂  340  2017-02-19\n",
       "4  社會  124  2017-02-19\n",
       "5  社會  889  2017-02-19\n",
       "6  國際  176  2017-02-19"
      ]
     },
     "execution_count": 150,
     "metadata": {},
     "output_type": "execute_result"
    }
   ],
   "source": [
    "df3 = pandas.read_clipboard(sep=' ', header=None)\n",
    "df3"
   ]
  },
  {
   "cell_type": "code",
   "execution_count": 120,
   "metadata": {
    "collapsed": false
   },
   "outputs": [
    {
     "name": "stdout",
     "output_type": "stream",
     "text": [
      "http://www.appledaily.com.tw/realtimenews/section/new/1\n",
      "http://www.appledaily.com.tw/realtimenews/section/new/2\n",
      "http://www.appledaily.com.tw/realtimenews/section/new/3\n",
      "http://www.appledaily.com.tw/realtimenews/section/new/4\n",
      "http://www.appledaily.com.tw/realtimenews/section/new/5\n",
      "http://www.appledaily.com.tw/realtimenews/section/new/6\n"
     ]
    }
   ],
   "source": [
    "for page in range(1,7):\n",
    "    url = 'http://www.appledaily.com.tw/realtimenews/section/new/{}'\n",
    "    print(url.format(page))"
   ]
  },
  {
   "cell_type": "code",
   "execution_count": 151,
   "metadata": {
    "collapsed": false
   },
   "outputs": [],
   "source": [
    "#newsary"
   ]
  },
  {
   "cell_type": "markdown",
   "metadata": {},
   "source": [
    "### 資料庫基本操作 (I)"
   ]
  },
  {
   "cell_type": "code",
   "execution_count": 156,
   "metadata": {
    "collapsed": false
   },
   "outputs": [
    {
     "name": "stdout",
     "output_type": "stream",
     "text": [
      "('3.14.2',)\n"
     ]
    }
   ],
   "source": [
    "import sqlite3 as lite\n",
    "\n",
    "# 建立連線\n",
    "conn = lite.connect('test.sqlite')\n",
    "\n",
    "# 建立游標\n",
    "cur  = conn.cursor()\n",
    "\n",
    "# 下SQL\n",
    "cur.execute('SELECT SQLITE_VERSION()')\n",
    "\n",
    "# 取得資料\n",
    "data = cur.fetchone()\n",
    "print(data)\n",
    "\n",
    "# 關閉連線\n",
    "conn.close()"
   ]
  },
  {
   "cell_type": "markdown",
   "metadata": {},
   "source": [
    "### 資料庫基本操作 (II)"
   ]
  },
  {
   "cell_type": "code",
   "execution_count": 157,
   "metadata": {
    "collapsed": false
   },
   "outputs": [
    {
     "name": "stdout",
     "output_type": "stream",
     "text": [
      "('3.14.2',)\n"
     ]
    }
   ],
   "source": [
    "with lite.connect('test.sqlite') as conn:\n",
    "    # 建立游標\n",
    "    cur  = conn.cursor()\n",
    "\n",
    "    # 下SQL\n",
    "    cur.execute('SELECT SQLITE_VERSION()')\n",
    "\n",
    "    # 取得資料\n",
    "    data = cur.fetchone()\n",
    "    print(data)"
   ]
  },
  {
   "cell_type": "markdown",
   "metadata": {},
   "source": [
    "### 塞資料到SQLite 中"
   ]
  },
  {
   "cell_type": "code",
   "execution_count": 158,
   "metadata": {
    "collapsed": true
   },
   "outputs": [],
   "source": [
    "with lite.connect('test.sqlite') as conn:\n",
    "    # 建立游標\n",
    "    cur  = conn.cursor()\n",
    "\n",
    "    # 下SQL\n",
    "    cur.execute(\"DROP TABLE IF EXISTS PhoneAddress\") \n",
    "    cur.execute(\"CREATE TABLE PhoneAddress(phone CHAR(10) PRIMARY KEY, address TEXT, name TEXT unique, age INT NOT NULL)\") \n",
    "    cur.execute(\"INSERT INTO PhoneAddress VALUES('0912173381','United State','Jhon Doe',53)\") \n",
    "    cur.execute(\"INSERT INTO PhoneAddress VALUES('0928375018','Tokyo Japan','MuMu Cat',6)\") \n",
    "    cur.execute(\"INSERT INTO PhoneAddress VALUES('0957209108','Taipei','Richard',29)\") \n"
   ]
  },
  {
   "cell_type": "markdown",
   "metadata": {},
   "source": [
    "### 取得資料表資料"
   ]
  },
  {
   "cell_type": "code",
   "execution_count": 160,
   "metadata": {
    "collapsed": false
   },
   "outputs": [
    {
     "name": "stdout",
     "output_type": "stream",
     "text": [
      "[('0912173381', 'United State', 'Jhon Doe', 53), ('0928375018', 'Tokyo Japan', 'MuMu Cat', 6), ('0957209108', 'Taipei', 'Richard', 29)]\n"
     ]
    }
   ],
   "source": [
    "with lite.connect('test.sqlite') as conn:\n",
    "    # 建立游標\n",
    "    cur  = conn.cursor()\n",
    "\n",
    "    # 下SQL\n",
    "    cur.execute(\"SELECT * FROM PhoneAddress\") \n",
    "    \n",
    "    data = cur.fetchall()\n",
    "    print(data)\n"
   ]
  },
  {
   "cell_type": "code",
   "execution_count": 161,
   "metadata": {
    "collapsed": false
   },
   "outputs": [
    {
     "name": "stdout",
     "output_type": "stream",
     "text": [
      "('0912173381', 'United State', 'Jhon Doe', 53)\n",
      "[('0928375018', 'Tokyo Japan', 'MuMu Cat', 6), ('0957209108', 'Taipei', 'Richard', 29)]\n"
     ]
    }
   ],
   "source": [
    "with lite.connect('test.sqlite') as conn:\n",
    "    # 建立游標\n",
    "    cur  = conn.cursor()\n",
    "\n",
    "    # 下SQL\n",
    "    cur.execute(\"SELECT * FROM PhoneAddress\") \n",
    "    \n",
    "    data = cur.fetchone()\n",
    "    print(data)\n",
    "    \n",
    "    alldata = cur.fetchall()\n",
    "    print(alldata)"
   ]
  },
  {
   "cell_type": "markdown",
   "metadata": {},
   "source": [
    "### 5. 將資料存放到 SQLIte 之中"
   ]
  },
  {
   "cell_type": "code",
   "execution_count": 165,
   "metadata": {
    "collapsed": false
   },
   "outputs": [],
   "source": [
    "import sqlite3 as lite\n",
    "with lite.connect('news.sqlite') as conn:\n",
    "    newspd.to_sql(name='news', con = conn, if_exists='replace' )"
   ]
  },
  {
   "cell_type": "markdown",
   "metadata": {},
   "source": [
    "### 6. 從SQLIte 中取得資料"
   ]
  },
  {
   "cell_type": "code",
   "execution_count": 166,
   "metadata": {
    "collapsed": false
   },
   "outputs": [
    {
     "data": {
      "text/html": [
       "<div>\n",
       "<table border=\"1\" class=\"dataframe\">\n",
       "  <thead>\n",
       "    <tr style=\"text-align: right;\">\n",
       "      <th></th>\n",
       "      <th>title</th>\n",
       "      <th>clicked</th>\n",
       "    </tr>\n",
       "  </thead>\n",
       "  <tbody>\n",
       "    <tr>\n",
       "      <th>0</th>\n",
       "      <td>衰！壟香科繞境放鞭炮 被炸到火燒車</td>\n",
       "      <td>0</td>\n",
       "    </tr>\n",
       "    <tr>\n",
       "      <th>1</th>\n",
       "      <td>油價連二降！明汽柴油均降0.1元</td>\n",
       "      <td>0</td>\n",
       "    </tr>\n",
       "    <tr>\n",
       "      <th>2</th>\n",
       "      <td>摔死家暴童 育幼院輔導員判刑5年</td>\n",
       "      <td>0</td>\n",
       "    </tr>\n",
       "    <tr>\n",
       "      <th>3</th>\n",
       "      <td>財經美女主播驚遭恐嚇堵人 急奔警局求救！</td>\n",
       "      <td>340</td>\n",
       "    </tr>\n",
       "    <tr>\n",
       "      <th>4</th>\n",
       "      <td>轉彎未減速禮讓直行車 騎士雙雙倒地</td>\n",
       "      <td>124</td>\n",
       "    </tr>\n",
       "  </tbody>\n",
       "</table>\n",
       "</div>"
      ],
      "text/plain": [
       "                  title  clicked\n",
       "0     衰！壟香科繞境放鞭炮 被炸到火燒車        0\n",
       "1      油價連二降！明汽柴油均降0.1元        0\n",
       "2      摔死家暴童 育幼院輔導員判刑5年        0\n",
       "3  財經美女主播驚遭恐嚇堵人 急奔警局求救！      340\n",
       "4     轉彎未減速禮讓直行車 騎士雙雙倒地      124"
      ]
     },
     "execution_count": 166,
     "metadata": {},
     "output_type": "execute_result"
    }
   ],
   "source": [
    "import pandas\n",
    "with lite.connect('news.sqlite') as conn:\n",
    "    df = pandas.read_sql_query('SELECT title, clicked FROM news', con=conn)\n",
    "df.head()"
   ]
  },
  {
   "cell_type": "markdown",
   "metadata": {},
   "source": [
    "### 7. 資料視覺化"
   ]
  },
  {
   "cell_type": "code",
   "execution_count": 171,
   "metadata": {
    "collapsed": false
   },
   "outputs": [
    {
     "data": {
      "text/html": [
       "<div>\n",
       "<table border=\"1\" class=\"dataframe\">\n",
       "  <thead>\n",
       "    <tr style=\"text-align: right;\">\n",
       "      <th></th>\n",
       "      <th>category</th>\n",
       "      <th>sum_clicked</th>\n",
       "    </tr>\n",
       "  </thead>\n",
       "  <tbody>\n",
       "    <tr>\n",
       "      <th>0</th>\n",
       "      <td>副刊</td>\n",
       "      <td>781</td>\n",
       "    </tr>\n",
       "    <tr>\n",
       "      <th>1</th>\n",
       "      <td>國際</td>\n",
       "      <td>116713</td>\n",
       "    </tr>\n",
       "    <tr>\n",
       "      <th>2</th>\n",
       "      <td>地產</td>\n",
       "      <td>22221</td>\n",
       "    </tr>\n",
       "    <tr>\n",
       "      <th>3</th>\n",
       "      <td>壹週刊</td>\n",
       "      <td>4899</td>\n",
       "    </tr>\n",
       "    <tr>\n",
       "      <th>4</th>\n",
       "      <td>娛樂</td>\n",
       "      <td>287742</td>\n",
       "    </tr>\n",
       "    <tr>\n",
       "      <th>5</th>\n",
       "      <td>政治</td>\n",
       "      <td>33467</td>\n",
       "    </tr>\n",
       "    <tr>\n",
       "      <th>6</th>\n",
       "      <td>時尚</td>\n",
       "      <td>2101</td>\n",
       "    </tr>\n",
       "    <tr>\n",
       "      <th>7</th>\n",
       "      <td>生活</td>\n",
       "      <td>206072</td>\n",
       "    </tr>\n",
       "    <tr>\n",
       "      <th>8</th>\n",
       "      <td>社會</td>\n",
       "      <td>240638</td>\n",
       "    </tr>\n",
       "    <tr>\n",
       "      <th>9</th>\n",
       "      <td>論壇</td>\n",
       "      <td>5959</td>\n",
       "    </tr>\n",
       "    <tr>\n",
       "      <th>10</th>\n",
       "      <td>財經</td>\n",
       "      <td>17909</td>\n",
       "    </tr>\n",
       "    <tr>\n",
       "      <th>11</th>\n",
       "      <td>體育</td>\n",
       "      <td>35274</td>\n",
       "    </tr>\n",
       "  </tbody>\n",
       "</table>\n",
       "</div>"
      ],
      "text/plain": [
       "   category  sum_clicked\n",
       "0        副刊          781\n",
       "1        國際       116713\n",
       "2        地產        22221\n",
       "3       壹週刊         4899\n",
       "4        娛樂       287742\n",
       "5        政治        33467\n",
       "6        時尚         2101\n",
       "7        生活       206072\n",
       "8        社會       240638\n",
       "9        論壇         5959\n",
       "10       財經        17909\n",
       "11       體育        35274"
      ]
     },
     "execution_count": 171,
     "metadata": {},
     "output_type": "execute_result"
    }
   ],
   "source": [
    "import pandas\n",
    "with lite.connect('news.sqlite') as conn:\n",
    "    df_sum = pandas.read_sql_query(\\\n",
    "        'SELECT category, sum(clicked) as sum_clicked FROM news GROUP BY category', con=conn)\n",
    "df_sum"
   ]
  },
  {
   "cell_type": "code",
   "execution_count": 186,
   "metadata": {
    "collapsed": false
   },
   "outputs": [
    {
     "name": "stdout",
     "output_type": "stream",
     "text": [
      "Populating the interactive namespace from numpy and matplotlib\n"
     ]
    },
    {
     "data": {
      "text/plain": [
       "<matplotlib.axes._subplots.AxesSubplot at 0xa3c75d0>"
      ]
     },
     "execution_count": 186,
     "metadata": {},
     "output_type": "execute_result"
    },
    {
     "data": {
      "image/png": "[encoded data removed]",
      "text/plain": [
       "<matplotlib.figure.Figure at 0xa6e8970>"
      ]
     },
     "metadata": {},
     "output_type": "display_data"
    }
   ],
   "source": [
    "%pylab inline\n",
    "df_sum.index = df_sum['category']\n",
    "df_sum.plot(y ='sum_clicked', kind='pie', figsize=[5,5])"
   ]
  },
  {
   "cell_type": "markdown",
   "metadata": {},
   "source": [
    "### 字典操作"
   ]
  },
  {
   "cell_type": "code",
   "execution_count": 109,
   "metadata": {
    "collapsed": false
   },
   "outputs": [
    {
     "name": "stdout",
     "output_type": "stream",
     "text": [
      "{'a': 100, 'b': 'yes', 'c': 0.98}\n",
      "dict_keys(['a', 'b', 'c'])\n",
      "dict_values([100, 'yes', 0.98])\n",
      "100\n",
      "100\n"
     ]
    }
   ],
   "source": [
    "#declare dictionary \n",
    "dic = {'a':100, 'b':\"yes\", 'c':0.98} \n",
    "print(dic)\n",
    "\n",
    "#get keys in dictionary \n",
    "print(dic.keys())\n",
    "\n",
    "#get values in dictionary \n",
    "print(dic.values())\n",
    "\n",
    "#get value of given key \n",
    "print(dic['a'])\n",
    "\n",
    "#get value of given key \n",
    "print(dic.get('a'))\n"
   ]
  },
  {
   "cell_type": "code",
   "execution_count": 110,
   "metadata": {
    "collapsed": false
   },
   "outputs": [
    {
     "ename": "KeyError",
     "evalue": "'d'",
     "output_type": "error",
     "traceback": [
      "\u001b[0;31m---------------------------------------------------------------------------\u001b[0m",
      "\u001b[0;31mKeyError\u001b[0m                                  Traceback (most recent call last)",
      "\u001b[0;32m<ipython-input-110-305c23ee86bd>\u001b[0m in \u001b[0;36m<module>\u001b[0;34m()\u001b[0m\n\u001b[1;32m      1\u001b[0m \u001b[1;31m#get value of given key\u001b[0m\u001b[1;33m\u001b[0m\u001b[1;33m\u001b[0m\u001b[0m\n\u001b[0;32m----> 2\u001b[0;31m \u001b[0mprint\u001b[0m\u001b[1;33m(\u001b[0m\u001b[0mdic\u001b[0m\u001b[1;33m[\u001b[0m\u001b[1;34m'd'\u001b[0m\u001b[1;33m]\u001b[0m\u001b[1;33m)\u001b[0m\u001b[1;33m\u001b[0m\u001b[0m\n\u001b[0m",
      "\u001b[0;31mKeyError\u001b[0m: 'd'"
     ]
    }
   ],
   "source": [
    "#get value of given key \n",
    "print(dic['d'])"
   ]
  },
  {
   "cell_type": "code",
   "execution_count": 113,
   "metadata": {
    "collapsed": false
   },
   "outputs": [
    {
     "name": "stdout",
     "output_type": "stream",
     "text": [
      "None\n",
      "default\n",
      "100\n"
     ]
    }
   ],
   "source": [
    "#get value of given key \n",
    "print(dic.get('d'))\n",
    "print(dic.get('d', 'default'))\n",
    "\n",
    "print(dic.get('a', 'default'))"
   ]
  },
  {
   "cell_type": "code",
   "execution_count": 114,
   "metadata": {
    "collapsed": false
   },
   "outputs": [
    {
     "name": "stdout",
     "output_type": "stream",
     "text": [
      "{'a': 100, 'b': 'yes', 'c': 0.98, 'd': 'new'}\n",
      "{'a': 100, 'b': 'yes', 'c': 0.98, 'd': 'new', 'e': 123}\n",
      "a 100\n",
      "b yes\n",
      "c 0.98\n",
      "d new\n",
      "e 123\n"
     ]
    }
   ],
   "source": [
    "#add entry into dictionary \n",
    "dic['d'] = 'new' \n",
    "print(dic) \n",
    "\n",
    "#add entry into dictionary \n",
    "dic.update({'e':123}) \n",
    "print(dic) \n",
    "\n",
    "# iter the dictionary \n",
    "for rec in dic: \n",
    "    print(rec, dic[rec])"
   ]
  },
  {
   "cell_type": "markdown",
   "metadata": {},
   "source": [
    "## 抓取網路圖片"
   ]
  },
  {
   "cell_type": "code",
   "execution_count": 195,
   "metadata": {
    "collapsed": false
   },
   "outputs": [],
   "source": [
    "import requests\n",
    "\n",
    "def getImg(url):\n",
    "    res = requests.get(url)\n",
    "    with open(url.split('/')[-1], 'wb') as f:\n",
    "        f.write(res.content)"
   ]
  },
  {
   "cell_type": "code",
   "execution_count": 196,
   "metadata": {
    "collapsed": false
   },
   "outputs": [],
   "source": [
    "res = requests.get('http://www.appledaily.com.tw/realtimenews/article/entertainment/20170218/1058299/10%E5%A4%A7%E6%9C%80%E5%BC%B7%E6%97%A5%E6%9C%AC%E7%BE%8E%E5%B0%91%E5%A5%B3%20%E6%A9%8B%E6%9C%AC%E7%92%B0%E5%A5%88%E8%BC%B8%E7%B5%A6%E5%A5%B9%EF%BC%81')\n",
    "soup = BeautifulSoup(res.text, 'html.parser')\n",
    "for img_loc  in soup.select('.sglft img'):\n",
    "    getImg(img_loc['src'])"
   ]
  },
  {
   "cell_type": "code",
   "execution_count": 194,
   "metadata": {
    "collapsed": false
   },
   "outputs": [
    {
     "data": {
      "text/plain": [
       "'420_331adae1719f1a92552416cf21cad60a.jpg'"
      ]
     },
     "execution_count": 194,
     "metadata": {},
     "output_type": "execute_result"
    }
   ],
   "source": [
    "a = 'http://twimg.edgesuite.net/images/ReNews/20170218/420_331adae1719f1a92552416cf21cad60a.jpg'\n",
    "a.split('/')[-1]"
   ]
  },
  {
   "cell_type": "markdown",
   "metadata": {},
   "source": [
    "### Selenium 爬蟲"
   ]
  },
  {
   "cell_type": "markdown",
   "metadata": {},
   "source": [
    "####  Chromedriver\n",
    "- https://chromedriver.storage.googleapis.com/2.27/chromedriver_win32.zip"
   ]
  },
  {
   "cell_type": "code",
   "execution_count": 199,
   "metadata": {
    "collapsed": false
   },
   "outputs": [],
   "source": [
    "# -*- coding: utf-8 -*-\n",
    "from selenium import webdriver\n",
    "import unittest, time, re\n",
    "\n",
    "driver = webdriver.Chrome()\n",
    "driver.implicitly_wait(30)\n",
    "base_url = \"https://statementdog.com/\"\n",
    "\n",
    "driver.get(base_url + \"/users/sign_in\")\n",
    "driver.find_element_by_id(\"user_email\").clear()\n",
    "driver.find_element_by_id(\"user_email\").send_keys(\"kaikouu@easy.com\")\n",
    "driver.find_element_by_id(\"user_password\").clear()\n",
    "driver.find_element_by_id(\"user_password\").send_keys(\"123456\")\n",
    "driver.find_element_by_css_selector(\"button.submit-btn\").click()"
   ]
  },
  {
   "cell_type": "markdown",
   "metadata": {},
   "source": [
    "## 中華民國證券投資信託暨顧問商業同業公會"
   ]
  },
  {
   "cell_type": "code",
   "execution_count": 204,
   "metadata": {
    "collapsed": false
   },
   "outputs": [],
   "source": [
    "import requests\n",
    "from bs4 import BeautifulSoup\n",
    "\n",
    "payload = {\n",
    "'ctl00$ContentPlaceHolder1$Type':'radAll',\n",
    "'ctl00$ContentPlaceHolder1$ddlArea':'',\n",
    "'ctl00$ContentPlaceHolder1$ddlCurrency':'',\n",
    "'ctl00$ContentPlaceHolder1$ddlMonth':'201701',\n",
    "'ctl00$ContentPlaceHolder1$btnQuery':'查詢'   \n",
    "}\n",
    "\n",
    "rs = requests.session()\n",
    "res = rs.get('http://www.sitca.org.tw/ROC/Industry/IN3201.aspx?pid=IN3211')\n",
    "soup = BeautifulSoup(res.text, 'html.parser')\n",
    "for inp in soup.select('input[type==hidden]'):\n",
    "    #print(inp['name'])\n",
    "    payload[inp['name']] = inp['value']"
   ]
  },
  {
   "cell_type": "code",
   "execution_count": 206,
   "metadata": {
    "collapsed": false
   },
   "outputs": [],
   "source": [
    "res2 = rs.post('http://www.sitca.org.tw/ROC/Industry/IN3201.aspx?pid=IN3211', data = payload)\n",
    "dfs = pandas.read_html(res2.text)"
   ]
  },
  {
   "cell_type": "code",
   "execution_count": 216,
   "metadata": {
    "collapsed": false
   },
   "outputs": [],
   "source": [
    "df = dfs[4]\n",
    "# 使用第0列作為欄位名稱\n",
    "df.columns = df.ix[0]\n",
    "# 丟棄第 0 列\n",
    "df = df.drop(0)"
   ]
  },
  {
   "cell_type": "code",
   "execution_count": 218,
   "metadata": {
    "collapsed": false
   },
   "outputs": [],
   "source": [
    "df.to_excel('201701.xlsx')"
   ]
  },
  {
   "cell_type": "code",
   "execution_count": 227,
   "metadata": {
    "collapsed": false
   },
   "outputs": [],
   "source": [
    "from datetime import datetime, timedelta\n",
    "currentdate = datetime.now()\n",
    "for i in range(1,10):\n",
    "    dt = ((currentdate - timedelta(days=i * 30)).strftime('%Y%m'))\n",
    "    payload['ctl00$ContentPlaceHolder1$ddlMonth'] = dt\n",
    "    res2 = rs.post('http://www.sitca.org.tw/ROC/Industry/IN3201.aspx?pid=IN3211', data = payload)\n",
    "    dfs = pandas.read_html(res2.text)\n",
    "    df = dfs[4]\n",
    "    # 使用第0列作為欄位名稱\n",
    "    df.columns = df.ix[0]\n",
    "    # 丟棄第 0 列\n",
    "    df = df.drop(0)\n",
    "    df.to_excel('{}.xlsx'.format(dt))"
   ]
  },
  {
   "cell_type": "markdown",
   "metadata": {},
   "source": [
    "## 鉅亨網商品期貨新聞"
   ]
  },
  {
   "cell_type": "code",
   "execution_count": 248,
   "metadata": {
    "collapsed": false
   },
   "outputs": [
    {
     "data": {
      "text/plain": [
       "1484900177"
      ]
     },
     "execution_count": 248,
     "metadata": {},
     "output_type": "execute_result"
    }
   ],
   "source": [
    "from datetime import datetime, timedelta\n",
    "import time\n",
    "currenttime = datetime.now()\n",
    "int(time.mktime(currenttime.timetuple()))\n",
    "    \n",
    "dt = datetime.strptime('2017-02-01','%Y-%m-%d')\n",
    "int(time.mktime(dt.timetuple()))\n",
    "daybefore = currenttime - timedelta(days = 30)\n",
    "int(time.mktime(daybefore.timetuple()))"
   ]
  },
  {
   "cell_type": "code",
   "execution_count": 254,
   "metadata": {
    "collapsed": false
   },
   "outputs": [],
   "source": [
    "import requests\n",
    "import pandas\n",
    "currenttime = datetime.now()\n",
    "endat       = int(time.mktime(currenttime.timetuple()))\n",
    "\n",
    "daybefore = currenttime - timedelta(days = 30)\n",
    "startat   = int(time.mktime(daybefore.timetuple()))\n",
    "\n",
    "dfall = []\n",
    "page = 1\n",
    "res = requests.get('http://news.cnyes.com/api/v3/news/category/precious_metals?startAt={}&endAt={}&limit=30'.format(startat, endat, page))\n",
    "query_res = res.json()\n",
    "dfall.append(pandas.DataFrame(query_res['items']['data']))\n",
    "\n",
    "lastpage = query_res['items']['last_page']\n",
    "for page in range(2,lastpage + 1):\n",
    "    res = requests.get('http://news.cnyes.com/api/v3/news/category/precious_metals?startAt={}&endAt={}&limit=30'.format(startat, endat, page))\n",
    "    query_res = res.json()\n",
    "    dfall.append(pandas.DataFrame(query_res['items']['data']))\n"
   ]
  },
  {
   "cell_type": "code",
   "execution_count": 258,
   "metadata": {
    "collapsed": false
   },
   "outputs": [],
   "source": [
    "dffinal = pandas.concat(dfall)\n",
    "dffinal.to_excel('gold.xlsx')"
   ]
  },
  {
   "cell_type": "markdown",
   "metadata": {},
   "source": [
    "## 統一超商資料"
   ]
  },
  {
   "cell_type": "code",
   "execution_count": 288,
   "metadata": {
    "collapsed": false
   },
   "outputs": [],
   "source": [
    "import requests\n",
    "from bs4 import BeautifulSoup\n",
    "payload ={\n",
    "'commandid':'GetTown',\n",
    "'cityid':'01',\n",
    "'isDining':'False',\n",
    "'isParking':'False',\n",
    "'isLavatory':'False',\n",
    "'isATM':'False',\n",
    "'is7WiFi':'False',\n",
    "'isIce':'False',\n",
    "'isHotDog':'False',\n",
    "'isHealthStations':'False',\n",
    "'isIceCream':'False',\n",
    "'isOpenStore':'False',\n",
    "'isFruit':'False',\n",
    "'isCityCafe':'False',\n",
    "'isUp':'False',\n",
    "'isOrganic':'False',\n",
    "'isCorn':'False',\n",
    "'isMakeUp':'False',\n",
    "'isMuji':'False',\n",
    "'isMD':'False',\n",
    "'isStarBucks':'False',\n",
    "'isIbon':'False',\n",
    "'isTea':'False',\n",
    "'isSweetPotato':'False'    \n",
    "}\n",
    "res  = requests.post('https://emap.pcsc.com.tw/EMapSDK.aspx', data = payload)\n",
    "soup = BeautifulSoup(res.text,'html.parser')\n",
    "\n",
    "for geo in soup.select('geoposition'):\n",
    "    #print(geo.select('townid')[0].text, geo.select('townname')[0].text)\n",
    "    getStoreData(geo.select('townname')[0].text)"
   ]
  },
  {
   "cell_type": "code",
   "execution_count": 287,
   "metadata": {
    "collapsed": false
   },
   "outputs": [],
   "source": [
    "import requests\n",
    "payload2 = {\n",
    "'commandid':'SearchStore',\n",
    "'city':'台北市',\n",
    "'town':'大安區',\n",
    "'roadname':'',\n",
    "'ID':'',\n",
    "'StoreName':'',\n",
    "'SpecialStore_Kind':'',\n",
    "'isDining':'False',\n",
    "'isParking':'False',\n",
    "'isLavatory':'False',\n",
    "'isATM':'False',\n",
    "'is7WiFi':'False',\n",
    "'isIce':'False',\n",
    "'isHotDog':'False',\n",
    "'isHealthStations':'False',\n",
    "'isIceCream':'False',\n",
    "'isOpenStore':'False',\n",
    "'isFruit':'False',\n",
    "'isCityCafe':'False',\n",
    "'isUp':'False',\n",
    "'isOrganic':'False',\n",
    "'isCorn':'False',\n",
    "'isMakeUp':'False',\n",
    "'isMuji':'False',\n",
    "'isMD':'False',\n",
    "'isStarBucks':'False',\n",
    "'isIbon':'False',\n",
    "'isTea':'False',\n",
    "'isSweetPotato':'False',\n",
    "'address':''\n",
    "}\n",
    "\n",
    "geodata = []\n",
    "def getStoreData(area):\n",
    "    payload2['town'] = area\n",
    "    res = requests.post('https://emap.pcsc.com.tw/EMapSDK.aspx', data = payload2)\n",
    "    soup = BeautifulSoup(res.text,'html.parser')\n",
    "    #print(res.text)\n",
    "\n",
    "    for geo in soup.select('geoposition'):\n",
    "        dic = {}\n",
    "        for item in geo.contents:\n",
    "            dic[item.name] =  item.text\n",
    "        geodata.append(dic)"
   ]
  },
  {
   "cell_type": "code",
   "execution_count": 289,
   "metadata": {
    "collapsed": false
   },
   "outputs": [],
   "source": [
    "df = pandas.DataFrame(geodata)\n",
    "df['x'] = df['x'].map(lambda e : float(e)/ 1000000)\n",
    "df['y'] = df['y'].map(lambda e : float(e)/ 1000000)\n",
    "df.to_excel('seven.xlsx')"
   ]
  },
  {
   "cell_type": "code",
   "execution_count": null,
   "metadata": {
    "collapsed": true
   },
   "outputs": [],
   "source": []
  }
 ],
 "metadata": {
  "kernelspec": {
   "display_name": "Python 3",
   "language": "python",
   "name": "python3"
  },
  "language_info": {
   "codemirror_mode": {
    "name": "ipython",
    "version": 3
   },
   "file_extension": ".py",
   "mimetype": "text/x-python",
   "name": "python",
   "nbconvert_exporter": "python",
   "pygments_lexer": "ipython3",
   "version": "3.6.0"
  }
 },
 "nbformat": 4,
 "nbformat_minor": 2
}
