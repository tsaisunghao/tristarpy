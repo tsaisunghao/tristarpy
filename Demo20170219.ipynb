{
 "cells": [
  {
   "cell_type": "markdown",
   "metadata": {},
   "source": [
    "## 使用Requests 存取蘋果列表"
   ]
  },
  {
   "cell_type": "code",
   "execution_count": 4,
   "metadata": {
    "collapsed": false
   },
   "outputs": [],
   "source": [
    "import requests\n",
    "res = requests.get('http://www.appledaily.com.tw/realtimenews/section/new/')\n",
    "#res.text"
   ]
  },
  {
   "cell_type": "markdown",
   "metadata": {},
   "source": [
    "## 使用BeautifulSoup 剖析列表"
   ]
  },
  {
   "cell_type": "code",
   "execution_count": 11,
   "metadata": {
    "collapsed": false
   },
   "outputs": [
    {
     "name": "stdout",
     "output_type": "stream",
     "text": [
      "社會 09:42 七旬婦陳屍工寮　疑外力介入致死(0) http://www.appledaily.com.tw/realtimenews/article/local/20170219/1059494/七旬婦陳屍工寮　疑外力介入致死\n",
      "財經 09:41 禽流感肆虐　富邦人壽推「從寬理賠」(0) http://www.appledaily.com.tw/realtimenews/article/finance/20170219/1059317/禽流感肆虐　富邦人壽推「從寬理賠」\n",
      "娛樂 09:41 王寶強公開綠帽家醜　嗆出軌妻「把老實人逼...(0) http://www.appledaily.com.tw/realtimenews/article/entertainment/20170219/1059491/王寶強公開綠帽家醜　嗆出軌妻「把老實人逼到極限」\n",
      "社會 09:37 最強小鴨屁股貼這張　沒人敢停它旁邊(231) http://www.appledaily.com.tw/realtimenews/article/local/20170219/1059495/最強小鴨屁股貼這張　沒人敢停它旁邊\n",
      "體育 09:36 求教卡布瑞拉　山多瓦恢復左右開攻(25) http://www.appledaily.com.tw/realtimenews/article/sports/20170219/1059493/求教卡布瑞拉　山多瓦恢復左右開攻\n",
      "體育 09:36 【明星賽】尼克長人波辛吉斯　獲技術挑戰賽...(0) http://www.appledaily.com.tw/realtimenews/article/sports/20170219/1059497/【明星賽】尼克長人波辛吉斯　獲技術挑戰賽冠軍\n",
      "娛樂 09:34 【驚呆片】愛子公主嬰兒肥蒸發　叛逆期暴瘦...(30490) http://www.appledaily.com.tw/realtimenews/article/entertainment/20170219/1059331/【驚呆片】愛子公主嬰兒肥蒸發　叛逆期暴瘦變紙片人\n",
      "國際 09:32 美國航母戰鬥群行駛南海　挑動中國緊張神經(61) http://www.appledaily.com.tw/realtimenews/article/international/20170219/1059492/美國航母戰鬥群行駛南海　挑動中國緊張神經\n",
      "生活 09:31 【33死】觀光局長、公路總局長自請處分　...(11732) http://www.appledaily.com.tw/realtimenews/article/life/20170219/1059487/【33死】觀光局長、公路總局長自請處分　交通部證實\n",
      "地產 09:29 罕見洋樓式別墅　造型吸睛(860) http://www.appledaily.com.tw/realtimenews/article/property/20170219/1056227/罕見洋樓式別墅　造型吸睛\n",
      "國際 09:22 100kg大塊頭被絆倒　憤而踩死3歲女童(2374) http://www.appledaily.com.tw/realtimenews/article/international/20170219/1059488/100kg大塊頭被絆倒　憤而踩死3歲女童\n",
      "生活 09:18 中南部30個測站空品糟　高雄最慘幾乎全面...(480) http://www.appledaily.com.tw/realtimenews/article/life/20170219/1059489/中南部30個測站空品糟　高雄最慘幾乎全面紅害\n",
      "生活 09:17 台版《三星級營養午餐》　國小廚工好威風(1191) http://www.appledaily.com.tw/realtimenews/article/life/20170219/1059155/台版《三星級營養午餐》　國小廚工好威風\n",
      "生活 09:14 趴地翹屁股這樣嗆聲　網友：貞子表示...(899) http://www.appledaily.com.tw/realtimenews/article/life/20170219/1059479/趴地翹屁股這樣嗆聲　網友：貞子表示...\n",
      "國際 09:10 【圖解新聞】鞏固政權　金正恩殺害家人不手...(972) http://www.appledaily.com.tw/realtimenews/article/international/20170219/1059477/【圖解新聞】鞏固政權　金正恩殺害家人不手軟？\n",
      "社會 09:09 【33死】江蕙等娛樂圈重量級歌手　紛送花...(9510) http://www.appledaily.com.tw/realtimenews/article/local/20170219/1059485/【33死】江蕙等娛樂圈重量級歌手　紛送花致意\n",
      "體育 09:05 PGA傑尼斯高球賽R2　美國強森-10領...(133) http://www.appledaily.com.tw/realtimenews/article/sports/20170219/1059486/PGA傑尼斯高球賽R2　美國強森-10領先\n",
      "國際 09:04 【動畫】從皇太子到流亡被刺殺　揭金氏王朝...(1405) http://www.appledaily.com.tw/realtimenews/article/international/20170219/1059415/【動畫】從皇太子到流亡被刺殺　揭金氏王朝權力鬥爭\n",
      "國際 09:04 阿根廷巴士疑超速過彎　翻車19死23傷(8734) http://www.appledaily.com.tw/realtimenews/article/international/20170219/1059431/阿根廷巴士疑超速過彎　翻車19死23傷\n",
      "體育 09:01 印地安人牛棚角色確定　艾倫仍是終結者(765) http://www.appledaily.com.tw/realtimenews/article/sports/20170219/1059483/印地安人牛棚角色確定　艾倫仍是終結者\n",
      "生活 09:00 【古早味片】末代礱的傳人　無毒米環島爆香(21654) http://www.appledaily.com.tw/realtimenews/article/life/20170219/1057943/【古早味片】末代礱的傳人　無毒米環島爆香\n",
      "論壇 09:00 士農工商齊頭平等的年金制度(1671) http://www.appledaily.com.tw/realtimenews/article/forum/20170219/1059278/士農工商齊頭平等的年金制度\n",
      "娛樂 08:59  【韓星首封后】不倫女星金敏喜奪柏林影后...(9726) http://www.appledaily.com.tw/realtimenews/article/entertainment/20170219/1059440/【韓星首封后】不倫女星金敏喜奪柏林影后　當眾示愛人夫導演\n",
      "社會 08:56 【33死】蝶戀花國道車禍33死　追悼會哀...(3322) http://www.appledaily.com.tw/realtimenews/article/local/20170219/1059475/【33死】蝶戀花國道車禍33死　追悼會哀戚莊嚴\n",
      "論壇 08:52 【民報／那一年的這一天】2008.2.1...(1009) http://www.appledaily.com.tw/realtimenews/article/forum/20170219/1059482/【民報／那一年的這一天】2008.2.19東芝宣布終止HDDVD事業次世代DVD大戰落幕\n",
      "社會 08:49 自撞分隔島一度命危　男子送醫後救回(3364) http://www.appledaily.com.tw/realtimenews/article/local/20170219/1059463/自撞分隔島一度命危　男子送醫後救回\n",
      "財經 08:43 電腦周邊首季淡季不淡　群光估本季由電源產...(383) http://www.appledaily.com.tw/realtimenews/article/finance/20170219/1059454/電腦周邊首季淡季不淡　群光估本季由電源產品領攻\n",
      "生活 08:43 國5高乘載管制今取消　高公局這樣說(1942) http://www.appledaily.com.tw/realtimenews/article/life/20170219/1059476/國5高乘載管制今取消　高公局這樣說\n",
      "國際 08:42 ​不明飛機飛近川普別墅　F-15升空攔截(3258) http://www.appledaily.com.tw/realtimenews/article/international/20170219/1059478/​不明飛機飛近川普別墅　F-15升空攔截\n",
      "時尚 08:40 【時尚圖解】CHANEL N°5的魅惑　...(492) http://www.appledaily.com.tw/realtimenews/article/fashion/20170219/1059080/【時尚圖解】CHANELN°5的魅惑　Coco女士：搽在妳想被吻的地方\n"
     ]
    }
   ],
   "source": [
    "from bs4 import BeautifulSoup\n",
    "soup = BeautifulSoup(res.text, 'html.parser')\n",
    "DOMAIN = 'http://www.appledaily.com.tw'\n",
    "\n",
    "for news in soup.select('.rtddt a'):\n",
    "    title    = news.select('h1')[0].text\n",
    "    category = news.select('h2')[0].text\n",
    "    time     = news.select('time')[0].text\n",
    "    link     = DOMAIN + news['href']\n",
    "    print(category, time, title, link)"
   ]
  },
  {
   "cell_type": "markdown",
   "metadata": {},
   "source": [
    "## 存取內容頁"
   ]
  },
  {
   "cell_type": "code",
   "execution_count": 13,
   "metadata": {
    "collapsed": false
   },
   "outputs": [],
   "source": [
    "detailurl = 'http://www.appledaily.com.tw/realtimenews/article/finance/20170219/1059317/禽流感肆虐　富邦人壽推「從寬理賠」'\n",
    "res = requests.get(detailurl)\n",
    "soup = BeautifulSoup(res.text, 'html.parser')"
   ]
  },
  {
   "cell_type": "markdown",
   "metadata": {},
   "source": [
    "### 抓取標題"
   ]
  },
  {
   "cell_type": "code",
   "execution_count": 18,
   "metadata": {
    "collapsed": false
   },
   "outputs": [
    {
     "data": {
      "text/plain": [
       "'禽流感肆虐 富邦人壽推「從寬理賠」'"
      ]
     },
     "execution_count": 18,
     "metadata": {},
     "output_type": "execute_result"
    }
   ],
   "source": [
    "title = ' '.join(soup.select('#h1')[0].text.split())\n",
    "title"
   ]
  },
  {
   "cell_type": "markdown",
   "metadata": {},
   "source": [
    "### 抓取文章內容"
   ]
  },
  {
   "cell_type": "code",
   "execution_count": 22,
   "metadata": {
    "collapsed": false
   },
   "outputs": [
    {
     "data": {
      "text/plain": [
       "'近日H5N6亞型高病原性禽流感拉警報，全台多縣市禽場接連爆出疫情，行政院已成立禽流感中央災害應變中心提高防疫層級。許多民眾擔心疫情若是升溫，感染機會就可能變高，萬一遭受感染，保險是否理賠？富邦人壽表示，針對法定傳染病，富邦人壽的「壽險」與「醫療險」都有理賠，而且從寬認定給付，讓保戶安心。農委會防檢局表示，台灣已有雲林、嘉義、台南等縣市禽場傳出H5N6感染案例，疫情來勢洶洶，不少壽險公司的客服專線都接到民眾來電詢問，萬一遭受感染是否理賠？富邦人壽表示，針對法定傳染病，富邦人壽的「壽險」與「醫療險」均能理賠。即使民眾持有的醫療險為民國87年以前將法定傳染病列為除外責任的舊保單，富邦人壽基於關懷保戶立場從寬給付，依契約條款各項原定給付項目約定負保險責任，提供住院醫療保障。此外，具高傳染力及致死率的H7N9甲型流感病毒目前正在中國肆虐，累計已有16例禽傳人個案、11人死亡，其中以浙江、江蘇兩省疫情最為嚴重，北京、上海、廣東、湖南、河南等地亦有確診病例。由於兩岸往來頻繁，富邦人壽提醒國人如需前往上述地區出差或旅遊，除了投保「旅行平安險」，更別忘加買「海外突發疾病醫療險」附約，才能享有海外醫療理賠的完整保障。同樣的，如保戶在台灣投保，外派至中國工作且在中國境內發生保險事故，也會有當地「熟門熟路」保險業者代為照應。富邦人壽表示，2015年已與中國最大民營壽險公司平安人壽簽訂交換兩岸理賠契約，只要是富邦人壽保戶在中國當地發生保險事故，除了現有的SOS國際救援服務外，也可透過平安人壽協助申請理賠收件服務，突破需回到國內才能申請理賠的限制。（王立德/台北報導）'"
      ]
     },
     "execution_count": 22,
     "metadata": {},
     "output_type": "execute_result"
    }
   ],
   "source": [
    "summary = soup.select('#summary')[0].text\n",
    "summary"
   ]
  },
  {
   "cell_type": "markdown",
   "metadata": {},
   "source": [
    "### 抓取時間"
   ]
  },
  {
   "cell_type": "code",
   "execution_count": 28,
   "metadata": {
    "collapsed": false
   },
   "outputs": [
    {
     "data": {
      "text/plain": [
       "datetime.datetime(2017, 2, 19, 9, 41)"
      ]
     },
     "execution_count": 28,
     "metadata": {},
     "output_type": "execute_result"
    }
   ],
   "source": [
    "from datetime import datetime\n",
    "dt = datetime.strptime(soup.select('.gggs time')[0].text, '%Y年%m月%d日%H:%M')\n",
    "#type(dt)\n",
    "dt"
   ]
  },
  {
   "cell_type": "markdown",
   "metadata": {},
   "source": [
    "#### Strip"
   ]
  },
  {
   "cell_type": "code",
   "execution_count": 36,
   "metadata": {
    "collapsed": false
   },
   "outputs": [
    {
     "name": "stdout",
     "output_type": "stream",
     "text": [
      "       123     456      \n",
      "123     456      \n",
      "       123     456\n",
      "123     456\n"
     ]
    }
   ],
   "source": [
    "a = '       123     456      '\n",
    "print(a)\n",
    "print(a.lstrip())\n",
    "print(a.rstrip())\n",
    "print(a.strip())"
   ]
  },
  {
   "cell_type": "markdown",
   "metadata": {},
   "source": [
    "### 抓取點閱數"
   ]
  },
  {
   "cell_type": "code",
   "execution_count": 39,
   "metadata": {
    "collapsed": false
   },
   "outputs": [
    {
     "data": {
      "text/plain": [
       "'90'"
      ]
     },
     "execution_count": 39,
     "metadata": {},
     "output_type": "execute_result"
    }
   ],
   "source": [
    "clicked = soup.select('.clicked')[0].text.lstrip('人氣(').rstrip(')')\n",
    "clicked"
   ]
  },
  {
   "cell_type": "markdown",
   "metadata": {},
   "source": [
    "## 正規表達法"
   ]
  },
  {
   "cell_type": "code",
   "execution_count": 40,
   "metadata": {
    "collapsed": true
   },
   "outputs": [],
   "source": [
    "phone1 = '0912345678'\n",
    "phone2 = '0912-345-678'\n",
    "phone3 = '0912-345678'"
   ]
  },
  {
   "cell_type": "code",
   "execution_count": 47,
   "metadata": {
    "collapsed": false
   },
   "outputs": [
    {
     "name": "stdout",
     "output_type": "stream",
     "text": [
      "None\n",
      "<_sre.SRE_Match object; span=(1, 2), match='9'>\n",
      "<_sre.SRE_Match object; span=(9, 10), match='7'>\n",
      "<_sre.SRE_Match object; span=(0, 1), match='0'>\n",
      "<_sre.SRE_Match object; span=(0, 1), match='0'>\n",
      "<_sre.SRE_Match object; span=(0, 1), match='0'>\n"
     ]
    }
   ],
   "source": [
    "import re\n",
    "#re.match\n",
    "#re.search\n",
    "\n",
    "phone1 = '0922339987'\n",
    "# match 6 \n",
    "m = re.search('6', phone1)\n",
    "print(m)\n",
    "\n",
    "# match 9\n",
    "m = re.search('9', phone1)\n",
    "print(m)\n",
    "\n",
    "# match 6 or 7\n",
    "m = re.search('[67]', phone1)\n",
    "print(m)\n",
    "\n",
    "\n",
    "# match 0 or 1 or 2 or ... 9\n",
    "m = re.search('[0123456789]', phone1)\n",
    "print(m)\n",
    "\n",
    "# [0-9] = [0123456789]\n",
    "m = re.search('[0-9]', phone1)\n",
    "print(m)\n",
    "\n",
    "# \\d == [0-9]\n",
    "m = re.search('\\d', phone1)\n",
    "print(m)"
   ]
  },
  {
   "cell_type": "code",
   "execution_count": 51,
   "metadata": {
    "collapsed": false
   },
   "outputs": [
    {
     "name": "stdout",
     "output_type": "stream",
     "text": [
      "<_sre.SRE_Match object; span=(1, 2), match='s'>\n",
      "<_sre.SRE_Match object; span=(1, 2), match='s'>\n",
      "<_sre.SRE_Match object; span=(1, 2), match='s'>\n",
      "<_sre.SRE_Match object; span=(1, 2), match='s'>\n",
      "<_sre.SRE_Match object; span=(1, 2), match='s'>\n",
      "<_sre.SRE_Match object; span=(0, 1), match='小'>\n"
     ]
    }
   ],
   "source": [
    "name = '小s'\n",
    "\n",
    "# match s\n",
    "m = re.search('s', name)\n",
    "print(m)\n",
    "\n",
    "# match a or b or c or ... z\n",
    "m = re.search('[abcdefghijklmnopqrstuvwxyz]', name)\n",
    "print(m)\n",
    "\n",
    "\n",
    "# [a-z] = [abcdefghijklmnopqrstuvwxyz]\n",
    "m = re.search('[a-z]', name)\n",
    "print(m)\n",
    "\n",
    "# match a or b or ...z A or B or .... Z\n",
    "m = re.search('[a-zA-Z]', name)\n",
    "print(m)\n",
    "\n",
    "# match a or b or ...z; A or B or .... Z; 0 or 1 or ... 9\n",
    "m = re.search('[a-zA-Z0-9]', name)\n",
    "print(m)\n",
    "\n",
    "# \\w = [a-zA-Z0-9]... and any word\n",
    "m = re.search('\\w', name)\n",
    "print(m)"
   ]
  },
  {
   "cell_type": "code",
   "execution_count": 61,
   "metadata": {
    "collapsed": false
   },
   "outputs": [
    {
     "name": "stdout",
     "output_type": "stream",
     "text": [
      "<_sre.SRE_Match object; span=(0, 1), match='0'>\n",
      "<_sre.SRE_Match object; span=(0, 10), match='0922339987'>\n",
      "<_sre.SRE_Match object; span=(0, 5), match='09223'>\n",
      "<_sre.SRE_Match object; span=(0, 10), match='0922339987'>\n",
      "<_sre.SRE_Match object; span=(0, 10), match='0922339987'>\n",
      "<_sre.SRE_Match object; span=(0, 10), match='0922339987'>\n",
      "<_sre.SRE_Match object; span=(0, 10), match='0922339987'>\n"
     ]
    }
   ],
   "source": [
    "phone1 = '0922339987'\n",
    "m = re.search('\\d', phone1)\n",
    "print(m)\n",
    "\n",
    "# {} - match 10 digit => \\d{10}\n",
    "m = re.search('\\d{10}', phone1)\n",
    "print(m)\n",
    "\n",
    "# {} - match 3 ~ 5 digit => \\d{3  ,  5}\n",
    "m = re.search('\\d{3,5}', phone1)\n",
    "print(m)\n",
    "\n",
    "# {} - match 0 ~ infinity digit => \\d{0  ,  }\n",
    "m = re.search('\\d{0,}', phone1)\n",
    "print(m)\n",
    "\n",
    "# * = {0  ,  }\n",
    "m = re.search('\\d*', phone1)\n",
    "print(m)\n",
    "\n",
    "# {} - match 1 ~ infinity digit => \\d{1  ,  }\n",
    "m = re.search('\\d{1,}', phone1)\n",
    "print(m)\n",
    "\n",
    "# + = {1  ,  }\n",
    "m = re.search('\\d+', phone1)\n",
    "print(m)"
   ]
  },
  {
   "cell_type": "code",
   "execution_count": 66,
   "metadata": {
    "collapsed": false
   },
   "outputs": [
    {
     "name": "stdout",
     "output_type": "stream",
     "text": [
      "<_sre.SRE_Match object; span=(0, 10), match='0912345678'>\n",
      "<_sre.SRE_Match object; span=(0, 12), match='0912-345-678'>\n",
      "<_sre.SRE_Match object; span=(0, 11), match='0912-345678'>\n"
     ]
    }
   ],
   "source": [
    "phones = ['0912345678', '0912-345-678', '0912-345678']\n",
    "for phone in phones:\n",
    "    #print(phone)\n",
    "    #m = re.search('\\d{10}', phone)\n",
    "    #m = re.search('09\\d{2}-{0,1}\\d{3}-{0,1}\\d{3}', phone)\n",
    "    m = re.search('09\\d{2}-?\\d{3}-?\\d{3}', phone)\n",
    "    print(m)"
   ]
  },
  {
   "cell_type": "code",
   "execution_count": 75,
   "metadata": {
    "collapsed": false
   },
   "outputs": [
    {
     "name": "stdout",
     "output_type": "stream",
     "text": [
      "人氣(90)\n",
      "人氣(90)\n",
      "90\n"
     ]
    }
   ],
   "source": [
    "m = re.search('人氣\\(\\d+\\)', soup.select('.clicked')[0].text)\n",
    "print(m.group(0))\n",
    "#print(m.group(1))\n",
    "\n",
    "m = re.search('人氣\\((\\d+)\\)', soup.select('.clicked')[0].text)\n",
    "print(m.group(0))\n",
    "print(m.group(1))"
   ]
  },
  {
   "cell_type": "code",
   "execution_count": 80,
   "metadata": {
    "collapsed": false
   },
   "outputs": [
    {
     "name": "stdout",
     "output_type": "stream",
     "text": [
      "<_sre.SRE_Match object; span=(0, 16), match='david@largitdata'>\n",
      "<_sre.SRE_Match object; span=(0, 20), match='david@largitdata.com'>\n",
      "david@largitdata.com\n",
      "david\n",
      "largitdata.com\n"
     ]
    }
   ],
   "source": [
    "email = 'david@largitdata.com'\n",
    "m = re.search('\\w+@\\w+', email)\n",
    "print(m)\n",
    "\n",
    "m = re.search('\\w+@[\\w\\.]+', email)\n",
    "print(m)\n",
    "\n",
    "m = re.search('(\\w+)@([\\w\\.]+)', email)\n",
    "print(m.group(0))\n",
    "print(m.group(1)) # match username\n",
    "print(m.group(2)) # match domain name"
   ]
  }
 ],
 "metadata": {
  "kernelspec": {
   "display_name": "Python 3",
   "language": "python",
   "name": "python3"
  },
  "language_info": {
   "codemirror_mode": {
    "name": "ipython",
    "version": 3
   },
   "file_extension": ".py",
   "mimetype": "text/x-python",
   "name": "python",
   "nbconvert_exporter": "python",
   "pygments_lexer": "ipython3",
   "version": "3.6.0"
  }
 },
 "nbformat": 4,
 "nbformat_minor": 2
}
