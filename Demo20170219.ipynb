{
 "cells": [
  {
   "cell_type": "markdown",
   "metadata": {},
   "source": [
    "## 使用Requests 存取蘋果列表"
   ]
  },
  {
   "cell_type": "code",
   "execution_count": 4,
   "metadata": {
    "collapsed": false
   },
   "outputs": [],
   "source": [
    "import requests\n",
    "res = requests.get('http://www.appledaily.com.tw/realtimenews/section/new/')\n",
    "#res.text"
   ]
  },
  {
   "cell_type": "markdown",
   "metadata": {},
   "source": [
    "## 使用BeautifulSoup 剖析列表"
   ]
  },
  {
   "cell_type": "code",
   "execution_count": 11,
   "metadata": {
    "collapsed": false
   },
   "outputs": [
    {
     "name": "stdout",
     "output_type": "stream",
     "text": [
      "社會 09:42 七旬婦陳屍工寮　疑外力介入致死(0) http://www.appledaily.com.tw/realtimenews/article/local/20170219/1059494/七旬婦陳屍工寮　疑外力介入致死\n",
      "財經 09:41 禽流感肆虐　富邦人壽推「從寬理賠」(0) http://www.appledaily.com.tw/realtimenews/article/finance/20170219/1059317/禽流感肆虐　富邦人壽推「從寬理賠」\n",
      "娛樂 09:41 王寶強公開綠帽家醜　嗆出軌妻「把老實人逼...(0) http://www.appledaily.com.tw/realtimenews/article/entertainment/20170219/1059491/王寶強公開綠帽家醜　嗆出軌妻「把老實人逼到極限」\n",
      "社會 09:37 最強小鴨屁股貼這張　沒人敢停它旁邊(231) http://www.appledaily.com.tw/realtimenews/article/local/20170219/1059495/最強小鴨屁股貼這張　沒人敢停它旁邊\n",
      "體育 09:36 求教卡布瑞拉　山多瓦恢復左右開攻(25) http://www.appledaily.com.tw/realtimenews/article/sports/20170219/1059493/求教卡布瑞拉　山多瓦恢復左右開攻\n",
      "體育 09:36 【明星賽】尼克長人波辛吉斯　獲技術挑戰賽...(0) http://www.appledaily.com.tw/realtimenews/article/sports/20170219/1059497/【明星賽】尼克長人波辛吉斯　獲技術挑戰賽冠軍\n",
      "娛樂 09:34 【驚呆片】愛子公主嬰兒肥蒸發　叛逆期暴瘦...(30490) http://www.appledaily.com.tw/realtimenews/article/entertainment/20170219/1059331/【驚呆片】愛子公主嬰兒肥蒸發　叛逆期暴瘦變紙片人\n",
      "國際 09:32 美國航母戰鬥群行駛南海　挑動中國緊張神經(61) http://www.appledaily.com.tw/realtimenews/article/international/20170219/1059492/美國航母戰鬥群行駛南海　挑動中國緊張神經\n",
      "生活 09:31 【33死】觀光局長、公路總局長自請處分　...(11732) http://www.appledaily.com.tw/realtimenews/article/life/20170219/1059487/【33死】觀光局長、公路總局長自請處分　交通部證實\n",
      "地產 09:29 罕見洋樓式別墅　造型吸睛(860) http://www.appledaily.com.tw/realtimenews/article/property/20170219/1056227/罕見洋樓式別墅　造型吸睛\n",
      "國際 09:22 100kg大塊頭被絆倒　憤而踩死3歲女童(2374) http://www.appledaily.com.tw/realtimenews/article/international/20170219/1059488/100kg大塊頭被絆倒　憤而踩死3歲女童\n",
      "生活 09:18 中南部30個測站空品糟　高雄最慘幾乎全面...(480) http://www.appledaily.com.tw/realtimenews/article/life/20170219/1059489/中南部30個測站空品糟　高雄最慘幾乎全面紅害\n",
      "生活 09:17 台版《三星級營養午餐》　國小廚工好威風(1191) http://www.appledaily.com.tw/realtimenews/article/life/20170219/1059155/台版《三星級營養午餐》　國小廚工好威風\n",
      "生活 09:14 趴地翹屁股這樣嗆聲　網友：貞子表示...(899) http://www.appledaily.com.tw/realtimenews/article/life/20170219/1059479/趴地翹屁股這樣嗆聲　網友：貞子表示...\n",
      "國際 09:10 【圖解新聞】鞏固政權　金正恩殺害家人不手...(972) http://www.appledaily.com.tw/realtimenews/article/international/20170219/1059477/【圖解新聞】鞏固政權　金正恩殺害家人不手軟？\n",
      "社會 09:09 【33死】江蕙等娛樂圈重量級歌手　紛送花...(9510) http://www.appledaily.com.tw/realtimenews/article/local/20170219/1059485/【33死】江蕙等娛樂圈重量級歌手　紛送花致意\n",
      "體育 09:05 PGA傑尼斯高球賽R2　美國強森-10領...(133) http://www.appledaily.com.tw/realtimenews/article/sports/20170219/1059486/PGA傑尼斯高球賽R2　美國強森-10領先\n",
      "國際 09:04 【動畫】從皇太子到流亡被刺殺　揭金氏王朝...(1405) http://www.appledaily.com.tw/realtimenews/article/international/20170219/1059415/【動畫】從皇太子到流亡被刺殺　揭金氏王朝權力鬥爭\n",
      "國際 09:04 阿根廷巴士疑超速過彎　翻車19死23傷(8734) http://www.appledaily.com.tw/realtimenews/article/international/20170219/1059431/阿根廷巴士疑超速過彎　翻車19死23傷\n",
      "體育 09:01 印地安人牛棚角色確定　艾倫仍是終結者(765) http://www.appledaily.com.tw/realtimenews/article/sports/20170219/1059483/印地安人牛棚角色確定　艾倫仍是終結者\n",
      "生活 09:00 【古早味片】末代礱的傳人　無毒米環島爆香(21654) http://www.appledaily.com.tw/realtimenews/article/life/20170219/1057943/【古早味片】末代礱的傳人　無毒米環島爆香\n",
      "論壇 09:00 士農工商齊頭平等的年金制度(1671) http://www.appledaily.com.tw/realtimenews/article/forum/20170219/1059278/士農工商齊頭平等的年金制度\n",
      "娛樂 08:59  【韓星首封后】不倫女星金敏喜奪柏林影后...(9726) http://www.appledaily.com.tw/realtimenews/article/entertainment/20170219/1059440/【韓星首封后】不倫女星金敏喜奪柏林影后　當眾示愛人夫導演\n",
      "社會 08:56 【33死】蝶戀花國道車禍33死　追悼會哀...(3322) http://www.appledaily.com.tw/realtimenews/article/local/20170219/1059475/【33死】蝶戀花國道車禍33死　追悼會哀戚莊嚴\n",
      "論壇 08:52 【民報／那一年的這一天】2008.2.1...(1009) http://www.appledaily.com.tw/realtimenews/article/forum/20170219/1059482/【民報／那一年的這一天】2008.2.19東芝宣布終止HDDVD事業次世代DVD大戰落幕\n",
      "社會 08:49 自撞分隔島一度命危　男子送醫後救回(3364) http://www.appledaily.com.tw/realtimenews/article/local/20170219/1059463/自撞分隔島一度命危　男子送醫後救回\n",
      "財經 08:43 電腦周邊首季淡季不淡　群光估本季由電源產...(383) http://www.appledaily.com.tw/realtimenews/article/finance/20170219/1059454/電腦周邊首季淡季不淡　群光估本季由電源產品領攻\n",
      "生活 08:43 國5高乘載管制今取消　高公局這樣說(1942) http://www.appledaily.com.tw/realtimenews/article/life/20170219/1059476/國5高乘載管制今取消　高公局這樣說\n",
      "國際 08:42 ​不明飛機飛近川普別墅　F-15升空攔截(3258) http://www.appledaily.com.tw/realtimenews/article/international/20170219/1059478/​不明飛機飛近川普別墅　F-15升空攔截\n",
      "時尚 08:40 【時尚圖解】CHANEL N°5的魅惑　...(492) http://www.appledaily.com.tw/realtimenews/article/fashion/20170219/1059080/【時尚圖解】CHANELN°5的魅惑　Coco女士：搽在妳想被吻的地方\n"
     ]
    }
   ],
   "source": [
    "from bs4 import BeautifulSoup\n",
    "soup = BeautifulSoup(res.text, 'html.parser')\n",
    "DOMAIN = 'http://www.appledaily.com.tw'\n",
    "\n",
    "for news in soup.select('.rtddt a'):\n",
    "    title    = news.select('h1')[0].text\n",
    "    category = news.select('h2')[0].text\n",
    "    time     = news.select('time')[0].text\n",
    "    link     = DOMAIN + news['href']\n",
    "    print(category, time, title, link)"
   ]
  },
  {
   "cell_type": "markdown",
   "metadata": {},
   "source": [
    "## 存取內容頁"
   ]
  },
  {
   "cell_type": "code",
   "execution_count": 13,
   "metadata": {
    "collapsed": false
   },
   "outputs": [],
   "source": [
    "detailurl = 'http://www.appledaily.com.tw/realtimenews/article/finance/20170219/1059317/禽流感肆虐　富邦人壽推「從寬理賠」'\n",
    "res = requests.get(detailurl)\n",
    "soup = BeautifulSoup(res.text, 'html.parser')"
   ]
  },
  {
   "cell_type": "markdown",
   "metadata": {},
   "source": [
    "### 抓取標題"
   ]
  },
  {
   "cell_type": "code",
   "execution_count": 18,
   "metadata": {
    "collapsed": false
   },
   "outputs": [
    {
     "data": {
      "text/plain": [
       "'禽流感肆虐 富邦人壽推「從寬理賠」'"
      ]
     },
     "execution_count": 18,
     "metadata": {},
     "output_type": "execute_result"
    }
   ],
   "source": [
    "title = ' '.join(soup.select('#h1')[0].text.split())\n",
    "title"
   ]
  },
  {
   "cell_type": "markdown",
   "metadata": {},
   "source": [
    "### 抓取文章內容"
   ]
  },
  {
   "cell_type": "code",
   "execution_count": 22,
   "metadata": {
    "collapsed": false
   },
   "outputs": [
    {
     "data": {
      "text/plain": [
       "'近日H5N6亞型高病原性禽流感拉警報，全台多縣市禽場接連爆出疫情，行政院已成立禽流感中央災害應變中心提高防疫層級。許多民眾擔心疫情若是升溫，感染機會就可能變高，萬一遭受感染，保險是否理賠？富邦人壽表示，針對法定傳染病，富邦人壽的「壽險」與「醫療險」都有理賠，而且從寬認定給付，讓保戶安心。農委會防檢局表示，台灣已有雲林、嘉義、台南等縣市禽場傳出H5N6感染案例，疫情來勢洶洶，不少壽險公司的客服專線都接到民眾來電詢問，萬一遭受感染是否理賠？富邦人壽表示，針對法定傳染病，富邦人壽的「壽險」與「醫療險」均能理賠。即使民眾持有的醫療險為民國87年以前將法定傳染病列為除外責任的舊保單，富邦人壽基於關懷保戶立場從寬給付，依契約條款各項原定給付項目約定負保險責任，提供住院醫療保障。此外，具高傳染力及致死率的H7N9甲型流感病毒目前正在中國肆虐，累計已有16例禽傳人個案、11人死亡，其中以浙江、江蘇兩省疫情最為嚴重，北京、上海、廣東、湖南、河南等地亦有確診病例。由於兩岸往來頻繁，富邦人壽提醒國人如需前往上述地區出差或旅遊，除了投保「旅行平安險」，更別忘加買「海外突發疾病醫療險」附約，才能享有海外醫療理賠的完整保障。同樣的，如保戶在台灣投保，外派至中國工作且在中國境內發生保險事故，也會有當地「熟門熟路」保險業者代為照應。富邦人壽表示，2015年已與中國最大民營壽險公司平安人壽簽訂交換兩岸理賠契約，只要是富邦人壽保戶在中國當地發生保險事故，除了現有的SOS國際救援服務外，也可透過平安人壽協助申請理賠收件服務，突破需回到國內才能申請理賠的限制。（王立德/台北報導）'"
      ]
     },
     "execution_count": 22,
     "metadata": {},
     "output_type": "execute_result"
    }
   ],
   "source": [
    "summary = soup.select('#summary')[0].text\n",
    "summary"
   ]
  },
  {
   "cell_type": "markdown",
   "metadata": {},
   "source": [
    "### 抓取時間"
   ]
  },
  {
   "cell_type": "code",
   "execution_count": 28,
   "metadata": {
    "collapsed": false
   },
   "outputs": [
    {
     "data": {
      "text/plain": [
       "datetime.datetime(2017, 2, 19, 9, 41)"
      ]
     },
     "execution_count": 28,
     "metadata": {},
     "output_type": "execute_result"
    }
   ],
   "source": [
    "from datetime import datetime\n",
    "dt = datetime.strptime(soup.select('.gggs time')[0].text, '%Y年%m月%d日%H:%M')\n",
    "#type(dt)\n",
    "dt"
   ]
  },
  {
   "cell_type": "markdown",
   "metadata": {},
   "source": [
    "#### Strip"
   ]
  },
  {
   "cell_type": "code",
   "execution_count": 36,
   "metadata": {
    "collapsed": false
   },
   "outputs": [
    {
     "name": "stdout",
     "output_type": "stream",
     "text": [
      "       123     456      \n",
      "123     456      \n",
      "       123     456\n",
      "123     456\n"
     ]
    }
   ],
   "source": [
    "a = '       123     456      '\n",
    "print(a)\n",
    "print(a.lstrip())\n",
    "print(a.rstrip())\n",
    "print(a.strip())"
   ]
  },
  {
   "cell_type": "markdown",
   "metadata": {},
   "source": [
    "### 抓取點閱數"
   ]
  },
  {
   "cell_type": "code",
   "execution_count": 39,
   "metadata": {
    "collapsed": false
   },
   "outputs": [
    {
     "data": {
      "text/plain": [
       "'90'"
      ]
     },
     "execution_count": 39,
     "metadata": {},
     "output_type": "execute_result"
    }
   ],
   "source": [
    "clicked = soup.select('.clicked')[0].text.lstrip('人氣(').rstrip(')')\n",
    "clicked"
   ]
  },
  {
   "cell_type": "markdown",
   "metadata": {},
   "source": [
    "## 正規表達法"
   ]
  },
  {
   "cell_type": "code",
   "execution_count": 40,
   "metadata": {
    "collapsed": true
   },
   "outputs": [],
   "source": [
    "phone1 = '0912345678'\n",
    "phone2 = '0912-345-678'\n",
    "phone3 = '0912-345678'"
   ]
  },
  {
   "cell_type": "code",
   "execution_count": 47,
   "metadata": {
    "collapsed": false
   },
   "outputs": [
    {
     "name": "stdout",
     "output_type": "stream",
     "text": [
      "None\n",
      "<_sre.SRE_Match object; span=(1, 2), match='9'>\n",
      "<_sre.SRE_Match object; span=(9, 10), match='7'>\n",
      "<_sre.SRE_Match object; span=(0, 1), match='0'>\n",
      "<_sre.SRE_Match object; span=(0, 1), match='0'>\n",
      "<_sre.SRE_Match object; span=(0, 1), match='0'>\n"
     ]
    }
   ],
   "source": [
    "import re\n",
    "#re.match\n",
    "#re.search\n",
    "\n",
    "phone1 = '0922339987'\n",
    "# match 6 \n",
    "m = re.search('6', phone1)\n",
    "print(m)\n",
    "\n",
    "# match 9\n",
    "m = re.search('9', phone1)\n",
    "print(m)\n",
    "\n",
    "# match 6 or 7\n",
    "m = re.search('[67]', phone1)\n",
    "print(m)\n",
    "\n",
    "\n",
    "# match 0 or 1 or 2 or ... 9\n",
    "m = re.search('[0123456789]', phone1)\n",
    "print(m)\n",
    "\n",
    "# [0-9] = [0123456789]\n",
    "m = re.search('[0-9]', phone1)\n",
    "print(m)\n",
    "\n",
    "# \\d == [0-9]\n",
    "m = re.search('\\d', phone1)\n",
    "print(m)"
   ]
  },
  {
   "cell_type": "code",
   "execution_count": 51,
   "metadata": {
    "collapsed": false
   },
   "outputs": [
    {
     "name": "stdout",
     "output_type": "stream",
     "text": [
      "<_sre.SRE_Match object; span=(1, 2), match='s'>\n",
      "<_sre.SRE_Match object; span=(1, 2), match='s'>\n",
      "<_sre.SRE_Match object; span=(1, 2), match='s'>\n",
      "<_sre.SRE_Match object; span=(1, 2), match='s'>\n",
      "<_sre.SRE_Match object; span=(1, 2), match='s'>\n",
      "<_sre.SRE_Match object; span=(0, 1), match='小'>\n"
     ]
    }
   ],
   "source": [
    "name = '小s'\n",
    "\n",
    "# match s\n",
    "m = re.search('s', name)\n",
    "print(m)\n",
    "\n",
    "# match a or b or c or ... z\n",
    "m = re.search('[abcdefghijklmnopqrstuvwxyz]', name)\n",
    "print(m)\n",
    "\n",
    "\n",
    "# [a-z] = [abcdefghijklmnopqrstuvwxyz]\n",
    "m = re.search('[a-z]', name)\n",
    "print(m)\n",
    "\n",
    "# match a or b or ...z A or B or .... Z\n",
    "m = re.search('[a-zA-Z]', name)\n",
    "print(m)\n",
    "\n",
    "# match a or b or ...z; A or B or .... Z; 0 or 1 or ... 9\n",
    "m = re.search('[a-zA-Z0-9]', name)\n",
    "print(m)\n",
    "\n",
    "# \\w = [a-zA-Z0-9]... and any word\n",
    "m = re.search('\\w', name)\n",
    "print(m)"
   ]
  },
  {
   "cell_type": "code",
   "execution_count": 61,
   "metadata": {
    "collapsed": false
   },
   "outputs": [
    {
     "name": "stdout",
     "output_type": "stream",
     "text": [
      "<_sre.SRE_Match object; span=(0, 1), match='0'>\n",
      "<_sre.SRE_Match object; span=(0, 10), match='0922339987'>\n",
      "<_sre.SRE_Match object; span=(0, 5), match='09223'>\n",
      "<_sre.SRE_Match object; span=(0, 10), match='0922339987'>\n",
      "<_sre.SRE_Match object; span=(0, 10), match='0922339987'>\n",
      "<_sre.SRE_Match object; span=(0, 10), match='0922339987'>\n",
      "<_sre.SRE_Match object; span=(0, 10), match='0922339987'>\n"
     ]
    }
   ],
   "source": [
    "phone1 = '0922339987'\n",
    "m = re.search('\\d', phone1)\n",
    "print(m)\n",
    "\n",
    "# {} - match 10 digit => \\d{10}\n",
    "m = re.search('\\d{10}', phone1)\n",
    "print(m)\n",
    "\n",
    "# {} - match 3 ~ 5 digit => \\d{3  ,  5}\n",
    "m = re.search('\\d{3,5}', phone1)\n",
    "print(m)\n",
    "\n",
    "# {} - match 0 ~ infinity digit => \\d{0  ,  }\n",
    "m = re.search('\\d{0,}', phone1)\n",
    "print(m)\n",
    "\n",
    "# * = {0  ,  }\n",
    "m = re.search('\\d*', phone1)\n",
    "print(m)\n",
    "\n",
    "# {} - match 1 ~ infinity digit => \\d{1  ,  }\n",
    "m = re.search('\\d{1,}', phone1)\n",
    "print(m)\n",
    "\n",
    "# + = {1  ,  }\n",
    "m = re.search('\\d+', phone1)\n",
    "print(m)"
   ]
  },
  {
   "cell_type": "code",
   "execution_count": 66,
   "metadata": {
    "collapsed": false
   },
   "outputs": [
    {
     "name": "stdout",
     "output_type": "stream",
     "text": [
      "<_sre.SRE_Match object; span=(0, 10), match='0912345678'>\n",
      "<_sre.SRE_Match object; span=(0, 12), match='0912-345-678'>\n",
      "<_sre.SRE_Match object; span=(0, 11), match='0912-345678'>\n"
     ]
    }
   ],
   "source": [
    "phones = ['0912345678', '0912-345-678', '0912-345678']\n",
    "for phone in phones:\n",
    "    #print(phone)\n",
    "    #m = re.search('\\d{10}', phone)\n",
    "    #m = re.search('09\\d{2}-{0,1}\\d{3}-{0,1}\\d{3}', phone)\n",
    "    m = re.search('09\\d{2}-?\\d{3}-?\\d{3}', phone)\n",
    "    print(m)"
   ]
  },
  {
   "cell_type": "code",
   "execution_count": 75,
   "metadata": {
    "collapsed": false
   },
   "outputs": [
    {
     "name": "stdout",
     "output_type": "stream",
     "text": [
      "人氣(90)\n",
      "人氣(90)\n",
      "90\n"
     ]
    }
   ],
   "source": [
    "m = re.search('人氣\\(\\d+\\)', soup.select('.clicked')[0].text)\n",
    "print(m.group(0))\n",
    "#print(m.group(1))\n",
    "\n",
    "m = re.search('人氣\\((\\d+)\\)', soup.select('.clicked')[0].text)\n",
    "print(m.group(0))\n",
    "print(m.group(1))"
   ]
  },
  {
   "cell_type": "code",
   "execution_count": 80,
   "metadata": {
    "collapsed": false
   },
   "outputs": [
    {
     "name": "stdout",
     "output_type": "stream",
     "text": [
      "<_sre.SRE_Match object; span=(0, 16), match='david@largitdata'>\n",
      "<_sre.SRE_Match object; span=(0, 20), match='david@largitdata.com'>\n",
      "david@largitdata.com\n",
      "david\n",
      "largitdata.com\n"
     ]
    }
   ],
   "source": [
    "email = 'david@largitdata.com'\n",
    "m = re.search('\\w+@\\w+', email)\n",
    "print(m)\n",
    "\n",
    "m = re.search('\\w+@[\\w\\.]+', email)\n",
    "print(m)\n",
    "\n",
    "m = re.search('(\\w+)@([\\w\\.]+)', email)\n",
    "print(m.group(0))\n",
    "print(m.group(1)) # match username\n",
    "print(m.group(2)) # match domain name"
   ]
  },
  {
   "cell_type": "markdown",
   "metadata": {},
   "source": [
    "## 抓PCHOME"
   ]
  },
  {
   "cell_type": "code",
   "execution_count": 88,
   "metadata": {
    "collapsed": false
   },
   "outputs": [
    {
     "data": {
      "text/plain": [
       "'{\"DYAF55-A9006O6S8-000\":{\"Seq\":14708038,\"Id\":\"DYAF55-A9006O6S8-000\",\"Name\":\"cheero\\\\u963f\\\\u6123lightning & microUSB \\\\u5145\\\\u96fb\\\\u50b3\\\\u8f38\\\\u7dda\\\\uff1a10\\\\u516c\\\\u5206\\\\/MFi\\\\u8a8d\\\\u8b49(Andriod+\\\\u860b\\\\u679c\\\\u5169\\\\u7528)\",\"Nick\":\"cheero\\\\u963f\\\\u6123lightning & microUSB \\\\u5145\\\\u96fb\\\\u50b3\\\\u8f38\\\\u7dda\\\\uff1a10\\\\u516c\\\\u5206\\\\/MFi\\\\u8a8d\\\\u8b49\",\"Store\":\"DYAP00\",\"PreOrdDate\":\"\",\"SpeOrdDate\":\"\",\"Price\":{\"M\":520,\"P\":520},\"Discount\":0,\"Pic\":{\"B\":\"\\\\/items\\\\/DYAF55A9006O6S8\\\\/000001_1478493151.jpg\",\"S\":\"\\\\/items\\\\/DYAF55A9006O6S8\\\\/000002_1482400120.jpg\"},\"Weight\":0.06,\"ISBN\":\"\",\"Qty\":7,\"Bonus\":0,\"isBig\":0,\"isSpec\":0,\"isCombine\":0,\"isDiy\":0,\"isRecyclable\":0,\"isCarrier\":0,\"isMedical\":0,\"isBigCart\":1,\"isSnapUp\":0,\"isDescAndIntroSync\":0,\"isFoodContents\":0,\"isHuge\":0,\"isEnergySubsidy\":0}}'"
      ]
     },
     "execution_count": 88,
     "metadata": {},
     "output_type": "execute_result"
    }
   ],
   "source": [
    "import requests\n",
    "import re\n",
    "res = requests.get('http://ecapi.pchome.com.tw/ecshop/prodapi/v2/prod/DYAF55-A9006O6S8-000&store=DYAJ5F&fields=Seq,Id,Name,Nick,Store,PreOrdDate,SpeOrdDate,Price,Discount,Pic,Weight,ISBN,Qty,Bonus,isBig,isSpec,isCombine,isDiy,isRecyclable,isCarrier,isMedical,isBigCart,isSnapUp,isDescAndIntroSync,isFoodContents,isHuge,isEnergySubsidy&_callback=jsonp_prod&1487473920?_callback=jsonp_prod')\n",
    "m = re.search('try\\{jsonp_prod\\((.*?)\\);\\}', res.text)\n",
    "m.group(1)"
   ]
  },
  {
   "cell_type": "markdown",
   "metadata": {},
   "source": [
    "## 抓住商不動產"
   ]
  },
  {
   "cell_type": "code",
   "execution_count": 100,
   "metadata": {
    "collapsed": false
   },
   "outputs": [
    {
     "name": "stdout",
     "output_type": "stream",
     "text": [
      "121.498594 25.134147\n"
     ]
    }
   ],
   "source": [
    "import requests\n",
    "import re\n",
    "res = requests.get('http://www.hbhousing.com.tw/detail/?sn=YS78590')\n",
    "#print(res.encoding)\n",
    "res.encoding = 'utf-8'\n",
    "m = re.search('http://www.hbhousing.com.tw/detail/mapV2.asp\\?x=([\\d\\.]+)&y=([\\d\\.]+)',res.text)\n",
    "print(m.group(1), m.group(2))"
   ]
  },
  {
   "cell_type": "markdown",
   "metadata": {},
   "source": [
    "## 完整爬蟲流程"
   ]
  },
  {
   "cell_type": "markdown",
   "metadata": {},
   "source": [
    "### 0. 引用套件"
   ]
  },
  {
   "cell_type": "code",
   "execution_count": 101,
   "metadata": {
    "collapsed": true
   },
   "outputs": [],
   "source": [
    "import requests\n",
    "from bs4 import BeautifulSoup\n",
    "from datetime import datetime\n",
    "import re"
   ]
  },
  {
   "cell_type": "markdown",
   "metadata": {},
   "source": [
    "### 1. 建立內容抓取函式"
   ]
  },
  {
   "cell_type": "code",
   "execution_count": 106,
   "metadata": {
    "collapsed": false
   },
   "outputs": [],
   "source": [
    "def pageDetail(detailurl):\n",
    "    res     = requests.get(detailurl)\n",
    "    soup    = BeautifulSoup(res.text, 'html.parser')\n",
    "    \n",
    "    title   = ' '.join(soup.select('#h1')[0].text.split())\n",
    "    summary = ' '.join(soup.select('#summary')[0].text.split())\n",
    "    dt      = datetime.strptime(soup.select('.gggs time')[0].text, '%Y年%m月%d日%H:%M')\n",
    "    clicked = 0\n",
    "    m = re.search('人氣\\((\\d+)\\)', soup.select('.clicked')[0].text)\n",
    "    if m:\n",
    "        clicked = int(m.group(1))\n",
    "    return {'title':title, 'summary':summary, 'dt':dt, 'clicked':clicked}"
   ]
  },
  {
   "cell_type": "code",
   "execution_count": 108,
   "metadata": {
    "collapsed": false
   },
   "outputs": [
    {
     "data": {
      "text/plain": [
       "{'clicked': 264,\n",
       " 'dt': datetime.datetime(2017, 2, 19, 11, 4),\n",
       " 'summary': '位於北市木新路與木柵路中間「小廢墟烘培工作室」，過去是一處無人敢靠近的廢工廠，屋內不僅有堆積如山的垃圾、破舊漏水的屋頂，還佈滿動物屍體與灰塵。但對咖啡烘培師洪璽開來說卻看到了不一樣的可能，在他耗時六個月的努力，與朋友獨力完成訂製天花板、接水電、裝潢等工程，曾是木柵一個不起眼的角落，如今已成為一處富有生命的咖啡豆烘培工作室，還獲選「老屋新生大獎」的銀獎。現年35歲的洪璽開，是地下樂團staycool的主唱，過去曾發過兩張專輯，還多次在日本巡迴演出。而在舞台下的他，則是一位專業咖啡烘培師；學生時期就在咖啡店打工並熱愛咖啡的他，30歲開始創業經營咖啡店，為了有個寧靜不干擾他人的烘培坊，他在2015年開始尋找專屬自己的小空間。「來到這裡(木柵)真的是誤打誤撞」，回憶自己找房的過程，洪璽開說自己剛好有位朋友，向他推薦父親修車廠旁的廢工廠，也就是現在的工作室。但他到場後的第一印象，卻是滿地的垃圾與灰塵，甚至還有動物的屍體，當時他第一反應就是「天啊！這怎麼可能有辦法做工作室」。但他走入室內觀看整個空間，發現這座廢工廠「空間結構很有趣」，裡面有個小夾層(樓中樓)，室內採光又很好，讓過去鍾情老房子、老傢俱的他，決定對空間進行大改造。洪說，最後他用「廢墟價」向房東租下這座空間，由於閒置20年，當時房東還打趣的說「租的時候現況租給你，還的時候不能這樣還給我」。回想改造的過程，洪璽開說光是清掉一座很像山的垃圾，就耗掉一個月的時間，接著他開始搭鐵皮、釘木頭天花板，再來接水電，最後裝潢，還給滿是粉塵的牆壁上漆，陸陸續續添加新傢俱、配備，最後一共花了6個月的時間、20萬餘元的預算，生出了現在的小廢墟烘培工作室。談到最困難的過程，洪璽開說實在太多太多，一開始搭鐵皮必須把整個屋頂都拆掉，當時他請了10個朋友來幫忙，務必要在一天內將它完工，沒想到鐵皮搭完僅兩天就遇到大颱風，雖然鐵皮沒被吹走，但「整個空間各式各樣的滴水」，等颱風走後大家又爬上屋頂，補了1、200支螺絲，針對漏水部分補強，才終於大功告成。此外在施工過程中，它也因為碰到金屬原料，導致全身過敏了一個禮拜，另外接水電時，也碰過一打開開關，結果電器電燈直接燒掉。但洪璽開說，整修過程有辛酸也有收穫，像他在清垃圾找到五個裝著檜木的麻布袋，後來這些木板變成了店內的櫃子，此外他在閣樓的角落，發現一隻禽鳥的骨骸，洪打趣的說，這隻鳥算是自己的學長、長輩，比自己更早來到這個地方守護著這個空間，後來他翻閱書籍，得知這隻鳥類科名「夜鷺」，索性將它的頭骨作為現在店面的LOGO，另外還有一台老舊的電扇，現在已被他改造成復古的燈飾。洪璽開說，「小廢墟烘培工作室」完成後，去年中開始作業，原本他定位這裡是個烘豆的工作室，裡頭擺了兩台烘豆機，還有生豆儲藏室，但後來發現自己一個禮拜只有4天到5天需要工作，既然這個地方好像滿漂亮，索性六、日開始營業賣起咖啡(第二家店)，雖然沒有考慮市場、地點，但目前為止已超出他的預期。談到工作室的未來，洪璽開說自己沒有想太多，但他認為這個神奇的空間充滿各種可能，這是他人生第一次改造空間，但在整修的過程中有了很深的體悟，「很多東西被別人丟掉，得到它後能給它一個新的身分，這東西又能用某種不同的生命延續下去」。(陳思豪/台北報導)APP讀者要看小廢墟烘焙工作室的今昔對比，請點這裡',\n",
       " 'title': '【老屋驚奇系列】文青主唱DIY 改造廢墟變咖啡天堂'}"
      ]
     },
     "execution_count": 108,
     "metadata": {},
     "output_type": "execute_result"
    }
   ],
   "source": [
    "pageDetail('http://www.appledaily.com.tw/realtimenews/article/life/20170219/1044398/%E3%80%90%E8%80%81%E5%B1%8B%E9%A9%9A%E5%A5%87%E7%B3%BB%E5%88%97%E3%80%91%E6%96%87%E9%9D%92%E4%B8%BB%E5%94%B1DIY%E3%80%80%E6%94%B9%E9%80%A0%E5%BB%A2%E5%A2%9F%E8%AE%8A%E5%92%96%E5%95%A1%E5%A4%A9%E5%A0%82')"
   ]
  },
  {
   "cell_type": "markdown",
   "metadata": {},
   "source": [
    "### 2. 從列表頁抓取所有資料"
   ]
  },
  {
   "cell_type": "code",
   "execution_count": 123,
   "metadata": {
    "collapsed": false
   },
   "outputs": [],
   "source": [
    "import time\n",
    "DOMAIN = 'http://www.appledaily.com.tw'\n",
    "\n",
    "newsary = []\n",
    "for page in range(1,5):\n",
    "    res = requests.get('http://www.appledaily.com.tw/realtimenews/section/new/{}'.format(page))\n",
    "    soup = BeautifulSoup(res.text, 'html.parser')\n",
    "    for news in soup.select('.rtddt a'):\n",
    "        title    = news.select('h1')[0].text\n",
    "        category = news.select('h2')[0].text\n",
    "        time     = news.select('time')[0].text\n",
    "        link     = DOMAIN + news['href']\n",
    "        detail   = pageDetail(link)\n",
    "        detail.update({'category':category, 'link':link})\n",
    "        newsary.append(detail)\n",
    "        #time.sleep(1)\n",
    "    #print(category, time, title, link)"
   ]
  },
  {
   "cell_type": "code",
   "execution_count": 125,
   "metadata": {
    "collapsed": false
   },
   "outputs": [
    {
     "data": {
      "text/plain": [
       "{'category': '社會',\n",
       " 'clicked': 0,\n",
       " 'dt': datetime.datetime(2017, 2, 19, 11, 46),\n",
       " 'link': 'http://www.appledaily.com.tw/realtimenews/article/local/20170219/1059543/夫妻口角險引爆大亂鬥\\u3000警快打及時嚇阻',\n",
       " 'summary': '誤會險釀群鬥！新北市一名魏姓男子，今天凌晨1時許與妻子在五股區民義路一段住處社區外口角，一旁的許男看見，以為有女子遭欺負，上前勸阻卻爆發口角，後還魏男兒子得知父親遭人嗆聲，撂了20多人到場討公道，許男也找來4名友人助陣，現場一陣叫囂、拉扯，附近住戶趕緊報案，警快打部隊到場時，眾人鳥獸散。警方調閱監視器後，將一一約談在場聚眾的民眾，訊後將依社維法裁罰。警方調查，魏姓男子（50歲）昨晚與妻子到三重區喝春酒，翌日凌晨1時許，夫妻倆返抵五股區民義路住處社區外。孰料，妻子酩酊大醉醉癱計程車上，只見魏男不斷拉著妻子是一回家去睡。過程中，妻子因被魏男拉扯生痛而大喊，魏男氣的大罵魏妻，夫妻倆爆發口角。過程中，在旁等人的許男（33歲）看見「覺得一個大男人，怎會在大街欺負女生」誤以為魏妻被魏男欺負，一個正義感油然生起，立即上前喝阻，魏男一聽大為光火，怒罵許男「她是我老婆」等話，引爆兩人互嗆口角。魏男向警指稱，為不想再出事端，他先攙扶妻子回到住處休息。魏男一進屋內見他的兒子還沒睡覺，向子抱怨剛剛在樓下，無端遭許嗆聲一事，魏子聽父遭嗆，氣得打電話撂了20多人趕抵現場討公道。沒多久，社區外汽機車從四方飛馳而來，隨後圍聚在社區外，許男驚見也叫來4有到場助陣，只見現場有人大喊「誰嗆聲」「誰帶棍棒」吆喝聲響雲霄。附近住戶驚見，趕緊報警前來處理。孰料，2警趕抵，見群聚民眾越聚越多，立即無線電呼叫支援。蘆洲警分局五股所副所長鄭錫文表示，聚眾民眾得知警快打部隊準備支援，紛紛上車離去。事後找到魏、許兩男帶回所內了解，才知原來是誤會一場，雙方互不提告和解收場，但因事發當時群眾揪聚準備鬥毆，警方將調閱監視器畫面，將在場民眾一一通知到案說明，訊後將依社會秩序維護法裁罰。（突發中心曾伯愷／新北報導）',\n",
       " 'title': '夫妻口角險引爆大亂鬥 警快打及時嚇阻'}"
      ]
     },
     "execution_count": 125,
     "metadata": {},
     "output_type": "execute_result"
    }
   ],
   "source": [
    "len(newsary)\n",
    "newsary[0]"
   ]
  },
  {
   "cell_type": "code",
   "execution_count": 120,
   "metadata": {
    "collapsed": false
   },
   "outputs": [
    {
     "name": "stdout",
     "output_type": "stream",
     "text": [
      "http://www.appledaily.com.tw/realtimenews/section/new/1\n",
      "http://www.appledaily.com.tw/realtimenews/section/new/2\n",
      "http://www.appledaily.com.tw/realtimenews/section/new/3\n",
      "http://www.appledaily.com.tw/realtimenews/section/new/4\n",
      "http://www.appledaily.com.tw/realtimenews/section/new/5\n",
      "http://www.appledaily.com.tw/realtimenews/section/new/6\n"
     ]
    }
   ],
   "source": [
    "for page in range(1,7):\n",
    "    url = 'http://www.appledaily.com.tw/realtimenews/section/new/{}'\n",
    "    print(url.format(page))"
   ]
  },
  {
   "cell_type": "code",
   "execution_count": 118,
   "metadata": {
    "collapsed": false
   },
   "outputs": [
    {
     "data": {
      "text/plain": [
       "[{'clicked': 0,\n",
       "  'dt': datetime.datetime(2017, 2, 19, 11, 37),\n",
       "  'summary': '真的要向辛苦的醫護人員致敬！一名台北醫學大學護理系畢業，目前正在澳洲當護理師的「二花小姐」，在《良醫健康網》發出一篇《在癌症安寧病房8年，一個護理師的告白：在這裡，一定要沒良心才待得下去》，文章令人感慨！「二花小姐」指出，自己負責的單位是血液腫瘤科，也就是癌症病房，並兼任安寧病房。在安樂死還未合法的澳洲，她每天幫癌末病患注射鎮靜劑、止痛劑的生命結束，有時覺得像是自己親手結束了對方的生命。在這裡，只有看不見盡頭的絕望和悲傷，在這樣沉重的氣氛下，不只護理人員流動頻繁，就連醫生也不想多待。日前有新的學生報到，資深們忍不住關起門來，跟她們說即將面對的心理衝擊，並建議如何調適，「這絕對、絕對不是因為我們不關心病人、不是因為我們沒血沒淚沒良心，只是我們在這個病房都待了很～～久了，能待這麼久還沒離開是不容易的，這只是我們調適的方法。」在一般家庭掀起巨滔駭浪的生老病死，在癌症病房中卻每天上演，第一線的護理人員不是沒感情，是不敢放感情，「局外人看來認為我們沒良心，只有身在其中的人才知道，其實，我們的良心正是靠這樣的盔甲，才存活下來的。」（即時新聞中心／綜合報導）',\n",
       "  'title': '護理師的沉痛告白：「沒良心」才能待下去'},\n",
       " {'clicked': 16,\n",
       "  'dt': datetime.datetime(2017, 2, 19, 11, 30),\n",
       "  'summary': '研揚科技跟華碩合作開發的空氣盒子獲得「智慧城市創新應用獎」獎項，研揚此次也將在智慧城市展中展示智慧路燈、智慧零售等物聯網應用。研揚跟光宇公司 (OMA Lighting) 共同合作開發智慧照明路燈系統，利用光宇大黃蜂街燈系列，透過無線傳輸通訊技術，實現「燈聯網」理想。路燈聯網後，使用者可在燈控系統上做點燈排程、調光、調閱耗能歷史資料，兼顧照明與節能的功能，將照明功能最大化，並透過統計實際耗能狀況分析照明系統運作成本，降低總體營運成本。研揚也將展示最新智慧販賣機，該機以研揚UP板卡為核心，依據客戶需求，可設計收集不同資料、不同介面、不同付款方式，將相關資訊、上傳到雲端物聯網平台，匯出的Power BI報表可提供數據資料分析，讓業者可靈活彈性的制訂行銷策略與產品販售方式。研揚指出，智慧物聯網裝置在開發初期就採用模組化架構，可以針對不同客群及應用快速提供最佳平台。研揚開發智慧型IoT閘道器，網路層上可選擇藍芽BLE、WiFi、LPWAN、3G、LTE等多元通訊方式，可同時管控上千個節點(Clients)，萬用型傳感器替換不同感測器元素，能讓產品快速推到市場上。（王郁倫／台北報導）',\n",
       "  'title': '研揚攜手光宇 智慧城市展出燈聯網方案'},\n",
       " {'clicked': 637,\n",
       "  'dt': datetime.datetime(2017, 2, 19, 11, 27),\n",
       "  'summary': '新北市瑞芳區深澳漁港滿是垃圾，網友看了都說：「沒公德心真的很糟糕」。網友在臉書「爆料公社」社團上傳照片，地點在新北市瑞芳區深澳漁港，「以前都還沒有那麼嚴重的污染，今天去都是垃圾，垃圾堆裡還有幾隻死掉的魚，寶特瓶和垃圾要分類丟垃圾桶，不是丟入海裡...」。照片中，漁港漂著許多瓶瓶罐罐，還有紙碗等各種垃圾，許多網友說：「我覺得，以後我去海邊或港口時可以準備個垃圾袋了....能撿多少算多少」、「亂丟垃圾是一種極端自私的概念，不可取」、「我真的不懂垃圾丟到垃圾桶，到底難在哪裡？」（即時新聞中心／綜合報導）',\n",
       "  'title': '漁港堆滿垃圾 網友怒：丟垃圾桶很難？'},\n",
       " {'clicked': 430,\n",
       "  'dt': datetime.datetime(2017, 2, 19, 11, 26),\n",
       "  'summary': '之前曾被批評越來越難看的NBA明星賽灌籃大賽，去年有復活的跡象，但今年共有4名球員參賽，其中最被看好的高登，雖然首輪創意十足但始終沒能灌進意外遭淘汰，最終由溜馬的羅賓森三世爆冷奪冠。今年參賽的球員包括魔術前鋒高登(Aaron Gordon)同時也是去年灌籃大賽亞軍、快艇中鋒喬丹(DeAndre Jordan)是本屆身高最高的球員、溜馬的羅賓森三世(Glenn Robinson III)、太陽隊體能勁爆的新秀瓊斯(Derrick Jones Jr.)。其中太陽新秀瓊斯本季僅出賽7場，上場時間不到4分鐘，也是參賽的4人當中唯一沒有在比賽中灌籃經驗的人。首輪首先登場的喬丹，第1灌就飛越DJ台灌籃，獲得41分。第2位登場的羅賓森三世，則選擇跨下飛過2人疊羅漢灌籃得手，拿到50分的滿分。第3位登場的瓊斯，先選擇跨下飛越4人、用左手單手灌籃，第1次失敗，第2次才成功，獲得45分。壓軸登場的高登，一出場就噱頭十足，請出吉祥物駕駛空拍機將球落下後，高登才持球跨下換手灌籃，只可惜嘗試了4次才順利灌進，獲得了38分。首輪第2次灌籃，先登場的高登又是嘗試4次都沒能成功，黯然退賽只獲得34分，確定提前淘汰；喬丹第2次灌籃獲得43分；接著登場的瓊斯則請隊友布克切籃板側面，瓊斯接球後在跨下換手灌籃一次成功，獲得50分滿分；最後登場的羅賓森三世，選擇轉身360度加上蒙眼的動作，獲得41分。決賽則由瓊斯和羅賓森2名新秀晉級，羅賓森三世請來溜馬一哥喬治舉球站在籃下，接著飛越他灌籃獲得44分；瓊斯則選擇飛越3個人頭上在跨下換手大車輪灌籃，嘗試3次都失敗，僅獲得37分；第2輪瓊斯先登場，從罰球圈虛線的部分起跳跨下大車輪灌進，獲得50分滿分，總分87分，羅賓森三世則採取飛過3個人後反手倒扣一次成功獲得50分，並以總分94分奪冠。評審群則請到傳奇球星們，包括羅賓森(D.Robinson)、培頓(G.Payton)、威金斯(D.Waggins)、莫寧(A.Morning)、韋伯(C.Webber)。(黎建忠／綜合報導)',\n",
       "  'title': '【明星賽】名將之後 溜馬羅賓森三世爆冷奪冠'},\n",
       " {'clicked': 2159,\n",
       "  'dt': datetime.datetime(2017, 2, 19, 11, 22),\n",
       "  'summary': '（新增：影片）稍早傳出口頭向交通部長請辭的公路總局長陳彥伯，在消息傳出不久後也到趕赴哀悼會現場致意，陳彥伯在公祭後則向媒體表示「絕對會負起相關責任」，語畢後離開現場。（突發中心陳以昇、潘佩如、余思維／台北報導）發稿時間1035更新時間1122',\n",
       "  'title': '【33死】公路總局長赴二殯哀悼 陳彥伯「絕對負起相關責任」'},\n",
       " {'clicked': 2698,\n",
       "  'dt': datetime.datetime(2017, 2, 19, 11, 20),\n",
       "  'summary': '(更新:增加照片)屏東恆春鎮大光里山區一名老婦今天清晨被發現陳屍在工寮，兒子發現後報案。警方初步調查，老婦頭部有明顯外傷，但身上衣著完整，疑頭部遭重擊身亡，確切原因將進一步調查。（李卉婷／屏東報導）出版時間:09:42更新時間:11:20',\n",
       "  'title': '七旬婦陳屍工寮 疑遭重擊致死'},\n",
       " {'clicked': 1531,\n",
       "  'dt': datetime.datetime(2017, 2, 19, 11, 14),\n",
       "  'summary': '1分15秒來看台灣100年來髮妝進化史！臉書粉絲團《WatchCut》分享一支影片為台灣100年來髮妝的演變，從1910至2010年，1910年代的頭髮中分沒瀏海，再搭個黑色髮帶，造型樸實清爽。到了1950年代，開始有顏色鮮豔且大的髮飾別在頭上，髮尾捲的短髮，顯得俏麗。1970年代的中長髮，改戴大朵紅花。1980年代的流行髮妝，可能你不陌生，令人聯想到女主播張雅琴，半屏風的蓬鬆髮型，也是她的個人鮮明表徵；最後為2010年的髮型為妹妹頭，大捲弧度的及肩長髮，增加可愛度又帶有嫵媚感。（即時新聞中心／綜合報導）',\n",
       "  'title': '100年來髮妝演進 張雅琴是1980年代代表'},\n",
       " {'clicked': 332,\n",
       "  'dt': datetime.datetime(2017, 2, 19, 11, 12),\n",
       "  'summary': '行政院督導數位資訊政策的政務委員唐鳳，上午運用虛擬實境遠距機器人x360度 VR 相機，把正在嘉義故宮南院展出的「日本美術之最」特展，透過網路線上直播給民眾，讓遠在世界各地的人也能享受身歷其境的逼真體驗。唐鳳說，隨著頻寬越來越寬，未來公聽會、政府會議或教學，任何地方，只要有準備遠距機器人相機，就有非常多的運用。 唐鳳表示，用機器人的原因，除了推廣新科技的應用，也是透過這次的示範跟測試，希望未來能夠有更多管道和機會，讓民眾有機會用更多元的方式親近故宮文物，因此也使用PDIS的線上直播，讓大家一起體驗。這項新嘗試吸引線上1百多人觀賞，但開始前20分鐘都聽不到現場聲音，直到10點25分才可正常觀看。有網友留言反映：「只拍一堆人 沒拍到作品\\ufeff。」也有網友認為，畫質不好。負責導覽的故宮院長林正儀說，很多視覺上的東西，在現場看很不一樣，歡迎到現場觀賞。 這次日本美術之最展共有151組展品來台展出。故宮導覽人員遠距導覽包括日本傳統的土偶、繩文、阿彌陀佛雕塑立像等藝術品，最特別的是從未離開日本展覽的「孔雀明王」畫像，12世紀繪畫而成，也在參展之列。(徐珮君／台北報導)',\n",
       "  'title': '故宮南院日本美展 唐鳳用遠距機器人線上導覽'},\n",
       " {'clicked': 1434,\n",
       "  'dt': datetime.datetime(2017, 2, 19, 11, 12),\n",
       "  'summary': '北韓領導人金正恩的胞兄金正男，日前在馬來西亞遭暗殺身亡，真相撲朔迷離，香港《星島日報》今天引述馬來西亞媒體《Free Malaysia Today》報導，住在澳門的金正男第二位夫人李慧靜，出面阻止金正男遺體送往北韓。李慧靜是金正男的二太太，為金正男生下1子1女，包括長子金韓松，她現居於澳門。據報，她向中國駐馬來西亞大使館求助，希望「引渡」亡夫的遺體。大馬警方曾表示，若要引渡金正男的遺體，須提交家屬的DNA資料，若兩者一致才能發還遺體。南韓外交部人士解釋，大馬警方的意思是，若經DNA檢查確認為家屬，有可能會將金正男的遺體交給家屬而非北韓當局。（大陸中心／綜合外電報導）',\n",
       "  'title': '金正男妻子求助中國 盼領回遺體'},\n",
       " {'clicked': 1910,\n",
       "  'dt': datetime.datetime(2017, 2, 19, 11, 11),\n",
       "  'summary': '旅遊公會發言人李奇嶽稍早至國道五號罹難者追悼會場致意，他離場時向媒體重申，13日當晚車禍發生時，他一直持續聯絡蝶戀花旅行社負責人，直至隔日凌晨才聯絡上周繼弘，「當時只覺得負責人只有30多歲，很年輕。」不料，他依蝶戀花提供資料向媒體報告時，卻遭駕駛家屬提出班表打臉，成為被攻擊對象，他表示將持續協助家屬，包括傷者後續照料，及死者身後處理。李奇嶽表示，事發後，他與周繼弘約隔天早上在二殯向死者上香，那是他第一次與周繼弘見面，此時才發現周的公司只有3到4個年輕員工，他才協助蝶戀花代為回答媒體問題，沒想到蝶戀花給的資料都是錯的，周比蒼也遲不出面，讓他成為眾矢之的。（突發中心潘姵如、陳以昇、余思維／台北報導）',\n",
       "  'title': '【33死】好心幫忙卻惹議 李奇嶽：持續為死傷者爭權益'},\n",
       " {'clicked': 1070,\n",
       "  'dt': datetime.datetime(2017, 2, 19, 11, 11),\n",
       "  'summary': '一連兩日的洛杉磯旅遊冒險展（Los Angeles Travel and Adventure Show）周六於洛杉磯會議展覽中心開幕了！不過明明是旅遊展，為什麼一陣陣台灣美食香味會傳遍整個會場呢？原來是美國電視台廚藝節目The Taste冠軍﹑超帥年輕廚師蓋伯甘迺迪（Gabe Kennedy），在會場內現場煮台灣地道美食蚵仔煎以及刈包！《蘋果》獨家專訪了這位最新冒起的星級廚師，大談他的台灣歷險之旅。在美國有「Green Gabe」之稱的型男主廚甘迺迪，去年底受台灣觀光局之邀，跑了一趟台灣體驗這個美食之都，與當地廚師互相交流，學習做台式料理。他學成歸來就在旅遊展大顯身手，在Taste of Travel的舞台上煮出具個人特色的蚵仔煎，當蚵仔下鍋煎香一剎那，整個館內被鮮味覆蓋著，一大堆圍觀的民眾都垂涎三尺，仿佛將台灣夜市的鑊氣都帶到洛杉磯。是次台灣之旅，甘迺迪除了去品嘗台北夜市外，還去了原住民部落體驗泰雅族傳統美食﹑走訪宜蘭有機茶園學習台灣茶點心製作，還去了烏石港衝浪，活捉當季海產。談起他這次旅程，甘迺迪仍然念念不忘，他表示整個旅程完全出乎意料之外，無論是自然景色﹑地道美食﹑夜市魚排﹑泰雅族文化體驗都非常精彩﹑還有不少其他活動如衝浪﹑騎單車等，非常多元化。他亦大讚台灣人親切友善以及相當好客，「台灣極具小島風情及氛圍，人們都悠哉悠哉，生活節奏非常和諧，這個經歷會畢生難忘。」「好多年沒笑這麼開懷了！」這次台灣之旅是跟朋友一起去，四個都是高大帥氣的男生，所以當中有很多歡樂，不論是在浸溫泉﹑釣魚﹑採茶﹑去市場他們都玩得不亦樂乎，他希望下次再訪台灣，能去南部探索，相信一定別有一番風味。他又表示，食物是普世語言，未來希望可以用食物將人與人之間﹑地區之間的關係連結起來。今年台灣觀光局除了請了型男廚師推廣台灣旅遊外，亦有黑熊組長化身美食專家，在攤位內與大家拍照；此外有珍珠奶茶免費送，所以台灣的攤位人流不斷。其他攤位亦有各出奇謀，例如威斯康辛州(Wisconsin）就有駱駝可以試騎，斐濟(Fiji）亦搭了稻草棚，幾個青年圍著玩音樂等等，如果有興趣的朋友，不妨周日去看看有什麼好玩的地方，策劃下趟旅程吧！（張紫茵／洛杉磯報導）',\n",
       "  'title': '【LA專訪】型男主廚煮蚵仔煎：台灣之旅畢生難忘'},\n",
       " {'clicked': 2584,\n",
       "  'dt': datetime.datetime(2017, 2, 19, 11, 7),\n",
       "  'summary': '能和女神近距離拍照，真是讓人太羨慕了！藝人嘻小瓜最近到韓國觀光、進修，昨特地安排行程，去看人氣女團「TWICE」演唱會，並和其台灣成員周子瑜合拍拍立得留念，雖然照片大曝光，但子瑜還是一樣美，網友見狀大驚「天啊，你們認識？」這才知道嘻小瓜原來是周的舞蹈啟蒙老師。TWICE出道1年3個月，魅力席捲全亞洲，前天起連3天在首爾SK奧林匹克手球競技場舉辦首次大型演唱會，周子瑜與隊友多賢全身黑色打扮，露出修長美腿，雙手戴著貓咪手掌，萌跳金鐘國所屬團體「TURBO」的招牌歌《黑貓》，2人可愛模樣讓粉絲直喊「要瘋了」。周子瑜的啟蒙老師嘻小瓜昨也到場，他事後PO出與周的合照說，「今天的演唱會 太棒了 滿滿的三小時 看到子瑜的努力很感動，一開場我就哭了，因為子瑜進步很多，看到妳的努力讓我也要向妳學習了！加油！」《壹週刊》曾報導，周子瑜從幼稚園就開始練舞，國中時，媽媽就將她送到嘻小瓜身邊學舞，嘻小瓜當時受訪稱，從之前就很看好周子瑜，常選她擔任要角，周子瑜後來赴韓當練習生時，每天早上5點起床練舞到晚上11點，遇到挫折還會偷偷哭，但仍咬牙撐下去。（即時新聞中心／綜合報導）',\n",
       "  'title': '超羨慕！ 他和周子瑜一起拍立得'},\n",
       " {'clicked': 3851,\n",
       "  'dt': datetime.datetime(2017, 2, 19, 11, 6),\n",
       "  'summary': '(新增:影片)蝶戀花旅行社負責人周比蒼稍早獨自抵達追悼會場，由於先前脫口說出「人為財死」、「一個願打、一個願挨」，屢屢發言出包挨批，今致意時，從到場到離場，始終緊閉雙唇，不發一語。周比蒼約在10時40分許至會場致意，在場內鞠躬時，並未被罹難者家屬為難，他致意後隨即快步離開現場，被大批記者包圍，罹難者自救會長、罹難者陳秀月的家屬追上前去問周比蒼：「你要不要負責、你要不要負責？」但面對追問，周比蒼仍舊什麼話也沒說。（突發中心陳以昇、潘姵如／台北報導）發稿時間1056更新時間1106',\n",
       "  'title': '【33死】蝶戀花周比蒼到場 屢發言出包今噤聲'},\n",
       " {'clicked': 525,\n",
       "  'dt': datetime.datetime(2017, 2, 19, 11, 6),\n",
       "  'summary': '南投高空彈跳業者上午到信義鄉東埔吊橋舉行彈跳活動，南投縣府接獲民眾檢舉，會同警方到場舉牌勸離，業者與縣府人員在吊橋前屢有爭執，僵持兩小時不下後才離去。民眾檢舉2月19日、3月5日兩日，將有高空彈跳業者於信義鄉東埔吊橋舉行高空彈跳活動，由於該吊橋管理機關為南投縣政府，高空彈跳活動未經許可，縣府觀光處表示業者有觸犯《刑法》185條公共危險罪之虞，上午會同信義分局警力到場蒐證，並舉牌勸離業者與參與民眾。「觀光處說違法不准跳，稅務局竟要課我們娛樂稅！這款政府叫我們何以遵循？」礙於十餘名會員從各地來，陳姓業者與縣府人員現場僵持兩個小時不願離去，也對政府機關間無整合，彼此矛盾大吐苦水。南投縣政府觀光處風景管理科科長廖蓓慧說，東埔吊橋主管機關是南投縣府觀光處，業者未申請許可，考量橋樑用途與安全性，禁止舉行高空彈跳活動。東埔吊橋位於東埔溫泉區新闢大停車場邊，橫跨彩虹瀑布下方溪流，全長200公尺與下方河谷距離高達128公尺，為目前全國最高、最長之吊橋。橋型外觀狀似豎琴，故又有「豎琴吊橋」之美名，橋板採鏤空之特殊造型設計，假日吸引不少附近泡湯遊客到此散步賞景。（魏嘉良\\\\南投報導）',\n",
       "  'title': '東埔吊橋違法高空彈跳 投縣府取締'},\n",
       " {'clicked': 2184,\n",
       "  'dt': datetime.datetime(2017, 2, 19, 11, 5),\n",
       "  'summary': '中國湖北省黃石市黃石港區一間公共廁所前天突然垮塌，當時有14歲的李姓少年正在裡面上廁所，男孩腿部被磚石壓住，消防隊員獲報後把男孩救出。事發在上周五中午，少年如廁時，公廁頂部突然發生坍塌，附近居民發現後及時報警求助，隨後民警和消防官兵趕到現場，民警和消防隊員徒手搬開碎磚塊，經過10多分鐘力，成功救出被埋男孩。由於施救及時，男孩僅手臂被碎磚塊砸到，輕微受傷。網友留言說：「他是有『屎』以來最倒楣的孩子。」「屎那麼大勁幹什麼。」「拉坨屎也能壓垮廁所。」「明明是公廁偷工減料，怎麼都說他倒楣，心疼孩子。」「這是一條很有味道的新聞。」（大陸中心／綜合外電報導）跟上國際脈動，快來蘋果繞著地球爆按讚',\n",
       "  'title': '誰比他倒楣 少年如廁時 公廁突然垮了'},\n",
       " {'clicked': 389,\n",
       "  'dt': datetime.datetime(2017, 2, 19, 11, 4),\n",
       "  'summary': '位於北市木新路與木柵路中間「小廢墟烘培工作室」，過去是一處無人敢靠近的廢工廠，屋內不僅有堆積如山的垃圾、破舊漏水的屋頂，還佈滿動物屍體與灰塵。但對咖啡烘培師洪璽開來說卻看到了不一樣的可能，在他耗時六個月的努力，與朋友獨力完成訂製天花板、接水電、裝潢等工程，曾是木柵一個不起眼的角落，如今已成為一處富有生命的咖啡豆烘培工作室，還獲選「老屋新生大獎」的銀獎。現年35歲的洪璽開，是地下樂團staycool的主唱，過去曾發過兩張專輯，還多次在日本巡迴演出。而在舞台下的他，則是一位專業咖啡烘培師；學生時期就在咖啡店打工並熱愛咖啡的他，30歲開始創業經營咖啡店，為了有個寧靜不干擾他人的烘培坊，他在2015年開始尋找專屬自己的小空間。「來到這裡(木柵)真的是誤打誤撞」，回憶自己找房的過程，洪璽開說自己剛好有位朋友，向他推薦父親修車廠旁的廢工廠，也就是現在的工作室。但他到場後的第一印象，卻是滿地的垃圾與灰塵，甚至還有動物的屍體，當時他第一反應就是「天啊！這怎麼可能有辦法做工作室」。但他走入室內觀看整個空間，發現這座廢工廠「空間結構很有趣」，裡面有個小夾層(樓中樓)，室內採光又很好，讓過去鍾情老房子、老傢俱的他，決定對空間進行大改造。洪說，最後他用「廢墟價」向房東租下這座空間，由於閒置20年，當時房東還打趣的說「租的時候現況租給你，還的時候不能這樣還給我」。回想改造的過程，洪璽開說光是清掉一座很像山的垃圾，就耗掉一個月的時間，接著他開始搭鐵皮、釘木頭天花板，再來接水電，最後裝潢，還給滿是粉塵的牆壁上漆，陸陸續續添加新傢俱、配備，最後一共花了6個月的時間、20萬餘元的預算，生出了現在的小廢墟烘培工作室。談到最困難的過程，洪璽開說實在太多太多，一開始搭鐵皮必須把整個屋頂都拆掉，當時他請了10個朋友來幫忙，務必要在一天內將它完工，沒想到鐵皮搭完僅兩天就遇到大颱風，雖然鐵皮沒被吹走，但「整個空間各式各樣的滴水」，等颱風走後大家又爬上屋頂，補了1、200支螺絲，針對漏水部分補強，才終於大功告成。此外在施工過程中，它也因為碰到金屬原料，導致全身過敏了一個禮拜，另外接水電時，也碰過一打開開關，結果電器電燈直接燒掉。但洪璽開說，整修過程有辛酸也有收穫，像他在清垃圾找到五個裝著檜木的麻布袋，後來這些木板變成了店內的櫃子，此外他在閣樓的角落，發現一隻禽鳥的骨骸，洪打趣的說，這隻鳥算是自己的學長、長輩，比自己更早來到這個地方守護著這個空間，後來他翻閱書籍，得知這隻鳥類科名「夜鷺」，索性將它的頭骨作為現在店面的LOGO，另外還有一台老舊的電扇，現在已被他改造成復古的燈飾。洪璽開說，「小廢墟烘培工作室」完成後，去年中開始作業，原本他定位這裡是個烘豆的工作室，裡頭擺了兩台烘豆機，還有生豆儲藏室，但後來發現自己一個禮拜只有4天到5天需要工作，既然這個地方好像滿漂亮，索性六、日開始營業賣起咖啡(第二家店)，雖然沒有考慮市場、地點，但目前為止已超出他的預期。談到工作室的未來，洪璽開說自己沒有想太多，但他認為這個神奇的空間充滿各種可能，這是他人生第一次改造空間，但在整修的過程中有了很深的體悟，「很多東西被別人丟掉，得到它後能給它一個新的身分，這東西又能用某種不同的生命延續下去」。(陳思豪/台北報導)APP讀者要看小廢墟烘焙工作室的今昔對比，請點這裡',\n",
       "  'title': '【老屋驚奇系列】文青主唱DIY 改造廢墟變咖啡天堂'},\n",
       " {'clicked': 618,\n",
       "  'dt': datetime.datetime(2017, 2, 19, 11, 3),\n",
       "  'summary': '不少老校舍在歷經歲月淬鍊後，都碰上改建難題；1958年創立的實踐大學（原實踐家專），這幾年也面臨創校第一批校舍改建的命運。在建築設計系助理教授林聖峰與建築師蘇富源團隊努力下，擁有超過50年歷史的校舍，採用更新重新獲得新生，新落成的校舍，結構獲得補強、內外得到更新，也保留原本校舍的風貌與精神，還獲得今年由北市都更處主辦的「老屋新生大獎」金獎殊榮，有學生戲稱校舍以前晚上經過像鬼屋，現在近來上課心情就變好了。林聖峰表示，這幾年實踐進行建築物重建工程，校方的策略是從校門口，一路重建到校園的最裡頭，但大家都知道，座落在最內部的民生學院教學行政大樓與學務大樓，就是實踐創校的第一批校舍，以前還是實踐家專時，正是家政系、社工系在使用的教室。為了保存實踐第一棟建物，林聖峰開始與校方進行周旋，努力說服學校「用更新取代重建」。除了以「第一棟校舍」動之以情，他認為整個空間需求已經足夠，沒有必要花錢蓋更高的大樓，另外最重要是開銷，兩棟房子更新費用最後花了約一億新台幣，若是打掉重建，價格至少會是兩倍起跳。在情理並用後，林聖峰說，從一開始寫研究案，到後來找建築師，測量結構等等，最後花了兩年才說服校方，然後再花4年時間完成改建。而這當中，不免有些許雜音與不滿，林笑笑說，當時主張更新，就有在裡頭上課的老師很生氣問他「為什麼這麼舊的房子，還要我在這住50年？」談到改建過程，負責工程的蘇富源建築師坦言困難重重，首先是老校舍結構有問題，防震係數不足，另外建物歷經多年，許多管線、線路改來改去，最後他們打掉多餘的牆面與樓板，過去補強結構，都採用擴柱（把柱子面積加大）方式，但這樣做法會讓建物比例失衡，因此兩棟建物，分別設五道（民生學院教學大樓）、兩道（學務大樓）剪力牆，讓建物能因應現在的建物安全標準。此外為了保留建物既有的元素，原本教學大樓有老舊的窗花，建築團隊也利用窗花的樣式，在外牆設立了一道凹凸牆板拼裝出來鋁窗，不管什麼季節，太陽照射進來都能讓教室看起來非常明亮。另外校舍外部則以鋼模板為主，讓老舊的校舍有了全新的面貌。另外學務大樓部分，則是設了兩道剪力牆在建物內部，外圍在隔出教室，如此一來可讓整個視野比較明亮，此外也沿著剪力牆架設樓梯並搭建鋼構廁所，讓整體看起來更具現代感。家兒系的陸同學就說，過去在舊校舍上課，有幾次在夏天碰到冷氣壞掉，讓上課的老師爆炸，同學也崩潰，搬到新校舍就不會有這樣問題，另外以前教室晚上經過感覺像來到鬼屋，但新大樓來到這邊心情就變好了。大四準備畢業的食保系郭同學則說，新教室看起來很現代化，比較漂亮，自己覺得很美，但有點遺憾的是，因為準備要畢業了，所以沒辦法進去上課。（陳思豪/台北報導）APP讀者要看實踐大學民生學院的今昔對比，請點這裡',\n",
       "  'title': '【老屋驚奇系列】實踐大學鬼屋校舍 重生後超美還得獎'},\n",
       " {'clicked': 490,\n",
       "  'dt': datetime.datetime(2017, 2, 19, 11, 3),\n",
       "  'summary': '本周最型首次同時有9星入榜，雖然多半是西方女星，但幸好有劉雯在紐約看秀時帥氣的Jason Wu大衣造型和Jolin表演時的率性白色褲裝，為亞洲明星留下2席，而同登第7型的還有穿Alexander McQueen艾蜜莉布朗特（Emily Blunt ）。席琳狄翁（Celine Dion）則穿Mugler早秋斜肩洋裝，與靠著CHANEL洋裝回魂小清新的的艾美亞當斯（Amy Adams）並列第5。第2名寶座競爭激烈，包括凱特王妃的Alexander McQueen一字領禮服、影后艾瑪史東（Emma Stone）的CHANEL洋裝配同款長褲，以及席艾娜米勒（Sienna Miller ）的Dior透膚花卉洋裝。而靈魂歌姬愛黛兒（Adele）在葛萊美獎入圍5獎全拿，黑色、草木綠2套GIVENCHY禮服也強勢奪下本周最型。（時尚中心／綜合報導）',\n",
       "  'title': '【本周最型】天下都是愛黛兒的～連穿GIVENCHY奪第一'},\n",
       " {'clicked': 143,\n",
       "  'dt': datetime.datetime(2017, 2, 19, 11, 3),\n",
       "  'summary': '2016~17德國甲級聯賽凌晨6場第21輪比賽，「足壇好萊塢」拜仁慕尼黑把握下半場長達7分鐘傷停補時，波蘭一哥列凡多夫斯基(Robert Lewandowski)第96分鐘進球，客場1比1逼和「老婦人」柏林赫塔，保持8年不敗紀錄，並以50分穩居榜首，衛冕前景看好。暫居第2超級黑馬萊比錫本輪尚未出賽，落後巴伐利亞人8分。以下是完整比賽結果(主隊在左)：多特蒙德3:0沃夫斯堡法蘭克福0:2因格斯塔特柏林赫塔1:1拜仁慕尼黑梅因茲0:2文達不來梅霍芬海姆2:0達姆斯塔特漢堡2:2弗萊堡(王毓健／綜合報導)',\n",
       "  'title': '【德甲】波蘭神鋒第96分鐘追平 拜仁客場險和'},\n",
       " {'clicked': 571,\n",
       "  'dt': datetime.datetime(2017, 2, 19, 11, 2),\n",
       "  'summary': '北市文化局正在推動「老房子文化運動」計畫，其中最受矚目、佔地最大的陽明山美軍俱樂部，由鈺德科技公司承包改造，共計投入9千5百萬元修繕及活化，已將近千坪空間蛻變為融合黑膠故事館、錄音室、室內展演空間、戶外展演空間、音樂講堂、社區交流的遊憩新亮點，現已免費開放參觀，歡迎民眾來探訪。位於士林區凱旋路49號的「陽明山美軍俱樂部」，產權屬台灣銀行，透過文化局的老房子媒合平台，在2014年公開招標，由鈺德科技中選。歷經兩年多修復，去年底重新開放，平常日周一到周日從早上10點開放到晚上9點。文化局說，美軍俱樂部保存冷戰時期歷史風貌，1968年落成時稱作「草山青少年俱樂部」，專供美軍及其眷屬娛樂、社交聯誼之用。美軍離台後，曾改建為陽明山聯誼社，歇業後，一度荒廢。經修復後改名為 Brick Yard 33 1/3(BY33)，去年底重新開放。文化局說，取名「BY33」，除了來自於場地的特色「紅磚」、「大庭院」以外，還將黑膠唱片的轉速一分鐘33又1/3轉加入其中，完全說明了此場地的軟、硬體概念。生產光碟片的鈺德科技說，為了用原始工法修繕美軍俱樂部的屋頂，特別找了30年前製造美軍俱樂部瓦片的瓦窯廠，雖然已經倒閉，透過老瓦上的5碼舊電話，幸運地追出當年同一批出廠的瓦片，仍留有1萬8千片左右，鈺德全數收購後，用這些瓦片將屋頂修復，完全沒有新舊間的違和感。BY33除規劃美食休憩區域，也設有展示老房子歷史與重建過程的空間，並有一處展覽室作為黑膠唱片發展的微型博物館，原來鈺德科技的榮譽董事長葉進泰有「台灣黑膠之父」美稱，才有此亮點，而原本的室內游泳池則巧妙變身為可提供展覽、表演的多元藝文空間，搭配陽明山自然景致，是值得一遊的遊憩點。(生活中心/台北報導)APP讀者要看美軍俱樂部的今昔對比，請點這裡',\n",
       "  'title': '【老屋驚奇系列】陽明山美軍俱樂部 從荒蕪變身黑膠故事館'},\n",
       " {'clicked': 501,\n",
       "  'dt': datetime.datetime(2017, 2, 19, 11, 2),\n",
       "  'summary': '許多人出國都會碰到，還沒到住宿check in時間，但是拖著行李又不方便逛街的窘境！現在到東京旅遊不會有這個問題了！日本網站ecbo cloak和店家合作，提供旅客行李寄放服務，一件行李箱一天寄放費用只要台幣160多元，免除得四處找寄放櫃的麻煩囉。 ecbo cloak這個共享經濟平台像是行李版Airbnb，連結了東京的特色店家、咖啡店，甚至拉麵店等。店家提供多餘空間讓旅客暫時寄放行李，讓遊客方便，也讓店家利用空間賺取額外收入。除了行李箱外，你的shopping戰利品、也都能寄放，再不必擔心得提著大包小包逛街。 操作方面，旅客可以先上網預約，或是下載APP，利用定位尋找離你最近的店家寄放行李，預約後到店家寄放行李時，店家會拍照作為存證，之後就可以兩手鬆鬆去玩樂，只要在店家閉店前付款取件就可以啦。 費用部分，手提袋等45公分以內行李一天收費300日圓，約台幣82元；超過45公分的一天收費600日圓，約台幣164元。（游瓊華／綜合外電報導） 社團「蘋果花愛Shopping」副刊中心粉絲團：吃喝玩樂蘋果花',\n",
       "  'title': '50年來新革命！東京推咖啡店寄放行李'},\n",
       " {'clicked': 327,\n",
       "  'dt': datetime.datetime(2017, 2, 19, 11, 0),\n",
       "  'summary': '台北市政府都市更新處過去幾年，一直致力於都市更新與都市再生相關工作，除了常見的公辦、民辦都更，近年來大力推廣的就是老屋新生。更新處認為，比起整棟建物打掉重建，老屋更能延續歷史與情感，更能影響周圍街區進而有更多互動，這樣的作法，不僅讓大家看見台北蘊藏的創新與活力，也能看到整座城市面貌的紋理。更新處科長胡如君表示，更新處在2001年舉行老屋彩妝獎，當時比較注重房子外觀、立面，但從2012年開始，這座獎更名為老屋新生獎，鼓勵大家將建物做整建維護，而不是一昧的只走拆除重建之路。胡如君表示，老屋新生獎看的不只是外觀，也包含內在的空間裝潢，看老屋是否注入新的靈魂，更新處認為這樣的改造不像商業區的更新，反而更能帶動周邊、影響左右鄰居，讓大家彼此有更多互動。由於經費有限，老屋新生獎每年總獎金僅40萬元，評審頒發金、銀、銅、特別獎（數量無限制），評審再看得獎情形做獎金調配，這幾年有不少建物拿獎，包括實踐民生學院教學大樓，過去的smith&hsu衡陽店、北投文物館、中山創意基地URS21、日新國小紅樓、民藝埕等。（陳思豪/台北報導）',\n",
       "  'title': '【老屋驚奇系列】北市推老屋新生 保留城市的情感與歷史'},\n",
       " {'clicked': 31458,\n",
       "  'dt': datetime.datetime(2017, 2, 19, 11, 0),\n",
       "  'summary': '台視前美女主播張宇，今在臉書宣布已與政大學長男友，Tutor ABC副總裁劉彥谷於2/15日登記結婚，未來兩人將與家人舉行海外婚禮，已經成為劉太太的她甜蜜透露，「他很鼓勵我做喜歡的事，也很疼我，永遠都讓著我，就覺得是他了。」宣布死會。張宇曾是台視力捧女主播，也曾獲票選最正女主播，但去年七月她毅然離開台視，自爆「畢業了」，遠赴巴西擔任Tutor ABC的奧運大使，並與劉彥谷出雙入對被拍，種種情況都顯示好事近了。兩人去年四月開始交往，日前劉彥谷突然無預警求婚，張宇說，「我們是在日常的親戚聚會場合，他突然把我拉進表姊書房，說想聽我彈鋼琴，當時我一頭霧水，想不到莫名其妙被拉進書房後竟然是求婚，戒指就藏在書堆裡面，我看到當場傻眼，覺得也太搞笑了吧！不過也有感動的地方，當他說願意『為了妳奮鬥一輩子』的時候，自己激動掉眼淚，但我卻莫名覺得幽默大笑，怎麼10秒就嫁掉了 」。至於兩人會結為連理的關鍵，張宇表示，「我們有很多共同興趣，比如運動、看冷僻電影，雖然他是工作狂，平常工作很辛苦很嚴肅但在我身邊就像個孩子，在一起感到無比自在、輕鬆，我們也都把彼此的家人當成自己的家人，我們講垃圾話，也一起規劃人生，在他身邊，我變成一個很穩定的人，覺得可以一起承擔父母變老的責任，可以分享未來30年的人生，他很鼓勵我做喜歡的事，也很疼我，永遠都讓著我，就覺得是他了」。【新人小檔案】新娘：張宇年齡：31歲（1985╱12╱28）身高體重：163公分╱45公斤三圍：34D、24、35學歷：政治大學廣電系畢經歷：2009年台視「百萬主播」亞軍，加入台視新聞；2013年獲網友票選「台灣最正10大主播」冠軍，在台視擔任主播期間，播報《早安最前線》、《台視新聞全球現場》與《台視午間新聞》，並曾主持《正妹讚出來》但去年七月閃離主播台新郎：劉彥谷年齡：31歲（1985╱1╱17）身高體重：176公分/73公斤學歷：政治大學廣電系畢經歷：現任Tutor ABC副總裁',\n",
       "  'title': '【獨家】主播張宇10秒變人妻 閃嫁線上英語教學副總裁'},\n",
       " {'clicked': 11388,\n",
       "  'dt': datetime.datetime(2017, 2, 19, 10, 58),\n",
       "  'summary': '新增:影片國際大都會最豪氣的社區，大多位在市區邊緣的山坡上，以無敵景觀、隱密寬敞著稱，如香港太平山、加州的比佛利山別墅區，台中市則以大肚山脊南側的溫泉路、靠近清新溫泉飯店處最知名，豪宅建商精湛建設在此區開發10年，最豪氣的別墅社區儼然成形。精湛建設自10年前開始在溫泉路興建獨棟豪墅，2007年推出的「台中會」共30戶獨棟住宅，地坪150~350坪，2010年推出的「台中會II」在買家要求合併下，從原本的23戶合併至僅12戶，地坪450~900多坪，戶戶獨棟且客製化，最重要的是，每戶皆可居高臨下俯覽台中市全景，是台中唯一的別墅社區。精湛建設總經理陳志聲表示，國外這種郊山別墅社區，距離市區都有較長距離，不過「台中會」距離高鐵、7期都僅15分鐘，多了交通便利性，2期在預售階段即完銷，第3期基地達萬坪，也是這裡最後一塊地，採分割土地方式出售，並配合客戶需求做建議、設計或興建。「台中會」系列每戶億元以上，已購客多為上市櫃公司老闆，陳志聲在兩期別墅也各留1戶作為自己的家，建築內部規劃簡潔大方，優雅舒適。精湛建設自2014年起看壞房市，至今已超過3年沒推案，公司以服務舊客戶及接營造案件為主。（洪子恩／台中報導）上架0612更新1058想了解更多中部房市訊息，請到蘋果地產王粉絲團',\n",
       "  'title': '【有片】比7期還要「豪」 台中比佛利山在這'},\n",
       " {'clicked': 312,\n",
       "  'dt': datetime.datetime(2017, 2, 19, 10, 58),\n",
       "  'summary': '禽流感疫情延燒，農委會宣布除室內飼養且直送屠宰場的白肉雞，全國其餘家禽禁宰禁運7天。今日為雞鴨鵝禁宰運第3天，雲林縣西螺傳統及黃昏消費市場內，賣生鮮雞鴨肉攤則無貨源可賣，暫停營業；而市場中賣熟食鹹水、烤雞鴨的台西鵝肉攤、脆皮烤家鴨肉攤等業者。異口同聲說，禽流感疫情上升，消費者却步，生意受影響減3成。農委會禁宰運另一出，受影響最大的則是賣生鮮雞鴨鵝肉攤業者，由於傳統市場消費者型態喜歡現宰新鮮雞鴨肉，不喜歡冷凍肉品，許多攤商則因禁宰無貨源可賣，紛紛停業；程姓民眾表示，雖然說煮熟就沒問題。但還是會怕，暫不吃雞鴨肉，還有豬肉、魚肉及其他可買。，黃昏市場專賣脆皮烤鴨、烤雞的「金典烤鴨」則是生意大受影響，業者蘇水科指出，禽流感疫情升高，雖貨源充裕，但民眾不敢消費，業績掉了3成。專賣鹹水雞、鴨及鵝肉的「台西鵝肉專賣店」業者林煒傑說，貨源還能撐3天無虞，但消費大眾聽到禽流感色變，雖然熟食安全無虞，但影響消費意願，減少3成左右，現階段價格持平，怕疫情擴大升高，影響消費大眾購買意願。（李政遠／雲林報導）',\n",
       "  'title': '市場生鮮雞鴨肉攤停業 熟食烤雞鴨掉3成'},\n",
       " {'clicked': 608,\n",
       "  'dt': datetime.datetime(2017, 2, 19, 10, 53),\n",
       "  'summary': '2024年奧運主辦城市將於9月公布，國際奧會主席巴哈Thomas Bach接受媒體訪問時談到，由於布達佩斯近期可能宣布退出申辦，使得目前僅剩下巴黎與洛杉磯想要爭辦奧運，巴哈期待這兩個城市，都能再9月同時決定獲得2024及2028奧運。巴哈表示，未來若2城市都取得了申辦資格，將由委員會票選主辦先後順序，一般預料由於美國政情變化大，2024可能先由巴黎主辦，洛杉磯可能延至接辦2028主辦奧運。(陳國偉／綜合報導)【更多體育新聞訊息，請加入《蘋果運動超級吧》粉絲團】',\n",
       "  'title': '申辦奧運通通有獎 巴哈：洛杉磯、巴黎都可辦'},\n",
       " {'clicked': 278,\n",
       "  'dt': datetime.datetime(2017, 2, 19, 10, 53),\n",
       "  'summary': '全台截至昨天已發生22場禽流感案例，撲殺13萬9千多隻，為避免出現類似大陸禽傳人感染死亡病例，新北市動保處針對多座橋下、碼頭等野鴿聚集處，加強消毒，日前抽檢中正橋與新店碧潭兩地野鴿糞便，皆為陰性，但仍呼籲民眾不接觸、不餵食野鴿，避免疫情擴大。新北市政府上月13日成立禽流感緊急應變小組，在全國疫情加劇下，緊急應變小組特別針對野鴿聚集的公共區域，進行高規格防疫工作，同時強力取締餵食野鳥民眾，以避免疾病傳播。動保處本月17、18日分別至永和中正橋下及新店碧潭野鴿聚集處，進行禽流感病毒快篩抽驗，皆未感染禽流感病毒。各公所公園管理單位、高灘處及體育處場館每日，皆會派員巡查，地點包括華江橋下、成蘆橋下等處等野鳥聚集處，勸導民眾勿任意餵食野鴿。若有不聽勸阻民眾，會依《廢棄物清理法》查處，可處最高6000元罰鍰，若有人發現他人任意餵養野鴿，亦可提供相關具體事證，給各地環保派出所稽查人員裁處。農業局長李玟表示，民眾若有發現住家周圍有野鳥（鴿）聚集，應謹守不餵食不接觸原則，環境徹底清潔打掃及消毒，使其自然離開都會區；另外防範禽流感，可從個人養成衛生良好習慣做起，禽肉和蛋類應煮熟食用。（突發中心曾佳俊／新北報導）',\n",
       "  'title': '新北抽驗野鴿糞便呈陰性 民眾餵食恐遭罰'},\n",
       " {'clicked': 139,\n",
       "  'dt': datetime.datetime(2017, 2, 19, 10, 51),\n",
       "  'summary': '2016~17西班牙足球甲級聯賽凌晨結束4場第23輪比賽，「銀河艦隊」皇家馬德里主場2比0完勝皇家西班牙人，少賽2場仍確保榜首地位；塞維亞主場2比0完勝艾伊巴、馬德里競技客場4比1大破希洪競技，也穩住前4名歐洲冠軍聯賽資格席位。另場比賽前冠軍名門拉科魯尼亞主場0比1敗給阿拉貝斯競技，但仍離降級區有1輪以上安全距離。皇家馬德里主場告捷，本季以替補為主本土中場伊斯科(Isco)是最大功臣。他第33分鐘在禁區右側2名防守球員中橫傳遠柱，助攻本土前鋒莫拉塔(Álvaro Morata)頭槌破門；第83分鐘他又展現另種妙傳技巧，中場左路地面直傳，讓威爾斯天王貝爾(Gareth Bale)在跑到越位位置前得球，貝爾隨後帶球入禁區，左側小角度推向遠柱破門，傷癒復出首場就進球。賽後皇馬少賽場積52分仍居榜首，塞維亞49分次之，本輪尚未出賽巴塞隆納48分居第3，馬競45分第4。第5皇家社會41分、第6比亞雷亞爾36分本輪都尚未出賽，2隊已確定在本輪過後排名不會變動。(王毓健／綜合報導)',\n",
       "  'title': '【西甲】伊斯科2妙傳貝爾傷癒進球 皇馬完勝保榜首'},\n",
       " {'clicked': 1087,\n",
       "  'dt': datetime.datetime(2017, 2, 19, 10, 46),\n",
       "  'summary': '北韓領導人金正恩的兄長金正男遇刺身亡，其中一名女嫌犯身上穿著LOLT恤，因新聞事件而猛曝光，美國服裝設計師希望藉此帶動相似服飾的銷量，不過目前該網站銷售反應平平。涉嫌刺殺金正男其中一名女子在案發時，穿著一件寫著「LOL」(laugh out loud，大笑)字樣的T恤。自稱名祖兒(Joel)的設計師，認為嫌犯穿著T恤非常「有型」，而他也一直尋找有新聞價值的設計。他說，北韓領導人違反人權的劣跡，蓋過任何反對售賣該款T恤的理由。祖兒說，他的「LOL」T恤目前銷量普通，但相信未來可吸引女權份子、網友和任何反對北韓和其他法西斯政權的人購買。目前有出售數款「LOL」T恤的網路商店Redbubble，未對事件置評。（國際中心／綜合外電報導）跟上國際脈動，快來蘋果繞著地球爆按讚',\n",
       "  'title': '金正男遇刺讓LOL服飾曝光 設計師盼提昇銷量'},\n",
       " {'clicked': 5603,\n",
       "  'dt': datetime.datetime(2017, 2, 19, 10, 45),\n",
       "  'summary': '一名在飲料店工作的女網友，po文分享印象最深刻的客人，引起許多網友回響。女網友在《Dcard》po文說，日前一名男生點完飲料，她要伸手收錢時，發現對方的手黑黑髒髒的，他突然開口說：「我放在桌上就好，我不想弄髒妳的手⋯」。做好飲料後，男客人沒有馬上過去拿，她大概知道意思，就將飲料放在桌上，對方才過去拿。原po說：「我不介意你那雙認真工作的雙手，會弄髒我們的手，反倒是那些表面看起來乾淨的雙手，事實上，卻是愛在付零錢的時候，偷摸女店員的手，那才是真的弄髒我們的手了⋯」。她說：「真的什麼客人都會遇到⋯這次遇到一個貼心的客人，謝謝你的貼心。」這篇文章引起許多網友討論：「通常這樣的男人都有顆柔軟的心」、「一句謝謝你 看似簡單 但超暖」、「好貼心哦天啊」、「你也很善良」，也有網友說：「如果是我，我會說沒關係堅持拿給他欸，然後說 我並沒有覺得會弄髒。」（即時新聞中心／綜合報導）',\n",
       "  'title': '「不想弄髒妳的手」 貼心男客感動網友'}]"
      ]
     },
     "execution_count": 118,
     "metadata": {},
     "output_type": "execute_result"
    }
   ],
   "source": [
    "newsary"
   ]
  },
  {
   "cell_type": "markdown",
   "metadata": {},
   "source": [
    "### 字典操作"
   ]
  },
  {
   "cell_type": "code",
   "execution_count": 109,
   "metadata": {
    "collapsed": false
   },
   "outputs": [
    {
     "name": "stdout",
     "output_type": "stream",
     "text": [
      "{'a': 100, 'b': 'yes', 'c': 0.98}\n",
      "dict_keys(['a', 'b', 'c'])\n",
      "dict_values([100, 'yes', 0.98])\n",
      "100\n",
      "100\n"
     ]
    }
   ],
   "source": [
    "#declare dictionary \n",
    "dic = {'a':100, 'b':\"yes\", 'c':0.98} \n",
    "print(dic)\n",
    "\n",
    "#get keys in dictionary \n",
    "print(dic.keys())\n",
    "\n",
    "#get values in dictionary \n",
    "print(dic.values())\n",
    "\n",
    "#get value of given key \n",
    "print(dic['a'])\n",
    "\n",
    "#get value of given key \n",
    "print(dic.get('a'))\n"
   ]
  },
  {
   "cell_type": "code",
   "execution_count": 110,
   "metadata": {
    "collapsed": false
   },
   "outputs": [
    {
     "ename": "KeyError",
     "evalue": "'d'",
     "output_type": "error",
     "traceback": [
      "\u001b[0;31m---------------------------------------------------------------------------\u001b[0m",
      "\u001b[0;31mKeyError\u001b[0m                                  Traceback (most recent call last)",
      "\u001b[0;32m<ipython-input-110-305c23ee86bd>\u001b[0m in \u001b[0;36m<module>\u001b[0;34m()\u001b[0m\n\u001b[1;32m      1\u001b[0m \u001b[1;31m#get value of given key\u001b[0m\u001b[1;33m\u001b[0m\u001b[1;33m\u001b[0m\u001b[0m\n\u001b[0;32m----> 2\u001b[0;31m \u001b[0mprint\u001b[0m\u001b[1;33m(\u001b[0m\u001b[0mdic\u001b[0m\u001b[1;33m[\u001b[0m\u001b[1;34m'd'\u001b[0m\u001b[1;33m]\u001b[0m\u001b[1;33m)\u001b[0m\u001b[1;33m\u001b[0m\u001b[0m\n\u001b[0m",
      "\u001b[0;31mKeyError\u001b[0m: 'd'"
     ]
    }
   ],
   "source": [
    "#get value of given key \n",
    "print(dic['d'])"
   ]
  },
  {
   "cell_type": "code",
   "execution_count": 113,
   "metadata": {
    "collapsed": false
   },
   "outputs": [
    {
     "name": "stdout",
     "output_type": "stream",
     "text": [
      "None\n",
      "default\n",
      "100\n"
     ]
    }
   ],
   "source": [
    "#get value of given key \n",
    "print(dic.get('d'))\n",
    "print(dic.get('d', 'default'))\n",
    "\n",
    "print(dic.get('a', 'default'))"
   ]
  },
  {
   "cell_type": "code",
   "execution_count": 114,
   "metadata": {
    "collapsed": false
   },
   "outputs": [
    {
     "name": "stdout",
     "output_type": "stream",
     "text": [
      "{'a': 100, 'b': 'yes', 'c': 0.98, 'd': 'new'}\n",
      "{'a': 100, 'b': 'yes', 'c': 0.98, 'd': 'new', 'e': 123}\n",
      "a 100\n",
      "b yes\n",
      "c 0.98\n",
      "d new\n",
      "e 123\n"
     ]
    }
   ],
   "source": [
    "#add entry into dictionary \n",
    "dic['d'] = 'new' \n",
    "print(dic) \n",
    "\n",
    "#add entry into dictionary \n",
    "dic.update({'e':123}) \n",
    "print(dic) \n",
    "\n",
    "# iter the dictionary \n",
    "for rec in dic: \n",
    "    print(rec, dic[rec])"
   ]
  }
 ],
 "metadata": {
  "kernelspec": {
   "display_name": "Python 3",
   "language": "python",
   "name": "python3"
  },
  "language_info": {
   "codemirror_mode": {
    "name": "ipython",
    "version": 3
   },
   "file_extension": ".py",
   "mimetype": "text/x-python",
   "name": "python",
   "nbconvert_exporter": "python",
   "pygments_lexer": "ipython3",
   "version": "3.6.0"
  }
 },
 "nbformat": 4,
 "nbformat_minor": 2
}
